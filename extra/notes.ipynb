{
 "cells": [
  {
   "cell_type": "markdown",
   "id": "c02a3e10",
   "metadata": {},
   "source": [
    "Important links: [dataset](https://www.kaggle.com/datasets/uom190346a/sleep-health-and-lifestyle-dataset/data)\n",
    "- [Stress Level Detection 97](https://www.kaggle.com/code/tanayatipre/stress-level-detection)\n",
    "- [Stress affection on Sleep and Health ](https://www.kaggle.com/code/romanniki/stress-affection-on-sleep-and-health/notebook)"
   ]
  }
 ],
 "metadata": {
  "language_info": {
   "name": "python"
  }
 },
 "nbformat": 4,
 "nbformat_minor": 5
}
