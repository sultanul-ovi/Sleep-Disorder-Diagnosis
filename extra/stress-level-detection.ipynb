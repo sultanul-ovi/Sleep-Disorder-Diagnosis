{
 "cells": [
  {
   "cell_type": "markdown",
   "id": "cc4b3a51",
   "metadata": {
    "papermill": {
     "duration": 0.01821,
     "end_time": "2024-04-18T18:02:49.566641",
     "exception": false,
     "start_time": "2024-04-18T18:02:49.548431",
     "status": "completed"
    },
    "tags": []
   },
   "source": [
    "# 1. Introduction"
   ]
  },
  {
   "cell_type": "markdown",
   "id": "34cf00a6",
   "metadata": {
    "papermill": {
     "duration": 0.016786,
     "end_time": "2024-04-18T18:02:49.602672",
     "exception": false,
     "start_time": "2024-04-18T18:02:49.585886",
     "status": "completed"
    },
    "tags": []
   },
   "source": [
    "This project aims to predict the stress level of individuals based on various features such as sleep duration, quality of sleep, physical activity level, BMI category, blood pressure, etc. \n",
    "The dataset used contains information about individuals including their sleep habits, physical activity, and stress levels.\n",
    "\n",
    "The dataset used: https://www.kaggle.com/datasets/uom190346a/sleep-health-and-lifestyle-dataset\n",
    "\n",
    "Mainly this dataset is used for Sleep Disorder Prediction, however I have utilized it for Stress Level Prediction as it fits the purpose."
   ]
  },
  {
   "cell_type": "markdown",
   "id": "1b51b13c",
   "metadata": {
    "papermill": {
     "duration": 0.017052,
     "end_time": "2024-04-18T18:02:49.636686",
     "exception": false,
     "start_time": "2024-04-18T18:02:49.619634",
     "status": "completed"
    },
    "tags": []
   },
   "source": [
    "**Data Dictionary**\n",
    "\n",
    "1. **Person ID**: An identifier for each individual.\n",
    "2. **Gender**: The gender of the person (Male/Female).\n",
    "3. **Age**: The age of the person in years.\n",
    "4. **Occupation**: The occupation or profession of the person.\n",
    "5. **Sleep Duration (hours)**: The number of hours the person sleeps per day.\n",
    "6. **Quality of Sleep (scale: 1-10)**: A subjective rating of the quality of sleep, ranging from 1 to 10.\n",
    "7. **Physical Activity Level (minutes/day)**: The number of minutes the person engages in physical activity daily.\n",
    "8. **Stress Level (scale: 1-10)**: A subjective rating of the stress level experienced by the person, ranging from 1 to 10.\n",
    "9. **BMI Category**: The BMI category of the person (e.g., Underweight, Normal, Overweight).\n",
    "10. **Blood Pressure (systolic/diastolic)**: The blood pressure measurement of the person, indicated as systolic pressure over diastolic pressure.\n",
    "11. **Heart Rate (bpm)**: The resting heart rate of the person in beats per minute.\n",
    "12. **Daily Steps**: The number of steps the person takes per day.\n"
   ]
  },
  {
   "cell_type": "markdown",
   "id": "6c4b29ff",
   "metadata": {
    "papermill": {
     "duration": 0.016536,
     "end_time": "2024-04-18T18:02:49.670213",
     "exception": false,
     "start_time": "2024-04-18T18:02:49.653677",
     "status": "completed"
    },
    "tags": []
   },
   "source": [
    "# 2. Importing Libraries"
   ]
  },
  {
   "cell_type": "markdown",
   "id": "68e82807",
   "metadata": {
    "papermill": {
     "duration": 0.016695,
     "end_time": "2024-04-18T18:02:49.703958",
     "exception": false,
     "start_time": "2024-04-18T18:02:49.687263",
     "status": "completed"
    },
    "tags": []
   },
   "source": [
    "Initially, I have imported the fundamental libraries essential for data loading, exploration and visualization. I have installed the additional model based libraries and tools in the later part.\n",
    "\n"
   ]
  },
  {
   "cell_type": "code",
   "execution_count": 1,
   "id": "9646e873",
   "metadata": {
    "execution": {
     "iopub.execute_input": "2024-04-18T18:02:49.744656Z",
     "iopub.status.busy": "2024-04-18T18:02:49.742623Z",
     "iopub.status.idle": "2024-04-18T18:02:52.652494Z",
     "shell.execute_reply": "2024-04-18T18:02:52.651229Z"
    },
    "papermill": {
     "duration": 2.931055,
     "end_time": "2024-04-18T18:02:52.655250",
     "exception": false,
     "start_time": "2024-04-18T18:02:49.724195",
     "status": "completed"
    },
    "tags": []
   },
   "outputs": [],
   "source": [
    "import pandas as pd\n",
    "import numpy as np\n",
    "import plotly.express as px\n",
    "import seaborn as sns\n",
    "import matplotlib.pyplot as plt\n",
    "\n",
    "import warnings\n",
    "warnings.filterwarnings(\"ignore\")"
   ]
  },
  {
   "cell_type": "markdown",
   "id": "d893da48",
   "metadata": {
    "papermill": {
     "duration": 0.016543,
     "end_time": "2024-04-18T18:02:52.689388",
     "exception": false,
     "start_time": "2024-04-18T18:02:52.672845",
     "status": "completed"
    },
    "tags": []
   },
   "source": [
    "# 3. Loading the Dataset"
   ]
  },
  {
   "cell_type": "code",
   "execution_count": 2,
   "id": "5b1e2361",
   "metadata": {
    "execution": {
     "iopub.execute_input": "2024-04-18T18:02:52.725672Z",
     "iopub.status.busy": "2024-04-18T18:02:52.724298Z",
     "iopub.status.idle": "2024-04-18T18:02:52.755140Z",
     "shell.execute_reply": "2024-04-18T18:02:52.754124Z"
    },
    "papermill": {
     "duration": 0.051218,
     "end_time": "2024-04-18T18:02:52.757488",
     "exception": false,
     "start_time": "2024-04-18T18:02:52.706270",
     "status": "completed"
    },
    "tags": []
   },
   "outputs": [],
   "source": [
    "stress = pd.read_csv(\"/kaggle/input/sleep-health-and-lifestyle-dataset/Sleep_health_and_lifestyle_dataset.csv\")"
   ]
  },
  {
   "cell_type": "markdown",
   "id": "e01ee3d0",
   "metadata": {
    "papermill": {
     "duration": 0.017109,
     "end_time": "2024-04-18T18:02:52.791835",
     "exception": false,
     "start_time": "2024-04-18T18:02:52.774726",
     "status": "completed"
    },
    "tags": []
   },
   "source": [
    "# 4. Data Exploration"
   ]
  },
  {
   "cell_type": "code",
   "execution_count": 3,
   "id": "24f022fe",
   "metadata": {
    "execution": {
     "iopub.execute_input": "2024-04-18T18:02:52.828334Z",
     "iopub.status.busy": "2024-04-18T18:02:52.827543Z",
     "iopub.status.idle": "2024-04-18T18:02:52.849616Z",
     "shell.execute_reply": "2024-04-18T18:02:52.848532Z"
    },
    "papermill": {
     "duration": 0.042659,
     "end_time": "2024-04-18T18:02:52.851777",
     "exception": false,
     "start_time": "2024-04-18T18:02:52.809118",
     "status": "completed"
    },
    "tags": []
   },
   "outputs": [
    {
     "data": {
      "text/html": [
       "<div>\n",
       "<style scoped>\n",
       "    .dataframe tbody tr th:only-of-type {\n",
       "        vertical-align: middle;\n",
       "    }\n",
       "\n",
       "    .dataframe tbody tr th {\n",
       "        vertical-align: top;\n",
       "    }\n",
       "\n",
       "    .dataframe thead th {\n",
       "        text-align: right;\n",
       "    }\n",
       "</style>\n",
       "<table border=\"1\" class=\"dataframe\">\n",
       "  <thead>\n",
       "    <tr style=\"text-align: right;\">\n",
       "      <th></th>\n",
       "      <th>Person ID</th>\n",
       "      <th>Gender</th>\n",
       "      <th>Age</th>\n",
       "      <th>Occupation</th>\n",
       "      <th>Sleep Duration</th>\n",
       "      <th>Quality of Sleep</th>\n",
       "      <th>Physical Activity Level</th>\n",
       "      <th>Stress Level</th>\n",
       "      <th>BMI Category</th>\n",
       "      <th>Blood Pressure</th>\n",
       "      <th>Heart Rate</th>\n",
       "      <th>Daily Steps</th>\n",
       "      <th>Sleep Disorder</th>\n",
       "    </tr>\n",
       "  </thead>\n",
       "  <tbody>\n",
       "    <tr>\n",
       "      <th>0</th>\n",
       "      <td>1</td>\n",
       "      <td>Male</td>\n",
       "      <td>27</td>\n",
       "      <td>Software Engineer</td>\n",
       "      <td>6.1</td>\n",
       "      <td>6</td>\n",
       "      <td>42</td>\n",
       "      <td>6</td>\n",
       "      <td>Overweight</td>\n",
       "      <td>126/83</td>\n",
       "      <td>77</td>\n",
       "      <td>4200</td>\n",
       "      <td>NaN</td>\n",
       "    </tr>\n",
       "    <tr>\n",
       "      <th>1</th>\n",
       "      <td>2</td>\n",
       "      <td>Male</td>\n",
       "      <td>28</td>\n",
       "      <td>Doctor</td>\n",
       "      <td>6.2</td>\n",
       "      <td>6</td>\n",
       "      <td>60</td>\n",
       "      <td>8</td>\n",
       "      <td>Normal</td>\n",
       "      <td>125/80</td>\n",
       "      <td>75</td>\n",
       "      <td>10000</td>\n",
       "      <td>NaN</td>\n",
       "    </tr>\n",
       "    <tr>\n",
       "      <th>2</th>\n",
       "      <td>3</td>\n",
       "      <td>Male</td>\n",
       "      <td>28</td>\n",
       "      <td>Doctor</td>\n",
       "      <td>6.2</td>\n",
       "      <td>6</td>\n",
       "      <td>60</td>\n",
       "      <td>8</td>\n",
       "      <td>Normal</td>\n",
       "      <td>125/80</td>\n",
       "      <td>75</td>\n",
       "      <td>10000</td>\n",
       "      <td>NaN</td>\n",
       "    </tr>\n",
       "    <tr>\n",
       "      <th>3</th>\n",
       "      <td>4</td>\n",
       "      <td>Male</td>\n",
       "      <td>28</td>\n",
       "      <td>Sales Representative</td>\n",
       "      <td>5.9</td>\n",
       "      <td>4</td>\n",
       "      <td>30</td>\n",
       "      <td>8</td>\n",
       "      <td>Obese</td>\n",
       "      <td>140/90</td>\n",
       "      <td>85</td>\n",
       "      <td>3000</td>\n",
       "      <td>Sleep Apnea</td>\n",
       "    </tr>\n",
       "    <tr>\n",
       "      <th>4</th>\n",
       "      <td>5</td>\n",
       "      <td>Male</td>\n",
       "      <td>28</td>\n",
       "      <td>Sales Representative</td>\n",
       "      <td>5.9</td>\n",
       "      <td>4</td>\n",
       "      <td>30</td>\n",
       "      <td>8</td>\n",
       "      <td>Obese</td>\n",
       "      <td>140/90</td>\n",
       "      <td>85</td>\n",
       "      <td>3000</td>\n",
       "      <td>Sleep Apnea</td>\n",
       "    </tr>\n",
       "  </tbody>\n",
       "</table>\n",
       "</div>"
      ],
      "text/plain": [
       "   Person ID Gender  Age            Occupation  Sleep Duration  \\\n",
       "0          1   Male   27     Software Engineer             6.1   \n",
       "1          2   Male   28                Doctor             6.2   \n",
       "2          3   Male   28                Doctor             6.2   \n",
       "3          4   Male   28  Sales Representative             5.9   \n",
       "4          5   Male   28  Sales Representative             5.9   \n",
       "\n",
       "   Quality of Sleep  Physical Activity Level  Stress Level BMI Category  \\\n",
       "0                 6                       42             6   Overweight   \n",
       "1                 6                       60             8       Normal   \n",
       "2                 6                       60             8       Normal   \n",
       "3                 4                       30             8        Obese   \n",
       "4                 4                       30             8        Obese   \n",
       "\n",
       "  Blood Pressure  Heart Rate  Daily Steps Sleep Disorder  \n",
       "0         126/83          77         4200            NaN  \n",
       "1         125/80          75        10000            NaN  \n",
       "2         125/80          75        10000            NaN  \n",
       "3         140/90          85         3000    Sleep Apnea  \n",
       "4         140/90          85         3000    Sleep Apnea  "
      ]
     },
     "execution_count": 3,
     "metadata": {},
     "output_type": "execute_result"
    }
   ],
   "source": [
    "# Display the first 5 rows of the dataset\n",
    "stress.head()"
   ]
  },
  {
   "cell_type": "code",
   "execution_count": 4,
   "id": "02e6de63",
   "metadata": {
    "execution": {
     "iopub.execute_input": "2024-04-18T18:02:52.942844Z",
     "iopub.status.busy": "2024-04-18T18:02:52.942458Z",
     "iopub.status.idle": "2024-04-18T18:02:52.969852Z",
     "shell.execute_reply": "2024-04-18T18:02:52.968969Z"
    },
    "papermill": {
     "duration": 0.103138,
     "end_time": "2024-04-18T18:02:52.972291",
     "exception": false,
     "start_time": "2024-04-18T18:02:52.869153",
     "status": "completed"
    },
    "tags": []
   },
   "outputs": [
    {
     "name": "stdout",
     "output_type": "stream",
     "text": [
      "<class 'pandas.core.frame.DataFrame'>\n",
      "RangeIndex: 374 entries, 0 to 373\n",
      "Data columns (total 13 columns):\n",
      " #   Column                   Non-Null Count  Dtype  \n",
      "---  ------                   --------------  -----  \n",
      " 0   Person ID                374 non-null    int64  \n",
      " 1   Gender                   374 non-null    object \n",
      " 2   Age                      374 non-null    int64  \n",
      " 3   Occupation               374 non-null    object \n",
      " 4   Sleep Duration           374 non-null    float64\n",
      " 5   Quality of Sleep         374 non-null    int64  \n",
      " 6   Physical Activity Level  374 non-null    int64  \n",
      " 7   Stress Level             374 non-null    int64  \n",
      " 8   BMI Category             374 non-null    object \n",
      " 9   Blood Pressure           374 non-null    object \n",
      " 10  Heart Rate               374 non-null    int64  \n",
      " 11  Daily Steps              374 non-null    int64  \n",
      " 12  Sleep Disorder           155 non-null    object \n",
      "dtypes: float64(1), int64(7), object(5)\n",
      "memory usage: 38.1+ KB\n"
     ]
    }
   ],
   "source": [
    "# Display the data types, non-null counts, and memory usage.\n",
    "stress.info()"
   ]
  },
  {
   "cell_type": "code",
   "execution_count": 5,
   "id": "6609f165",
   "metadata": {
    "execution": {
     "iopub.execute_input": "2024-04-18T18:02:53.009126Z",
     "iopub.status.busy": "2024-04-18T18:02:53.008276Z",
     "iopub.status.idle": "2024-04-18T18:02:53.039758Z",
     "shell.execute_reply": "2024-04-18T18:02:53.038675Z"
    },
    "papermill": {
     "duration": 0.052521,
     "end_time": "2024-04-18T18:02:53.042247",
     "exception": false,
     "start_time": "2024-04-18T18:02:52.989726",
     "status": "completed"
    },
    "tags": []
   },
   "outputs": [
    {
     "data": {
      "text/html": [
       "<div>\n",
       "<style scoped>\n",
       "    .dataframe tbody tr th:only-of-type {\n",
       "        vertical-align: middle;\n",
       "    }\n",
       "\n",
       "    .dataframe tbody tr th {\n",
       "        vertical-align: top;\n",
       "    }\n",
       "\n",
       "    .dataframe thead th {\n",
       "        text-align: right;\n",
       "    }\n",
       "</style>\n",
       "<table border=\"1\" class=\"dataframe\">\n",
       "  <thead>\n",
       "    <tr style=\"text-align: right;\">\n",
       "      <th></th>\n",
       "      <th>Person ID</th>\n",
       "      <th>Age</th>\n",
       "      <th>Sleep Duration</th>\n",
       "      <th>Quality of Sleep</th>\n",
       "      <th>Physical Activity Level</th>\n",
       "      <th>Stress Level</th>\n",
       "      <th>Heart Rate</th>\n",
       "      <th>Daily Steps</th>\n",
       "    </tr>\n",
       "  </thead>\n",
       "  <tbody>\n",
       "    <tr>\n",
       "      <th>count</th>\n",
       "      <td>374.000000</td>\n",
       "      <td>374.000000</td>\n",
       "      <td>374.000000</td>\n",
       "      <td>374.000000</td>\n",
       "      <td>374.000000</td>\n",
       "      <td>374.000000</td>\n",
       "      <td>374.000000</td>\n",
       "      <td>374.000000</td>\n",
       "    </tr>\n",
       "    <tr>\n",
       "      <th>mean</th>\n",
       "      <td>187.500000</td>\n",
       "      <td>42.184492</td>\n",
       "      <td>7.132086</td>\n",
       "      <td>7.312834</td>\n",
       "      <td>59.171123</td>\n",
       "      <td>5.385027</td>\n",
       "      <td>70.165775</td>\n",
       "      <td>6816.844920</td>\n",
       "    </tr>\n",
       "    <tr>\n",
       "      <th>std</th>\n",
       "      <td>108.108742</td>\n",
       "      <td>8.673133</td>\n",
       "      <td>0.795657</td>\n",
       "      <td>1.196956</td>\n",
       "      <td>20.830804</td>\n",
       "      <td>1.774526</td>\n",
       "      <td>4.135676</td>\n",
       "      <td>1617.915679</td>\n",
       "    </tr>\n",
       "    <tr>\n",
       "      <th>min</th>\n",
       "      <td>1.000000</td>\n",
       "      <td>27.000000</td>\n",
       "      <td>5.800000</td>\n",
       "      <td>4.000000</td>\n",
       "      <td>30.000000</td>\n",
       "      <td>3.000000</td>\n",
       "      <td>65.000000</td>\n",
       "      <td>3000.000000</td>\n",
       "    </tr>\n",
       "    <tr>\n",
       "      <th>25%</th>\n",
       "      <td>94.250000</td>\n",
       "      <td>35.250000</td>\n",
       "      <td>6.400000</td>\n",
       "      <td>6.000000</td>\n",
       "      <td>45.000000</td>\n",
       "      <td>4.000000</td>\n",
       "      <td>68.000000</td>\n",
       "      <td>5600.000000</td>\n",
       "    </tr>\n",
       "    <tr>\n",
       "      <th>50%</th>\n",
       "      <td>187.500000</td>\n",
       "      <td>43.000000</td>\n",
       "      <td>7.200000</td>\n",
       "      <td>7.000000</td>\n",
       "      <td>60.000000</td>\n",
       "      <td>5.000000</td>\n",
       "      <td>70.000000</td>\n",
       "      <td>7000.000000</td>\n",
       "    </tr>\n",
       "    <tr>\n",
       "      <th>75%</th>\n",
       "      <td>280.750000</td>\n",
       "      <td>50.000000</td>\n",
       "      <td>7.800000</td>\n",
       "      <td>8.000000</td>\n",
       "      <td>75.000000</td>\n",
       "      <td>7.000000</td>\n",
       "      <td>72.000000</td>\n",
       "      <td>8000.000000</td>\n",
       "    </tr>\n",
       "    <tr>\n",
       "      <th>max</th>\n",
       "      <td>374.000000</td>\n",
       "      <td>59.000000</td>\n",
       "      <td>8.500000</td>\n",
       "      <td>9.000000</td>\n",
       "      <td>90.000000</td>\n",
       "      <td>8.000000</td>\n",
       "      <td>86.000000</td>\n",
       "      <td>10000.000000</td>\n",
       "    </tr>\n",
       "  </tbody>\n",
       "</table>\n",
       "</div>"
      ],
      "text/plain": [
       "        Person ID         Age  Sleep Duration  Quality of Sleep  \\\n",
       "count  374.000000  374.000000      374.000000        374.000000   \n",
       "mean   187.500000   42.184492        7.132086          7.312834   \n",
       "std    108.108742    8.673133        0.795657          1.196956   \n",
       "min      1.000000   27.000000        5.800000          4.000000   \n",
       "25%     94.250000   35.250000        6.400000          6.000000   \n",
       "50%    187.500000   43.000000        7.200000          7.000000   \n",
       "75%    280.750000   50.000000        7.800000          8.000000   \n",
       "max    374.000000   59.000000        8.500000          9.000000   \n",
       "\n",
       "       Physical Activity Level  Stress Level  Heart Rate   Daily Steps  \n",
       "count               374.000000    374.000000  374.000000    374.000000  \n",
       "mean                 59.171123      5.385027   70.165775   6816.844920  \n",
       "std                  20.830804      1.774526    4.135676   1617.915679  \n",
       "min                  30.000000      3.000000   65.000000   3000.000000  \n",
       "25%                  45.000000      4.000000   68.000000   5600.000000  \n",
       "50%                  60.000000      5.000000   70.000000   7000.000000  \n",
       "75%                  75.000000      7.000000   72.000000   8000.000000  \n",
       "max                  90.000000      8.000000   86.000000  10000.000000  "
      ]
     },
     "execution_count": 5,
     "metadata": {},
     "output_type": "execute_result"
    }
   ],
   "source": [
    "#Statistical summary\n",
    "stress.describe()"
   ]
  },
  {
   "cell_type": "code",
   "execution_count": 6,
   "id": "7ac0b5ef",
   "metadata": {
    "execution": {
     "iopub.execute_input": "2024-04-18T18:02:53.079905Z",
     "iopub.status.busy": "2024-04-18T18:02:53.079272Z",
     "iopub.status.idle": "2024-04-18T18:02:53.085751Z",
     "shell.execute_reply": "2024-04-18T18:02:53.084842Z"
    },
    "papermill": {
     "duration": 0.027887,
     "end_time": "2024-04-18T18:02:53.087894",
     "exception": false,
     "start_time": "2024-04-18T18:02:53.060007",
     "status": "completed"
    },
    "tags": []
   },
   "outputs": [
    {
     "data": {
      "text/plain": [
       "(374, 13)"
      ]
     },
     "execution_count": 6,
     "metadata": {},
     "output_type": "execute_result"
    }
   ],
   "source": [
    "stress.shape"
   ]
  },
  {
   "cell_type": "code",
   "execution_count": 7,
   "id": "7dc30487",
   "metadata": {
    "execution": {
     "iopub.execute_input": "2024-04-18T18:02:53.125394Z",
     "iopub.status.busy": "2024-04-18T18:02:53.125010Z",
     "iopub.status.idle": "2024-04-18T18:02:53.133207Z",
     "shell.execute_reply": "2024-04-18T18:02:53.132194Z"
    },
    "papermill": {
     "duration": 0.029389,
     "end_time": "2024-04-18T18:02:53.135369",
     "exception": false,
     "start_time": "2024-04-18T18:02:53.105980",
     "status": "completed"
    },
    "tags": []
   },
   "outputs": [
    {
     "data": {
      "text/plain": [
       "Person ID                    0\n",
       "Gender                       0\n",
       "Age                          0\n",
       "Occupation                   0\n",
       "Sleep Duration               0\n",
       "Quality of Sleep             0\n",
       "Physical Activity Level      0\n",
       "Stress Level                 0\n",
       "BMI Category                 0\n",
       "Blood Pressure               0\n",
       "Heart Rate                   0\n",
       "Daily Steps                  0\n",
       "Sleep Disorder             219\n",
       "dtype: int64"
      ]
     },
     "execution_count": 7,
     "metadata": {},
     "output_type": "execute_result"
    }
   ],
   "source": [
    "# Checking the null values\n",
    "stress.isnull().sum()"
   ]
  },
  {
   "cell_type": "markdown",
   "id": "7fbd5a91",
   "metadata": {
    "papermill": {
     "duration": 0.017973,
     "end_time": "2024-04-18T18:02:53.171415",
     "exception": false,
     "start_time": "2024-04-18T18:02:53.153442",
     "status": "completed"
    },
    "tags": []
   },
   "source": [
    "We can observe that there are 219 null values in the dataset, let's correct that."
   ]
  },
  {
   "cell_type": "code",
   "execution_count": 8,
   "id": "cba0753f",
   "metadata": {
    "execution": {
     "iopub.execute_input": "2024-04-18T18:02:53.209191Z",
     "iopub.status.busy": "2024-04-18T18:02:53.208807Z",
     "iopub.status.idle": "2024-04-18T18:02:53.230251Z",
     "shell.execute_reply": "2024-04-18T18:02:53.229253Z"
    },
    "papermill": {
     "duration": 0.043079,
     "end_time": "2024-04-18T18:02:53.232427",
     "exception": false,
     "start_time": "2024-04-18T18:02:53.189348",
     "status": "completed"
    },
    "tags": []
   },
   "outputs": [
    {
     "data": {
      "text/html": [
       "<div>\n",
       "<style scoped>\n",
       "    .dataframe tbody tr th:only-of-type {\n",
       "        vertical-align: middle;\n",
       "    }\n",
       "\n",
       "    .dataframe tbody tr th {\n",
       "        vertical-align: top;\n",
       "    }\n",
       "\n",
       "    .dataframe thead th {\n",
       "        text-align: right;\n",
       "    }\n",
       "</style>\n",
       "<table border=\"1\" class=\"dataframe\">\n",
       "  <thead>\n",
       "    <tr style=\"text-align: right;\">\n",
       "      <th></th>\n",
       "      <th>Person ID</th>\n",
       "      <th>Gender</th>\n",
       "      <th>Age</th>\n",
       "      <th>Occupation</th>\n",
       "      <th>Sleep Duration</th>\n",
       "      <th>Quality of Sleep</th>\n",
       "      <th>Physical Activity Level</th>\n",
       "      <th>Stress Level</th>\n",
       "      <th>BMI Category</th>\n",
       "      <th>Blood Pressure</th>\n",
       "      <th>Heart Rate</th>\n",
       "      <th>Daily Steps</th>\n",
       "      <th>Sleep Disorder</th>\n",
       "    </tr>\n",
       "  </thead>\n",
       "  <tbody>\n",
       "    <tr>\n",
       "      <th>0</th>\n",
       "      <td>1</td>\n",
       "      <td>Male</td>\n",
       "      <td>27</td>\n",
       "      <td>Software Engineer</td>\n",
       "      <td>6.1</td>\n",
       "      <td>6</td>\n",
       "      <td>42</td>\n",
       "      <td>6</td>\n",
       "      <td>Overweight</td>\n",
       "      <td>126/83</td>\n",
       "      <td>77</td>\n",
       "      <td>4200</td>\n",
       "      <td>NaN</td>\n",
       "    </tr>\n",
       "    <tr>\n",
       "      <th>1</th>\n",
       "      <td>2</td>\n",
       "      <td>Male</td>\n",
       "      <td>28</td>\n",
       "      <td>Doctor</td>\n",
       "      <td>6.2</td>\n",
       "      <td>6</td>\n",
       "      <td>60</td>\n",
       "      <td>8</td>\n",
       "      <td>Normal</td>\n",
       "      <td>125/80</td>\n",
       "      <td>75</td>\n",
       "      <td>10000</td>\n",
       "      <td>NaN</td>\n",
       "    </tr>\n",
       "    <tr>\n",
       "      <th>2</th>\n",
       "      <td>3</td>\n",
       "      <td>Male</td>\n",
       "      <td>28</td>\n",
       "      <td>Doctor</td>\n",
       "      <td>6.2</td>\n",
       "      <td>6</td>\n",
       "      <td>60</td>\n",
       "      <td>8</td>\n",
       "      <td>Normal</td>\n",
       "      <td>125/80</td>\n",
       "      <td>75</td>\n",
       "      <td>10000</td>\n",
       "      <td>NaN</td>\n",
       "    </tr>\n",
       "    <tr>\n",
       "      <th>7</th>\n",
       "      <td>8</td>\n",
       "      <td>Male</td>\n",
       "      <td>29</td>\n",
       "      <td>Doctor</td>\n",
       "      <td>7.8</td>\n",
       "      <td>7</td>\n",
       "      <td>75</td>\n",
       "      <td>6</td>\n",
       "      <td>Normal</td>\n",
       "      <td>120/80</td>\n",
       "      <td>70</td>\n",
       "      <td>8000</td>\n",
       "      <td>NaN</td>\n",
       "    </tr>\n",
       "    <tr>\n",
       "      <th>8</th>\n",
       "      <td>9</td>\n",
       "      <td>Male</td>\n",
       "      <td>29</td>\n",
       "      <td>Doctor</td>\n",
       "      <td>7.8</td>\n",
       "      <td>7</td>\n",
       "      <td>75</td>\n",
       "      <td>6</td>\n",
       "      <td>Normal</td>\n",
       "      <td>120/80</td>\n",
       "      <td>70</td>\n",
       "      <td>8000</td>\n",
       "      <td>NaN</td>\n",
       "    </tr>\n",
       "    <tr>\n",
       "      <th>...</th>\n",
       "      <td>...</td>\n",
       "      <td>...</td>\n",
       "      <td>...</td>\n",
       "      <td>...</td>\n",
       "      <td>...</td>\n",
       "      <td>...</td>\n",
       "      <td>...</td>\n",
       "      <td>...</td>\n",
       "      <td>...</td>\n",
       "      <td>...</td>\n",
       "      <td>...</td>\n",
       "      <td>...</td>\n",
       "      <td>...</td>\n",
       "    </tr>\n",
       "    <tr>\n",
       "      <th>341</th>\n",
       "      <td>342</td>\n",
       "      <td>Female</td>\n",
       "      <td>56</td>\n",
       "      <td>Doctor</td>\n",
       "      <td>8.2</td>\n",
       "      <td>9</td>\n",
       "      <td>90</td>\n",
       "      <td>3</td>\n",
       "      <td>Normal Weight</td>\n",
       "      <td>118/75</td>\n",
       "      <td>65</td>\n",
       "      <td>10000</td>\n",
       "      <td>NaN</td>\n",
       "    </tr>\n",
       "    <tr>\n",
       "      <th>342</th>\n",
       "      <td>343</td>\n",
       "      <td>Female</td>\n",
       "      <td>56</td>\n",
       "      <td>Doctor</td>\n",
       "      <td>8.2</td>\n",
       "      <td>9</td>\n",
       "      <td>90</td>\n",
       "      <td>3</td>\n",
       "      <td>Normal Weight</td>\n",
       "      <td>118/75</td>\n",
       "      <td>65</td>\n",
       "      <td>10000</td>\n",
       "      <td>NaN</td>\n",
       "    </tr>\n",
       "    <tr>\n",
       "      <th>343</th>\n",
       "      <td>344</td>\n",
       "      <td>Female</td>\n",
       "      <td>57</td>\n",
       "      <td>Nurse</td>\n",
       "      <td>8.1</td>\n",
       "      <td>9</td>\n",
       "      <td>75</td>\n",
       "      <td>3</td>\n",
       "      <td>Overweight</td>\n",
       "      <td>140/95</td>\n",
       "      <td>68</td>\n",
       "      <td>7000</td>\n",
       "      <td>NaN</td>\n",
       "    </tr>\n",
       "    <tr>\n",
       "      <th>358</th>\n",
       "      <td>359</td>\n",
       "      <td>Female</td>\n",
       "      <td>59</td>\n",
       "      <td>Nurse</td>\n",
       "      <td>8.0</td>\n",
       "      <td>9</td>\n",
       "      <td>75</td>\n",
       "      <td>3</td>\n",
       "      <td>Overweight</td>\n",
       "      <td>140/95</td>\n",
       "      <td>68</td>\n",
       "      <td>7000</td>\n",
       "      <td>NaN</td>\n",
       "    </tr>\n",
       "    <tr>\n",
       "      <th>359</th>\n",
       "      <td>360</td>\n",
       "      <td>Female</td>\n",
       "      <td>59</td>\n",
       "      <td>Nurse</td>\n",
       "      <td>8.1</td>\n",
       "      <td>9</td>\n",
       "      <td>75</td>\n",
       "      <td>3</td>\n",
       "      <td>Overweight</td>\n",
       "      <td>140/95</td>\n",
       "      <td>68</td>\n",
       "      <td>7000</td>\n",
       "      <td>NaN</td>\n",
       "    </tr>\n",
       "  </tbody>\n",
       "</table>\n",
       "<p>219 rows × 13 columns</p>\n",
       "</div>"
      ],
      "text/plain": [
       "     Person ID  Gender  Age         Occupation  Sleep Duration  \\\n",
       "0            1    Male   27  Software Engineer             6.1   \n",
       "1            2    Male   28             Doctor             6.2   \n",
       "2            3    Male   28             Doctor             6.2   \n",
       "7            8    Male   29             Doctor             7.8   \n",
       "8            9    Male   29             Doctor             7.8   \n",
       "..         ...     ...  ...                ...             ...   \n",
       "341        342  Female   56             Doctor             8.2   \n",
       "342        343  Female   56             Doctor             8.2   \n",
       "343        344  Female   57              Nurse             8.1   \n",
       "358        359  Female   59              Nurse             8.0   \n",
       "359        360  Female   59              Nurse             8.1   \n",
       "\n",
       "     Quality of Sleep  Physical Activity Level  Stress Level   BMI Category  \\\n",
       "0                   6                       42             6     Overweight   \n",
       "1                   6                       60             8         Normal   \n",
       "2                   6                       60             8         Normal   \n",
       "7                   7                       75             6         Normal   \n",
       "8                   7                       75             6         Normal   \n",
       "..                ...                      ...           ...            ...   \n",
       "341                 9                       90             3  Normal Weight   \n",
       "342                 9                       90             3  Normal Weight   \n",
       "343                 9                       75             3     Overweight   \n",
       "358                 9                       75             3     Overweight   \n",
       "359                 9                       75             3     Overweight   \n",
       "\n",
       "    Blood Pressure  Heart Rate  Daily Steps Sleep Disorder  \n",
       "0           126/83          77         4200            NaN  \n",
       "1           125/80          75        10000            NaN  \n",
       "2           125/80          75        10000            NaN  \n",
       "7           120/80          70         8000            NaN  \n",
       "8           120/80          70         8000            NaN  \n",
       "..             ...         ...          ...            ...  \n",
       "341         118/75          65        10000            NaN  \n",
       "342         118/75          65        10000            NaN  \n",
       "343         140/95          68         7000            NaN  \n",
       "358         140/95          68         7000            NaN  \n",
       "359         140/95          68         7000            NaN  \n",
       "\n",
       "[219 rows x 13 columns]"
      ]
     },
     "execution_count": 8,
     "metadata": {},
     "output_type": "execute_result"
    }
   ],
   "source": [
    "rows = stress[pd.isna(stress[\"Sleep Disorder\"])]\n",
    "rows"
   ]
  },
  {
   "cell_type": "markdown",
   "id": "68561c7a",
   "metadata": {
    "papermill": {
     "duration": 0.018206,
     "end_time": "2024-04-18T18:02:53.269068",
     "exception": false,
     "start_time": "2024-04-18T18:02:53.250862",
     "status": "completed"
    },
    "tags": []
   },
   "source": [
    "The presence of \"Nan\" value indicates that the individual does not have sleep disorder.\n",
    "Therefore, we will replace it with the term \"Nothing\"."
   ]
  },
  {
   "cell_type": "code",
   "execution_count": 9,
   "id": "a1b04738",
   "metadata": {
    "execution": {
     "iopub.execute_input": "2024-04-18T18:02:53.308293Z",
     "iopub.status.busy": "2024-04-18T18:02:53.307571Z",
     "iopub.status.idle": "2024-04-18T18:02:53.321680Z",
     "shell.execute_reply": "2024-04-18T18:02:53.320404Z"
    },
    "papermill": {
     "duration": 0.036627,
     "end_time": "2024-04-18T18:02:53.324169",
     "exception": false,
     "start_time": "2024-04-18T18:02:53.287542",
     "status": "completed"
    },
    "tags": []
   },
   "outputs": [
    {
     "data": {
      "text/html": [
       "<div>\n",
       "<style scoped>\n",
       "    .dataframe tbody tr th:only-of-type {\n",
       "        vertical-align: middle;\n",
       "    }\n",
       "\n",
       "    .dataframe tbody tr th {\n",
       "        vertical-align: top;\n",
       "    }\n",
       "\n",
       "    .dataframe thead th {\n",
       "        text-align: right;\n",
       "    }\n",
       "</style>\n",
       "<table border=\"1\" class=\"dataframe\">\n",
       "  <thead>\n",
       "    <tr style=\"text-align: right;\">\n",
       "      <th></th>\n",
       "      <th>Person ID</th>\n",
       "      <th>Gender</th>\n",
       "      <th>Age</th>\n",
       "      <th>Occupation</th>\n",
       "      <th>Sleep Duration</th>\n",
       "      <th>Quality of Sleep</th>\n",
       "      <th>Physical Activity Level</th>\n",
       "      <th>Stress Level</th>\n",
       "      <th>BMI Category</th>\n",
       "      <th>Blood Pressure</th>\n",
       "      <th>Heart Rate</th>\n",
       "      <th>Daily Steps</th>\n",
       "      <th>Sleep Disorder</th>\n",
       "    </tr>\n",
       "  </thead>\n",
       "  <tbody>\n",
       "    <tr>\n",
       "      <th>0</th>\n",
       "      <td>1</td>\n",
       "      <td>Male</td>\n",
       "      <td>27</td>\n",
       "      <td>Software Engineer</td>\n",
       "      <td>6.1</td>\n",
       "      <td>6</td>\n",
       "      <td>42</td>\n",
       "      <td>6</td>\n",
       "      <td>Overweight</td>\n",
       "      <td>126/83</td>\n",
       "      <td>77</td>\n",
       "      <td>4200</td>\n",
       "      <td>Nothing</td>\n",
       "    </tr>\n",
       "  </tbody>\n",
       "</table>\n",
       "</div>"
      ],
      "text/plain": [
       "   Person ID Gender  Age         Occupation  Sleep Duration  Quality of Sleep  \\\n",
       "0          1   Male   27  Software Engineer             6.1                 6   \n",
       "\n",
       "   Physical Activity Level  Stress Level BMI Category Blood Pressure  \\\n",
       "0                       42             6   Overweight         126/83   \n",
       "\n",
       "   Heart Rate  Daily Steps Sleep Disorder  \n",
       "0          77         4200        Nothing  "
      ]
     },
     "execution_count": 9,
     "metadata": {},
     "output_type": "execute_result"
    }
   ],
   "source": [
    "stress = stress.fillna(\"Nothing\")\n",
    "stress.head(1)"
   ]
  },
  {
   "cell_type": "markdown",
   "id": "9e3bae99",
   "metadata": {
    "papermill": {
     "duration": 0.018326,
     "end_time": "2024-04-18T18:02:53.361139",
     "exception": false,
     "start_time": "2024-04-18T18:02:53.342813",
     "status": "completed"
    },
    "tags": []
   },
   "source": [
    "Also, we can observe that in the \"BMI Category\" column, the term \"Normal\" and \"Normal Weight\" have same meaning. Hence, we replace the value with \"Normal\" for consistency.\n"
   ]
  },
  {
   "cell_type": "code",
   "execution_count": 10,
   "id": "fe3e5b86",
   "metadata": {
    "execution": {
     "iopub.execute_input": "2024-04-18T18:02:53.400310Z",
     "iopub.status.busy": "2024-04-18T18:02:53.399916Z",
     "iopub.status.idle": "2024-04-18T18:02:53.405723Z",
     "shell.execute_reply": "2024-04-18T18:02:53.404665Z"
    },
    "papermill": {
     "duration": 0.027848,
     "end_time": "2024-04-18T18:02:53.407987",
     "exception": false,
     "start_time": "2024-04-18T18:02:53.380139",
     "status": "completed"
    },
    "tags": []
   },
   "outputs": [],
   "source": [
    "stress[\"BMI Category\"] = stress[\"BMI Category\"].replace(\"Normal Weight\", \"Normal\")"
   ]
  },
  {
   "cell_type": "markdown",
   "id": "c40fed0c",
   "metadata": {
    "papermill": {
     "duration": 0.020223,
     "end_time": "2024-04-18T18:02:53.447040",
     "exception": false,
     "start_time": "2024-04-18T18:02:53.426817",
     "status": "completed"
    },
    "tags": []
   },
   "source": [
    "Now, let's check for duplicate entries in the 'stress' DataFrame.\n"
   ]
  },
  {
   "cell_type": "code",
   "execution_count": 11,
   "id": "6f5c2faa",
   "metadata": {
    "execution": {
     "iopub.execute_input": "2024-04-18T18:02:53.486833Z",
     "iopub.status.busy": "2024-04-18T18:02:53.486444Z",
     "iopub.status.idle": "2024-04-18T18:02:53.497763Z",
     "shell.execute_reply": "2024-04-18T18:02:53.496456Z"
    },
    "papermill": {
     "duration": 0.033993,
     "end_time": "2024-04-18T18:02:53.500175",
     "exception": false,
     "start_time": "2024-04-18T18:02:53.466182",
     "status": "completed"
    },
    "tags": []
   },
   "outputs": [
    {
     "name": "stdout",
     "output_type": "stream",
     "text": [
      "Duplicate Rows:\n",
      "Empty DataFrame\n",
      "Columns: [Person ID, Gender, Age, Occupation, Sleep Duration, Quality of Sleep, Physical Activity Level, Stress Level, BMI Category, Blood Pressure, Heart Rate, Daily Steps, Sleep Disorder]\n",
      "Index: []\n"
     ]
    }
   ],
   "source": [
    "duplicate_rows = stress[stress.duplicated()]\n",
    "\n",
    "print(\"Duplicate Rows:\")\n",
    "print(duplicate_rows)"
   ]
  },
  {
   "cell_type": "markdown",
   "id": "34463494",
   "metadata": {
    "papermill": {
     "duration": 0.018699,
     "end_time": "2024-04-18T18:02:53.538458",
     "exception": false,
     "start_time": "2024-04-18T18:02:53.519759",
     "status": "completed"
    },
    "tags": []
   },
   "source": [
    " The dataset does not have duplicate entries but it may contain same \"Person ID\" or \"Gender\"."
   ]
  },
  {
   "cell_type": "markdown",
   "id": "ad28aa52",
   "metadata": {
    "papermill": {
     "duration": 0.018978,
     "end_time": "2024-04-18T18:02:53.576207",
     "exception": false,
     "start_time": "2024-04-18T18:02:53.557229",
     "status": "completed"
    },
    "tags": []
   },
   "source": [
    "Removing duplicate rows based on 'Person ID' and 'Gender' columns while retaining the first occurrence.\n",
    "\n",
    "If the dataset were to contain errors or inconsistencies, such as multiple entries with the same 'Person ID' but different 'Gender' values, then including 'Gender' as a subset would help ensure that such discrepancies are addressed."
   ]
  },
  {
   "cell_type": "code",
   "execution_count": 12,
   "id": "f4a79907",
   "metadata": {
    "execution": {
     "iopub.execute_input": "2024-04-18T18:02:53.616052Z",
     "iopub.status.busy": "2024-04-18T18:02:53.615686Z",
     "iopub.status.idle": "2024-04-18T18:02:53.622146Z",
     "shell.execute_reply": "2024-04-18T18:02:53.621137Z"
    },
    "papermill": {
     "duration": 0.029292,
     "end_time": "2024-04-18T18:02:53.624371",
     "exception": false,
     "start_time": "2024-04-18T18:02:53.595079",
     "status": "completed"
    },
    "tags": []
   },
   "outputs": [],
   "source": [
    "no_duplicates = stress.drop_duplicates(subset=['Person ID', 'Gender'])"
   ]
  },
  {
   "cell_type": "code",
   "execution_count": 13,
   "id": "906dbadb",
   "metadata": {
    "execution": {
     "iopub.execute_input": "2024-04-18T18:02:53.664812Z",
     "iopub.status.busy": "2024-04-18T18:02:53.663836Z",
     "iopub.status.idle": "2024-04-18T18:02:53.673019Z",
     "shell.execute_reply": "2024-04-18T18:02:53.672224Z"
    },
    "papermill": {
     "duration": 0.031712,
     "end_time": "2024-04-18T18:02:53.675012",
     "exception": false,
     "start_time": "2024-04-18T18:02:53.643300",
     "status": "completed"
    },
    "tags": []
   },
   "outputs": [
    {
     "data": {
      "text/plain": [
       "Stress Level\n",
       "3    71\n",
       "8    70\n",
       "4    70\n",
       "5    67\n",
       "7    50\n",
       "6    46\n",
       "Name: count, dtype: int64"
      ]
     },
     "execution_count": 13,
     "metadata": {},
     "output_type": "execute_result"
    }
   ],
   "source": [
    "stress['Stress Level'].value_counts()"
   ]
  },
  {
   "cell_type": "markdown",
   "id": "729354e4",
   "metadata": {
    "papermill": {
     "duration": 0.019437,
     "end_time": "2024-04-18T18:02:53.713816",
     "exception": false,
     "start_time": "2024-04-18T18:02:53.694379",
     "status": "completed"
    },
    "tags": []
   },
   "source": [
    "Listing exact number of unique values in the columns:"
   ]
  },
  {
   "cell_type": "code",
   "execution_count": 14,
   "id": "a14605a3",
   "metadata": {
    "execution": {
     "iopub.execute_input": "2024-04-18T18:02:53.754931Z",
     "iopub.status.busy": "2024-04-18T18:02:53.753973Z",
     "iopub.status.idle": "2024-04-18T18:02:53.771283Z",
     "shell.execute_reply": "2024-04-18T18:02:53.769903Z"
    },
    "papermill": {
     "duration": 0.040525,
     "end_time": "2024-04-18T18:02:53.773751",
     "exception": false,
     "start_time": "2024-04-18T18:02:53.733226",
     "status": "completed"
    },
    "tags": []
   },
   "outputs": [
    {
     "data": {
      "text/html": [
       "<div>\n",
       "<style scoped>\n",
       "    .dataframe tbody tr th:only-of-type {\n",
       "        vertical-align: middle;\n",
       "    }\n",
       "\n",
       "    .dataframe tbody tr th {\n",
       "        vertical-align: top;\n",
       "    }\n",
       "\n",
       "    .dataframe thead th {\n",
       "        text-align: right;\n",
       "    }\n",
       "</style>\n",
       "<table border=\"1\" class=\"dataframe\">\n",
       "  <thead>\n",
       "    <tr style=\"text-align: right;\">\n",
       "      <th></th>\n",
       "      <th>unique count</th>\n",
       "    </tr>\n",
       "  </thead>\n",
       "  <tbody>\n",
       "    <tr>\n",
       "      <th>Person ID</th>\n",
       "      <td>374</td>\n",
       "    </tr>\n",
       "    <tr>\n",
       "      <th>Gender</th>\n",
       "      <td>2</td>\n",
       "    </tr>\n",
       "    <tr>\n",
       "      <th>Age</th>\n",
       "      <td>31</td>\n",
       "    </tr>\n",
       "    <tr>\n",
       "      <th>Occupation</th>\n",
       "      <td>11</td>\n",
       "    </tr>\n",
       "    <tr>\n",
       "      <th>Sleep Duration</th>\n",
       "      <td>27</td>\n",
       "    </tr>\n",
       "    <tr>\n",
       "      <th>Quality of Sleep</th>\n",
       "      <td>6</td>\n",
       "    </tr>\n",
       "    <tr>\n",
       "      <th>Physical Activity Level</th>\n",
       "      <td>16</td>\n",
       "    </tr>\n",
       "    <tr>\n",
       "      <th>Stress Level</th>\n",
       "      <td>6</td>\n",
       "    </tr>\n",
       "    <tr>\n",
       "      <th>BMI Category</th>\n",
       "      <td>3</td>\n",
       "    </tr>\n",
       "    <tr>\n",
       "      <th>Blood Pressure</th>\n",
       "      <td>25</td>\n",
       "    </tr>\n",
       "    <tr>\n",
       "      <th>Heart Rate</th>\n",
       "      <td>19</td>\n",
       "    </tr>\n",
       "    <tr>\n",
       "      <th>Daily Steps</th>\n",
       "      <td>20</td>\n",
       "    </tr>\n",
       "    <tr>\n",
       "      <th>Sleep Disorder</th>\n",
       "      <td>3</td>\n",
       "    </tr>\n",
       "  </tbody>\n",
       "</table>\n",
       "</div>"
      ],
      "text/plain": [
       "                         unique count\n",
       "Person ID                         374\n",
       "Gender                              2\n",
       "Age                                31\n",
       "Occupation                         11\n",
       "Sleep Duration                     27\n",
       "Quality of Sleep                    6\n",
       "Physical Activity Level            16\n",
       "Stress Level                        6\n",
       "BMI Category                        3\n",
       "Blood Pressure                     25\n",
       "Heart Rate                         19\n",
       "Daily Steps                        20\n",
       "Sleep Disorder                      3"
      ]
     },
     "execution_count": 14,
     "metadata": {},
     "output_type": "execute_result"
    }
   ],
   "source": [
    "dict = {}\n",
    "for i in list(stress.columns):\n",
    "    dict[i] = stress[i].value_counts().shape[0]\n",
    "\n",
    "pd.DataFrame(dict,index=[\"unique count\"]).transpose()"
   ]
  },
  {
   "cell_type": "code",
   "execution_count": 15,
   "id": "232d5529",
   "metadata": {
    "execution": {
     "iopub.execute_input": "2024-04-18T18:02:53.815872Z",
     "iopub.status.busy": "2024-04-18T18:02:53.814985Z",
     "iopub.status.idle": "2024-04-18T18:02:53.822567Z",
     "shell.execute_reply": "2024-04-18T18:02:53.821636Z"
    },
    "papermill": {
     "duration": 0.031336,
     "end_time": "2024-04-18T18:02:53.824669",
     "exception": false,
     "start_time": "2024-04-18T18:02:53.793333",
     "status": "completed"
    },
    "tags": []
   },
   "outputs": [
    {
     "data": {
      "text/plain": [
       "array(['Software Engineer', 'Doctor', 'Sales Representative', 'Teacher',\n",
       "       'Nurse', 'Engineer', 'Accountant', 'Scientist', 'Lawyer',\n",
       "       'Salesperson', 'Manager'], dtype=object)"
      ]
     },
     "execution_count": 15,
     "metadata": {},
     "output_type": "execute_result"
    }
   ],
   "source": [
    "stress['Occupation'].unique()"
   ]
  },
  {
   "cell_type": "markdown",
   "id": "c42f5aee",
   "metadata": {
    "papermill": {
     "duration": 0.018888,
     "end_time": "2024-04-18T18:02:53.862847",
     "exception": false,
     "start_time": "2024-04-18T18:02:53.843959",
     "status": "completed"
    },
    "tags": []
   },
   "source": [
    "**Label Encoding**\n",
    "\n",
    "The dataset includes categorical data, such as \"Occupation\", \"BMI Category\", and \"Sleep Disorder Columns\".\n",
    "We perform 'Label Encoding' to convert these categorical values into numerical data. \n",
    "\n",
    "Label Encoding assigns a unique numerical label to each category in a categorical feature.\n",
    "Algorithms used for computation, including those employed in machine learning, typically require numeric inputs for effective processing and analysis. "
   ]
  },
  {
   "cell_type": "code",
   "execution_count": 16,
   "id": "4db916aa",
   "metadata": {
    "execution": {
     "iopub.execute_input": "2024-04-18T18:02:53.903312Z",
     "iopub.status.busy": "2024-04-18T18:02:53.902571Z",
     "iopub.status.idle": "2024-04-18T18:02:54.064356Z",
     "shell.execute_reply": "2024-04-18T18:02:54.063279Z"
    },
    "papermill": {
     "duration": 0.184693,
     "end_time": "2024-04-18T18:02:54.066862",
     "exception": false,
     "start_time": "2024-04-18T18:02:53.882169",
     "status": "completed"
    },
    "tags": []
   },
   "outputs": [],
   "source": [
    "from sklearn.preprocessing import LabelEncoder, StandardScaler"
   ]
  },
  {
   "cell_type": "code",
   "execution_count": 17,
   "id": "f46241a2",
   "metadata": {
    "execution": {
     "iopub.execute_input": "2024-04-18T18:02:54.107362Z",
     "iopub.status.busy": "2024-04-18T18:02:54.107004Z",
     "iopub.status.idle": "2024-04-18T18:02:54.111462Z",
     "shell.execute_reply": "2024-04-18T18:02:54.110431Z"
    },
    "papermill": {
     "duration": 0.027398,
     "end_time": "2024-04-18T18:02:54.113680",
     "exception": false,
     "start_time": "2024-04-18T18:02:54.086282",
     "status": "completed"
    },
    "tags": []
   },
   "outputs": [],
   "source": [
    "label_encoder=LabelEncoder()"
   ]
  },
  {
   "cell_type": "code",
   "execution_count": 18,
   "id": "ace58c54",
   "metadata": {
    "execution": {
     "iopub.execute_input": "2024-04-18T18:02:54.154104Z",
     "iopub.status.busy": "2024-04-18T18:02:54.153458Z",
     "iopub.status.idle": "2024-04-18T18:02:54.170495Z",
     "shell.execute_reply": "2024-04-18T18:02:54.169422Z"
    },
    "papermill": {
     "duration": 0.039743,
     "end_time": "2024-04-18T18:02:54.172757",
     "exception": false,
     "start_time": "2024-04-18T18:02:54.133014",
     "status": "completed"
    },
    "tags": []
   },
   "outputs": [
    {
     "data": {
      "text/html": [
       "<div>\n",
       "<style scoped>\n",
       "    .dataframe tbody tr th:only-of-type {\n",
       "        vertical-align: middle;\n",
       "    }\n",
       "\n",
       "    .dataframe tbody tr th {\n",
       "        vertical-align: top;\n",
       "    }\n",
       "\n",
       "    .dataframe thead th {\n",
       "        text-align: right;\n",
       "    }\n",
       "</style>\n",
       "<table border=\"1\" class=\"dataframe\">\n",
       "  <thead>\n",
       "    <tr style=\"text-align: right;\">\n",
       "      <th></th>\n",
       "      <th>Person ID</th>\n",
       "      <th>Gender</th>\n",
       "      <th>Age</th>\n",
       "      <th>Occupation</th>\n",
       "      <th>Sleep Duration</th>\n",
       "      <th>Quality of Sleep</th>\n",
       "      <th>Physical Activity Level</th>\n",
       "      <th>Stress Level</th>\n",
       "      <th>BMI Category</th>\n",
       "      <th>Blood Pressure</th>\n",
       "      <th>Heart Rate</th>\n",
       "      <th>Daily Steps</th>\n",
       "      <th>Sleep Disorder</th>\n",
       "    </tr>\n",
       "  </thead>\n",
       "  <tbody>\n",
       "    <tr>\n",
       "      <th>372</th>\n",
       "      <td>373</td>\n",
       "      <td>0</td>\n",
       "      <td>59</td>\n",
       "      <td>5</td>\n",
       "      <td>8.1</td>\n",
       "      <td>9</td>\n",
       "      <td>75</td>\n",
       "      <td>3</td>\n",
       "      <td>2</td>\n",
       "      <td>140/95</td>\n",
       "      <td>68</td>\n",
       "      <td>7000</td>\n",
       "      <td>2</td>\n",
       "    </tr>\n",
       "    <tr>\n",
       "      <th>373</th>\n",
       "      <td>374</td>\n",
       "      <td>0</td>\n",
       "      <td>59</td>\n",
       "      <td>5</td>\n",
       "      <td>8.1</td>\n",
       "      <td>9</td>\n",
       "      <td>75</td>\n",
       "      <td>3</td>\n",
       "      <td>2</td>\n",
       "      <td>140/95</td>\n",
       "      <td>68</td>\n",
       "      <td>7000</td>\n",
       "      <td>2</td>\n",
       "    </tr>\n",
       "  </tbody>\n",
       "</table>\n",
       "</div>"
      ],
      "text/plain": [
       "     Person ID  Gender  Age  Occupation  Sleep Duration  Quality of Sleep  \\\n",
       "372        373       0   59           5             8.1                 9   \n",
       "373        374       0   59           5             8.1                 9   \n",
       "\n",
       "     Physical Activity Level  Stress Level  BMI Category Blood Pressure  \\\n",
       "372                       75             3             2         140/95   \n",
       "373                       75             3             2         140/95   \n",
       "\n",
       "     Heart Rate  Daily Steps  Sleep Disorder  \n",
       "372          68         7000               2  \n",
       "373          68         7000               2  "
      ]
     },
     "execution_count": 18,
     "metadata": {},
     "output_type": "execute_result"
    }
   ],
   "source": [
    "cat_cols=['Gender','Occupation','BMI Category','Sleep Disorder']\n",
    "for col in cat_cols:\n",
    "    stress[col] = label_encoder.fit_transform(stress[col])\n",
    "\n",
    "stress.tail(2)"
   ]
  },
  {
   "cell_type": "markdown",
   "id": "f6c85760",
   "metadata": {
    "papermill": {
     "duration": 0.01936,
     "end_time": "2024-04-18T18:02:54.212029",
     "exception": false,
     "start_time": "2024-04-18T18:02:54.192669",
     "status": "completed"
    },
    "tags": []
   },
   "source": [
    "In the \"Blood Pressure\" column, the entries are in '140/95' format. This might lead to further inconsistencies, hence we split the blood pressure into two unique columns. i.e. 'Systolic BP' and 'Diastolic BP'."
   ]
  },
  {
   "cell_type": "code",
   "execution_count": 19,
   "id": "527dc236",
   "metadata": {
    "execution": {
     "iopub.execute_input": "2024-04-18T18:02:54.252720Z",
     "iopub.status.busy": "2024-04-18T18:02:54.252318Z",
     "iopub.status.idle": "2024-04-18T18:02:54.273891Z",
     "shell.execute_reply": "2024-04-18T18:02:54.272680Z"
    },
    "papermill": {
     "duration": 0.044633,
     "end_time": "2024-04-18T18:02:54.276218",
     "exception": false,
     "start_time": "2024-04-18T18:02:54.231585",
     "status": "completed"
    },
    "tags": []
   },
   "outputs": [
    {
     "data": {
      "text/html": [
       "<div>\n",
       "<style scoped>\n",
       "    .dataframe tbody tr th:only-of-type {\n",
       "        vertical-align: middle;\n",
       "    }\n",
       "\n",
       "    .dataframe tbody tr th {\n",
       "        vertical-align: top;\n",
       "    }\n",
       "\n",
       "    .dataframe thead th {\n",
       "        text-align: right;\n",
       "    }\n",
       "</style>\n",
       "<table border=\"1\" class=\"dataframe\">\n",
       "  <thead>\n",
       "    <tr style=\"text-align: right;\">\n",
       "      <th></th>\n",
       "      <th>Person ID</th>\n",
       "      <th>Gender</th>\n",
       "      <th>Age</th>\n",
       "      <th>Occupation</th>\n",
       "      <th>Sleep Duration</th>\n",
       "      <th>Quality of Sleep</th>\n",
       "      <th>Physical Activity Level</th>\n",
       "      <th>Stress Level</th>\n",
       "      <th>BMI Category</th>\n",
       "      <th>Heart Rate</th>\n",
       "      <th>Daily Steps</th>\n",
       "      <th>Sleep Disorder</th>\n",
       "      <th>Systolic BP</th>\n",
       "      <th>Diastolic BP</th>\n",
       "    </tr>\n",
       "  </thead>\n",
       "  <tbody>\n",
       "    <tr>\n",
       "      <th>0</th>\n",
       "      <td>1</td>\n",
       "      <td>1</td>\n",
       "      <td>27</td>\n",
       "      <td>9</td>\n",
       "      <td>6.1</td>\n",
       "      <td>6</td>\n",
       "      <td>42</td>\n",
       "      <td>6</td>\n",
       "      <td>2</td>\n",
       "      <td>77</td>\n",
       "      <td>4200</td>\n",
       "      <td>1</td>\n",
       "      <td>126</td>\n",
       "      <td>83</td>\n",
       "    </tr>\n",
       "  </tbody>\n",
       "</table>\n",
       "</div>"
      ],
      "text/plain": [
       "   Person ID  Gender  Age  Occupation  Sleep Duration  Quality of Sleep  \\\n",
       "0          1       1   27           9             6.1                 6   \n",
       "\n",
       "   Physical Activity Level  Stress Level  BMI Category  Heart Rate  \\\n",
       "0                       42             6             2          77   \n",
       "\n",
       "   Daily Steps  Sleep Disorder  Systolic BP  Diastolic BP  \n",
       "0         4200               1          126            83  "
      ]
     },
     "execution_count": 19,
     "metadata": {},
     "output_type": "execute_result"
    }
   ],
   "source": [
    "stress[['Systolic BP', 'Diastolic BP']] = stress['Blood Pressure'].str.split('/', expand=True)\n",
    "    \n",
    "# Convert the new columns to numeric type\n",
    "stress[['Systolic BP', 'Diastolic BP']] = stress[['Systolic BP', 'Diastolic BP']].apply(pd.to_numeric)\n",
    "    \n",
    "# Drop the original 'Blood Pressure' column\n",
    "stress = stress.drop('Blood Pressure', axis=1)\n",
    "\n",
    "stress.head(1)"
   ]
  },
  {
   "cell_type": "markdown",
   "id": "21e547a7",
   "metadata": {
    "papermill": {
     "duration": 0.020707,
     "end_time": "2024-04-18T18:02:54.317040",
     "exception": false,
     "start_time": "2024-04-18T18:02:54.296333",
     "status": "completed"
    },
    "tags": []
   },
   "source": [
    "The 'Person ID' column does not contain relevant information as all the values are unique identifiers, so we drop it."
   ]
  },
  {
   "cell_type": "code",
   "execution_count": 20,
   "id": "3a58cfae",
   "metadata": {
    "execution": {
     "iopub.execute_input": "2024-04-18T18:02:54.359569Z",
     "iopub.status.busy": "2024-04-18T18:02:54.359182Z",
     "iopub.status.idle": "2024-04-18T18:02:54.365079Z",
     "shell.execute_reply": "2024-04-18T18:02:54.364166Z"
    },
    "papermill": {
     "duration": 0.029802,
     "end_time": "2024-04-18T18:02:54.367110",
     "exception": false,
     "start_time": "2024-04-18T18:02:54.337308",
     "status": "completed"
    },
    "tags": []
   },
   "outputs": [],
   "source": [
    "stress.drop('Person ID', axis=1, inplace=True)"
   ]
  },
  {
   "cell_type": "markdown",
   "id": "1e348444",
   "metadata": {
    "papermill": {
     "duration": 0.019291,
     "end_time": "2024-04-18T18:02:54.406253",
     "exception": false,
     "start_time": "2024-04-18T18:02:54.386962",
     "status": "completed"
    },
    "tags": []
   },
   "source": [
    "Shifting the column \"Stress Level\" to the last position of the dataset for easier access."
   ]
  },
  {
   "cell_type": "code",
   "execution_count": 21,
   "id": "a9bc9e8c",
   "metadata": {
    "execution": {
     "iopub.execute_input": "2024-04-18T18:02:54.448761Z",
     "iopub.status.busy": "2024-04-18T18:02:54.448397Z",
     "iopub.status.idle": "2024-04-18T18:02:54.463243Z",
     "shell.execute_reply": "2024-04-18T18:02:54.462074Z"
    },
    "papermill": {
     "duration": 0.039573,
     "end_time": "2024-04-18T18:02:54.465433",
     "exception": false,
     "start_time": "2024-04-18T18:02:54.425860",
     "status": "completed"
    },
    "tags": []
   },
   "outputs": [
    {
     "data": {
      "text/html": [
       "<div>\n",
       "<style scoped>\n",
       "    .dataframe tbody tr th:only-of-type {\n",
       "        vertical-align: middle;\n",
       "    }\n",
       "\n",
       "    .dataframe tbody tr th {\n",
       "        vertical-align: top;\n",
       "    }\n",
       "\n",
       "    .dataframe thead th {\n",
       "        text-align: right;\n",
       "    }\n",
       "</style>\n",
       "<table border=\"1\" class=\"dataframe\">\n",
       "  <thead>\n",
       "    <tr style=\"text-align: right;\">\n",
       "      <th></th>\n",
       "      <th>Gender</th>\n",
       "      <th>Age</th>\n",
       "      <th>Occupation</th>\n",
       "      <th>Sleep Duration</th>\n",
       "      <th>Quality of Sleep</th>\n",
       "      <th>Physical Activity Level</th>\n",
       "      <th>BMI Category</th>\n",
       "      <th>Heart Rate</th>\n",
       "      <th>Daily Steps</th>\n",
       "      <th>Sleep Disorder</th>\n",
       "      <th>Systolic BP</th>\n",
       "      <th>Diastolic BP</th>\n",
       "      <th>Stress Level</th>\n",
       "    </tr>\n",
       "  </thead>\n",
       "  <tbody>\n",
       "    <tr>\n",
       "      <th>373</th>\n",
       "      <td>0</td>\n",
       "      <td>59</td>\n",
       "      <td>5</td>\n",
       "      <td>8.1</td>\n",
       "      <td>9</td>\n",
       "      <td>75</td>\n",
       "      <td>2</td>\n",
       "      <td>68</td>\n",
       "      <td>7000</td>\n",
       "      <td>2</td>\n",
       "      <td>140</td>\n",
       "      <td>95</td>\n",
       "      <td>3</td>\n",
       "    </tr>\n",
       "  </tbody>\n",
       "</table>\n",
       "</div>"
      ],
      "text/plain": [
       "     Gender  Age  Occupation  Sleep Duration  Quality of Sleep  \\\n",
       "373       0   59           5             8.1                 9   \n",
       "\n",
       "     Physical Activity Level  BMI Category  Heart Rate  Daily Steps  \\\n",
       "373                       75             2          68         7000   \n",
       "\n",
       "     Sleep Disorder  Systolic BP  Diastolic BP  Stress Level  \n",
       "373               2          140            95             3  "
      ]
     },
     "execution_count": 21,
     "metadata": {},
     "output_type": "execute_result"
    }
   ],
   "source": [
    "stress_level_index = stress.columns.get_loc('Stress Level')\n",
    "\n",
    "columns = list(stress.columns[:stress_level_index]) + list(stress.columns[stress_level_index+1:]) + ['Stress Level']\n",
    "\n",
    "stress = stress[columns]\n",
    "stress.tail(1)"
   ]
  },
  {
   "cell_type": "code",
   "execution_count": 22,
   "id": "dbc4605d",
   "metadata": {
    "execution": {
     "iopub.execute_input": "2024-04-18T18:02:54.507051Z",
     "iopub.status.busy": "2024-04-18T18:02:54.506525Z",
     "iopub.status.idle": "2024-04-18T18:02:54.514830Z",
     "shell.execute_reply": "2024-04-18T18:02:54.513939Z"
    },
    "papermill": {
     "duration": 0.031737,
     "end_time": "2024-04-18T18:02:54.517126",
     "exception": false,
     "start_time": "2024-04-18T18:02:54.485389",
     "status": "completed"
    },
    "tags": []
   },
   "outputs": [
    {
     "data": {
      "text/plain": [
       "array([ 9,  1,  6, 10,  5,  2,  0,  8,  3,  7,  4])"
      ]
     },
     "execution_count": 22,
     "metadata": {},
     "output_type": "execute_result"
    }
   ],
   "source": [
    "stress['Occupation'].unique()"
   ]
  },
  {
   "cell_type": "markdown",
   "id": "211cfad4",
   "metadata": {
    "papermill": {
     "duration": 0.019849,
     "end_time": "2024-04-18T18:02:54.557159",
     "exception": false,
     "start_time": "2024-04-18T18:02:54.537310",
     "status": "completed"
    },
    "tags": []
   },
   "source": [
    "# 5. Data Visualization"
   ]
  },
  {
   "cell_type": "code",
   "execution_count": 23,
   "id": "7a0de42e",
   "metadata": {
    "execution": {
     "iopub.execute_input": "2024-04-18T18:02:54.600106Z",
     "iopub.status.busy": "2024-04-18T18:02:54.599729Z",
     "iopub.status.idle": "2024-04-18T18:02:54.870594Z",
     "shell.execute_reply": "2024-04-18T18:02:54.869536Z"
    },
    "papermill": {
     "duration": 0.295175,
     "end_time": "2024-04-18T18:02:54.872866",
     "exception": false,
     "start_time": "2024-04-18T18:02:54.577691",
     "status": "completed"
    },
    "tags": []
   },
   "outputs": [
    {
     "data": {
      "image/png": "[encoded data removed]",
      "text/plain": [
       "<Figure size 640x480 with 1 Axes>"
      ]
     },
     "metadata": {},
     "output_type": "display_data"
    }
   ],
   "source": [
    "sns.countplot(x='Stress Level', data=stress)\n",
    "\n",
    "plt.xlabel('Label')\n",
    "\n",
    "plt.ylabel('Count')\n",
    "\n",
    "plt.title('Distribution of the target variable')\n",
    "\n",
    "# Displaying the plot\n",
    "plt.show()"
   ]
  },
  {
   "cell_type": "code",
   "execution_count": 24,
   "id": "bac3155d",
   "metadata": {
    "execution": {
     "iopub.execute_input": "2024-04-18T18:02:54.915946Z",
     "iopub.status.busy": "2024-04-18T18:02:54.915522Z",
     "iopub.status.idle": "2024-04-18T18:02:56.929034Z",
     "shell.execute_reply": "2024-04-18T18:02:56.927886Z"
    },
    "papermill": {
     "duration": 2.038606,
     "end_time": "2024-04-18T18:02:56.931856",
     "exception": false,
     "start_time": "2024-04-18T18:02:54.893250",
     "status": "completed"
    },
    "tags": []
   },
   "outputs": [
    {
     "data": {
      "image/png": "[encoded data removed]",
      "text/plain": [
       "<Figure size 1000x800 with 16 Axes>"
      ]
     },
     "metadata": {},
     "output_type": "display_data"
    }
   ],
   "source": [
    "# Histograms for each numerical feature\n",
    "stress.hist(figsize=(10, 8))\n",
    "plt.suptitle(\"Histograms of Numerical Features\", fontsize=16)\n",
    "plt.show()"
   ]
  },
  {
   "cell_type": "code",
   "execution_count": 25,
   "id": "cd683262",
   "metadata": {
    "execution": {
     "iopub.execute_input": "2024-04-18T18:02:56.979874Z",
     "iopub.status.busy": "2024-04-18T18:02:56.979448Z",
     "iopub.status.idle": "2024-04-18T18:02:58.768508Z",
     "shell.execute_reply": "2024-04-18T18:02:58.767306Z"
    },
    "papermill": {
     "duration": 1.814081,
     "end_time": "2024-04-18T18:02:58.770806",
     "exception": false,
     "start_time": "2024-04-18T18:02:56.956725",
     "status": "completed"
    },
    "tags": []
   },
   "outputs": [
    {
     "data": {
      "text/html": [
       "        <script type=\"text/javascript\">\n",
       "        window.PlotlyConfig = {MathJaxConfig: 'local'};\n",
       "        if (window.MathJax && window.MathJax.Hub && window.MathJax.Hub.Config) {window.MathJax.Hub.Config({SVG: {font: \"STIX-Web\"}});}\n",
       "        if (typeof require !== 'undefined') {\n",
       "        require.undef(\"plotly\");\n",
       "        requirejs.config({\n",
       "            paths: {\n",
       "                'plotly': ['https://cdn.plot.ly/plotly-2.27.0.min']\n",
       "            }\n",
       "        });\n",
       "        require(['plotly'], function(Plotly) {\n",
       "            window._Plotly = Plotly;\n",
       "        });\n",
       "        }\n",
       "        </script>\n",
       "        "
      ]
     },
     "metadata": {},
     "output_type": "display_data"
    },
    {
     "data": {
      "text/html": [
       "<div>                            <div id=\"afee37a5-35b6-4b47-9b69-cf41251d61c0\" class=\"plotly-graph-div\" style=\"height:500px; width:600px;\"></div>            <script type=\"text/javascript\">                require([\"plotly\"], function(Plotly) {                    window.PLOTLYENV=window.PLOTLYENV || {};                                    if (document.getElementById(\"afee37a5-35b6-4b47-9b69-cf41251d61c0\")) {                    Plotly.newPlot(                        \"afee37a5-35b6-4b47-9b69-cf41251d61c0\",                        [{\"alignmentgroup\":\"True\",\"box\":{\"visible\":false},\"hovertemplate\":\"Heart Rate=%{x}\\u003cbr\\u003eStress Level=%{y}\\u003cextra\\u003e\\u003c\\u002fextra\\u003e\",\"legendgroup\":\"\",\"marker\":{\"color\":\"#FFD700\"},\"name\":\"\",\"offsetgroup\":\"\",\"orientation\":\"v\",\"scalegroup\":\"True\",\"showlegend\":false,\"x\":[77,75,75,85,85,85,82,70,70,70,70,70,70,70,70,70,80,70,80,70,70,70,70,70,70,70,70,70,70,70,78,78,69,72,70,72,72,70,70,70,70,70,70,70,70,70,70,70,70,70,70,70,72,70,72,72,70,72,72,70,72,72,72,72,72,72,68,72,76,76,72,72,72,72,72,72,72,72,72,72,81,81,70,70,70,68,65,65,65,65,65,65,70,84,68,68,68,68,68,68,68,68,68,74,68,74,77,68,68,68,68,68,68,68,68,68,68,68,68,68,68,68,68,68,68,70,68,68,68,68,68,68,68,68,68,68,68,68,68,68,68,68,68,68,68,84,68,80,75,67,67,68,68,68,68,68,68,68,68,68,68,73,73,68,68,70,72,72,72,70,70,70,70,70,70,70,70,72,70,70,70,70,70,70,78,78,65,72,65,72,65,72,72,72,72,72,72,72,72,72,72,70,70,69,68,70,70,70,70,70,70,70,70,70,70,70,70,70,70,72,65,72,72,72,65,72,65,72,65,72,65,72,65,72,65,72,72,65,72,72,65,72,72,65,72,65,72,78,72,72,65,65,65,65,65,65,65,65,65,65,65,65,65,75,83,75,83,75,75,75,75,75,75,75,75,75,86,86,75,65,75,75,75,75,75,75,75,75,75,75,75,75,75,75,75,75,75,75,65,65,65,65,72,75,75,75,72,72,72,72,72,72,65,65,65,65,65,65,65,65,65,65,65,65,65,65,65,65,65,65,65,65,65,65,65,65,65,65,65,72,72,65,65,68,68,68,68,68,68,68,68,68,68,68,68,68,68,68,68,68,68,68,68,68,68,68,68,68,68,68,68,68,68,68],\"x0\":\" \",\"xaxis\":\"x\",\"y\":[6,8,8,8,8,8,7,6,6,6,8,6,8,8,8,8,7,8,7,6,6,6,6,6,6,6,6,6,6,6,7,7,4,8,6,8,8,6,6,6,6,6,6,6,6,6,6,6,6,6,3,3,8,6,8,8,6,8,8,6,8,8,8,8,8,8,6,8,6,6,8,8,8,8,8,8,8,8,8,8,8,8,5,5,5,4,4,4,4,4,4,4,5,5,4,4,4,4,4,4,4,4,4,7,4,7,6,4,4,5,4,5,4,5,4,4,4,4,4,4,4,4,4,4,4,4,5,4,5,5,4,5,5,4,5,5,4,5,4,5,4,5,4,4,5,5,5,7,6,3,3,5,5,5,5,5,5,5,5,5,5,6,6,5,5,5,6,6,6,5,5,5,5,5,5,5,5,7,5,5,5,5,5,5,7,7,4,7,4,7,4,7,7,7,7,7,7,7,7,7,7,5,5,7,4,5,5,5,5,5,5,5,5,5,5,5,5,5,5,7,4,7,7,7,4,7,4,7,4,7,4,7,4,7,4,7,7,4,7,7,4,7,7,4,7,4,7,7,7,7,6,6,4,4,4,4,4,4,4,4,4,4,4,5,5,8,5,8,8,8,8,8,8,8,8,8,3,3,8,3,8,8,8,8,8,8,8,8,8,8,8,8,8,8,8,8,8,8,3,3,3,3,6,8,8,8,7,7,7,7,7,7,3,3,3,3,3,3,3,3,3,3,3,3,3,3,3,3,3,3,3,3,3,3,3,3,3,3,3,4,4,3,3,3,3,3,3,3,3,3,3,3,3,3,3,3,3,3,3,3,3,3,3,3,3,3,3,3,3,3,3,3,3,3],\"y0\":\" \",\"yaxis\":\"y\",\"type\":\"violin\"}],                        {\"template\":{\"data\":{\"histogram2dcontour\":[{\"type\":\"histogram2dcontour\",\"colorbar\":{\"outlinewidth\":0,\"ticks\":\"\"},\"colorscale\":[[0.0,\"#0d0887\"],[0.1111111111111111,\"#46039f\"],[0.2222222222222222,\"#7201a8\"],[0.3333333333333333,\"#9c179e\"],[0.4444444444444444,\"#bd3786\"],[0.5555555555555556,\"#d8576b\"],[0.6666666666666666,\"#ed7953\"],[0.7777777777777778,\"#fb9f3a\"],[0.8888888888888888,\"#fdca26\"],[1.0,\"#f0f921\"]]}],\"choropleth\":[{\"type\":\"choropleth\",\"colorbar\":{\"outlinewidth\":0,\"ticks\":\"\"}}],\"histogram2d\":[{\"type\":\"histogram2d\",\"colorbar\":{\"outlinewidth\":0,\"ticks\":\"\"},\"colorscale\":[[0.0,\"#0d0887\"],[0.1111111111111111,\"#46039f\"],[0.2222222222222222,\"#7201a8\"],[0.3333333333333333,\"#9c179e\"],[0.4444444444444444,\"#bd3786\"],[0.5555555555555556,\"#d8576b\"],[0.6666666666666666,\"#ed7953\"],[0.7777777777777778,\"#fb9f3a\"],[0.8888888888888888,\"#fdca26\"],[1.0,\"#f0f921\"]]}],\"heatmap\":[{\"type\":\"heatmap\",\"colorbar\":{\"outlinewidth\":0,\"ticks\":\"\"},\"colorscale\":[[0.0,\"#0d0887\"],[0.1111111111111111,\"#46039f\"],[0.2222222222222222,\"#7201a8\"],[0.3333333333333333,\"#9c179e\"],[0.4444444444444444,\"#bd3786\"],[0.5555555555555556,\"#d8576b\"],[0.6666666666666666,\"#ed7953\"],[0.7777777777777778,\"#fb9f3a\"],[0.8888888888888888,\"#fdca26\"],[1.0,\"#f0f921\"]]}],\"heatmapgl\":[{\"type\":\"heatmapgl\",\"colorbar\":{\"outlinewidth\":0,\"ticks\":\"\"},\"colorscale\":[[0.0,\"#0d0887\"],[0.1111111111111111,\"#46039f\"],[0.2222222222222222,\"#7201a8\"],[0.3333333333333333,\"#9c179e\"],[0.4444444444444444,\"#bd3786\"],[0.5555555555555556,\"#d8576b\"],[0.6666666666666666,\"#ed7953\"],[0.7777777777777778,\"#fb9f3a\"],[0.8888888888888888,\"#fdca26\"],[1.0,\"#f0f921\"]]}],\"contourcarpet\":[{\"type\":\"contourcarpet\",\"colorbar\":{\"outlinewidth\":0,\"ticks\":\"\"}}],\"contour\":[{\"type\":\"contour\",\"colorbar\":{\"outlinewidth\":0,\"ticks\":\"\"},\"colorscale\":[[0.0,\"#0d0887\"],[0.1111111111111111,\"#46039f\"],[0.2222222222222222,\"#7201a8\"],[0.3333333333333333,\"#9c179e\"],[0.4444444444444444,\"#bd3786\"],[0.5555555555555556,\"#d8576b\"],[0.6666666666666666,\"#ed7953\"],[0.7777777777777778,\"#fb9f3a\"],[0.8888888888888888,\"#fdca26\"],[1.0,\"#f0f921\"]]}],\"surface\":[{\"type\":\"surface\",\"colorbar\":{\"outlinewidth\":0,\"ticks\":\"\"},\"colorscale\":[[0.0,\"#0d0887\"],[0.1111111111111111,\"#46039f\"],[0.2222222222222222,\"#7201a8\"],[0.3333333333333333,\"#9c179e\"],[0.4444444444444444,\"#bd3786\"],[0.5555555555555556,\"#d8576b\"],[0.6666666666666666,\"#ed7953\"],[0.7777777777777778,\"#fb9f3a\"],[0.8888888888888888,\"#fdca26\"],[1.0,\"#f0f921\"]]}],\"mesh3d\":[{\"type\":\"mesh3d\",\"colorbar\":{\"outlinewidth\":0,\"ticks\":\"\"}}],\"scatter\":[{\"fillpattern\":{\"fillmode\":\"overlay\",\"size\":10,\"solidity\":0.2},\"type\":\"scatter\"}],\"parcoords\":[{\"type\":\"parcoords\",\"line\":{\"colorbar\":{\"outlinewidth\":0,\"ticks\":\"\"}}}],\"scatterpolargl\":[{\"type\":\"scatterpolargl\",\"marker\":{\"colorbar\":{\"outlinewidth\":0,\"ticks\":\"\"}}}],\"bar\":[{\"error_x\":{\"color\":\"#2a3f5f\"},\"error_y\":{\"color\":\"#2a3f5f\"},\"marker\":{\"line\":{\"color\":\"#E5ECF6\",\"width\":0.5},\"pattern\":{\"fillmode\":\"overlay\",\"size\":10,\"solidity\":0.2}},\"type\":\"bar\"}],\"scattergeo\":[{\"type\":\"scattergeo\",\"marker\":{\"colorbar\":{\"outlinewidth\":0,\"ticks\":\"\"}}}],\"scatterpolar\":[{\"type\":\"scatterpolar\",\"marker\":{\"colorbar\":{\"outlinewidth\":0,\"ticks\":\"\"}}}],\"histogram\":[{\"marker\":{\"pattern\":{\"fillmode\":\"overlay\",\"size\":10,\"solidity\":0.2}},\"type\":\"histogram\"}],\"scattergl\":[{\"type\":\"scattergl\",\"marker\":{\"colorbar\":{\"outlinewidth\":0,\"ticks\":\"\"}}}],\"scatter3d\":[{\"type\":\"scatter3d\",\"line\":{\"colorbar\":{\"outlinewidth\":0,\"ticks\":\"\"}},\"marker\":{\"colorbar\":{\"outlinewidth\":0,\"ticks\":\"\"}}}],\"scattermapbox\":[{\"type\":\"scattermapbox\",\"marker\":{\"colorbar\":{\"outlinewidth\":0,\"ticks\":\"\"}}}],\"scatterternary\":[{\"type\":\"scatterternary\",\"marker\":{\"colorbar\":{\"outlinewidth\":0,\"ticks\":\"\"}}}],\"scattercarpet\":[{\"type\":\"scattercarpet\",\"marker\":{\"colorbar\":{\"outlinewidth\":0,\"ticks\":\"\"}}}],\"carpet\":[{\"aaxis\":{\"endlinecolor\":\"#2a3f5f\",\"gridcolor\":\"white\",\"linecolor\":\"white\",\"minorgridcolor\":\"white\",\"startlinecolor\":\"#2a3f5f\"},\"baxis\":{\"endlinecolor\":\"#2a3f5f\",\"gridcolor\":\"white\",\"linecolor\":\"white\",\"minorgridcolor\":\"white\",\"startlinecolor\":\"#2a3f5f\"},\"type\":\"carpet\"}],\"table\":[{\"cells\":{\"fill\":{\"color\":\"#EBF0F8\"},\"line\":{\"color\":\"white\"}},\"header\":{\"fill\":{\"color\":\"#C8D4E3\"},\"line\":{\"color\":\"white\"}},\"type\":\"table\"}],\"barpolar\":[{\"marker\":{\"line\":{\"color\":\"#E5ECF6\",\"width\":0.5},\"pattern\":{\"fillmode\":\"overlay\",\"size\":10,\"solidity\":0.2}},\"type\":\"barpolar\"}],\"pie\":[{\"automargin\":true,\"type\":\"pie\"}]},\"layout\":{\"autotypenumbers\":\"strict\",\"colorway\":[\"#636efa\",\"#EF553B\",\"#00cc96\",\"#ab63fa\",\"#FFA15A\",\"#19d3f3\",\"#FF6692\",\"#B6E880\",\"#FF97FF\",\"#FECB52\"],\"font\":{\"color\":\"#2a3f5f\"},\"hovermode\":\"closest\",\"hoverlabel\":{\"align\":\"left\"},\"paper_bgcolor\":\"white\",\"plot_bgcolor\":\"#E5ECF6\",\"polar\":{\"bgcolor\":\"#E5ECF6\",\"angularaxis\":{\"gridcolor\":\"white\",\"linecolor\":\"white\",\"ticks\":\"\"},\"radialaxis\":{\"gridcolor\":\"white\",\"linecolor\":\"white\",\"ticks\":\"\"}},\"ternary\":{\"bgcolor\":\"#E5ECF6\",\"aaxis\":{\"gridcolor\":\"white\",\"linecolor\":\"white\",\"ticks\":\"\"},\"baxis\":{\"gridcolor\":\"white\",\"linecolor\":\"white\",\"ticks\":\"\"},\"caxis\":{\"gridcolor\":\"white\",\"linecolor\":\"white\",\"ticks\":\"\"}},\"coloraxis\":{\"colorbar\":{\"outlinewidth\":0,\"ticks\":\"\"}},\"colorscale\":{\"sequential\":[[0.0,\"#0d0887\"],[0.1111111111111111,\"#46039f\"],[0.2222222222222222,\"#7201a8\"],[0.3333333333333333,\"#9c179e\"],[0.4444444444444444,\"#bd3786\"],[0.5555555555555556,\"#d8576b\"],[0.6666666666666666,\"#ed7953\"],[0.7777777777777778,\"#fb9f3a\"],[0.8888888888888888,\"#fdca26\"],[1.0,\"#f0f921\"]],\"sequentialminus\":[[0.0,\"#0d0887\"],[0.1111111111111111,\"#46039f\"],[0.2222222222222222,\"#7201a8\"],[0.3333333333333333,\"#9c179e\"],[0.4444444444444444,\"#bd3786\"],[0.5555555555555556,\"#d8576b\"],[0.6666666666666666,\"#ed7953\"],[0.7777777777777778,\"#fb9f3a\"],[0.8888888888888888,\"#fdca26\"],[1.0,\"#f0f921\"]],\"diverging\":[[0,\"#8e0152\"],[0.1,\"#c51b7d\"],[0.2,\"#de77ae\"],[0.3,\"#f1b6da\"],[0.4,\"#fde0ef\"],[0.5,\"#f7f7f7\"],[0.6,\"#e6f5d0\"],[0.7,\"#b8e186\"],[0.8,\"#7fbc41\"],[0.9,\"#4d9221\"],[1,\"#276419\"]]},\"xaxis\":{\"gridcolor\":\"white\",\"linecolor\":\"white\",\"ticks\":\"\",\"title\":{\"standoff\":15},\"zerolinecolor\":\"white\",\"automargin\":true,\"zerolinewidth\":2},\"yaxis\":{\"gridcolor\":\"white\",\"linecolor\":\"white\",\"ticks\":\"\",\"title\":{\"standoff\":15},\"zerolinecolor\":\"white\",\"automargin\":true,\"zerolinewidth\":2},\"scene\":{\"xaxis\":{\"backgroundcolor\":\"#E5ECF6\",\"gridcolor\":\"white\",\"linecolor\":\"white\",\"showbackground\":true,\"ticks\":\"\",\"zerolinecolor\":\"white\",\"gridwidth\":2},\"yaxis\":{\"backgroundcolor\":\"#E5ECF6\",\"gridcolor\":\"white\",\"linecolor\":\"white\",\"showbackground\":true,\"ticks\":\"\",\"zerolinecolor\":\"white\",\"gridwidth\":2},\"zaxis\":{\"backgroundcolor\":\"#E5ECF6\",\"gridcolor\":\"white\",\"linecolor\":\"white\",\"showbackground\":true,\"ticks\":\"\",\"zerolinecolor\":\"white\",\"gridwidth\":2}},\"shapedefaults\":{\"line\":{\"color\":\"#2a3f5f\"}},\"annotationdefaults\":{\"arrowcolor\":\"#2a3f5f\",\"arrowhead\":0,\"arrowwidth\":1},\"geo\":{\"bgcolor\":\"white\",\"landcolor\":\"#E5ECF6\",\"subunitcolor\":\"white\",\"showland\":true,\"showlakes\":true,\"lakecolor\":\"white\"},\"title\":{\"x\":0.05},\"mapbox\":{\"style\":\"light\"}}},\"xaxis\":{\"anchor\":\"y\",\"domain\":[0.0,1.0],\"title\":{\"text\":\"Heart Rate\"}},\"yaxis\":{\"anchor\":\"x\",\"domain\":[0.0,1.0],\"title\":{\"text\":\"Stress Level\"}},\"legend\":{\"tracegroupgap\":0},\"title\":{\"text\":\"Stress Distribution by Heart Rate\"},\"violinmode\":\"group\",\"width\":600,\"height\":500},                        {\"responsive\": true}                    ).then(function(){\n",
       "                            \n",
       "var gd = document.getElementById('afee37a5-35b6-4b47-9b69-cf41251d61c0');\n",
       "var x = new MutationObserver(function (mutations, observer) {{\n",
       "        var display = window.getComputedStyle(gd).display;\n",
       "        if (!display || display === 'none') {{\n",
       "            console.log([gd, 'removed!']);\n",
       "            Plotly.purge(gd);\n",
       "            observer.disconnect();\n",
       "        }}\n",
       "}});\n",
       "\n",
       "// Listen for the removal of the full notebook cells\n",
       "var notebookContainer = gd.closest('#notebook-container');\n",
       "if (notebookContainer) {{\n",
       "    x.observe(notebookContainer, {childList: true});\n",
       "}}\n",
       "\n",
       "// Listen for the clearing of the current output cell\n",
       "var outputEl = gd.closest('.output');\n",
       "if (outputEl) {{\n",
       "    x.observe(outputEl, {childList: true});\n",
       "}}\n",
       "\n",
       "                        })                };                });            </script>        </div>"
      ]
     },
     "metadata": {},
     "output_type": "display_data"
    }
   ],
   "source": [
    "fig = px.violin(stress, x='Heart Rate', y='Stress Level', title='Stress Distribution by Heart Rate', color_discrete_sequence=['#FFD700'])\n",
    "fig.update_layout(xaxis_title='Heart Rate', yaxis_title='Stress Level',width=600,height=500)\n",
    "fig.show()"
   ]
  },
  {
   "cell_type": "code",
   "execution_count": 26,
   "id": "5cb49069",
   "metadata": {
    "execution": {
     "iopub.execute_input": "2024-04-18T18:02:58.816954Z",
     "iopub.status.busy": "2024-04-18T18:02:58.816372Z",
     "iopub.status.idle": "2024-04-18T18:02:58.882592Z",
     "shell.execute_reply": "2024-04-18T18:02:58.881559Z"
    },
    "papermill": {
     "duration": 0.092005,
     "end_time": "2024-04-18T18:02:58.884801",
     "exception": false,
     "start_time": "2024-04-18T18:02:58.792796",
     "status": "completed"
    },
    "tags": []
   },
   "outputs": [
    {
     "data": {
      "text/html": [
       "<div>                            <div id=\"47fdc1ff-a0aa-42ec-a1c1-cf9d7645aebc\" class=\"plotly-graph-div\" style=\"height:500px; width:600px;\"></div>            <script type=\"text/javascript\">                require([\"plotly\"], function(Plotly) {                    window.PLOTLYENV=window.PLOTLYENV || {};                                    if (document.getElementById(\"47fdc1ff-a0aa-42ec-a1c1-cf9d7645aebc\")) {                    Plotly.newPlot(                        \"47fdc1ff-a0aa-42ec-a1c1-cf9d7645aebc\",                        [{\"domain\":{\"x\":[0.0,1.0],\"y\":[0.0,1.0]},\"hovertemplate\":\"label=%{label}\\u003cextra\\u003e\\u003c\\u002fextra\\u003e\",\"labels\":[5,1,2,3,10,0,7,9,8,6,4],\"legendgroup\":\"\",\"name\":\"\",\"showlegend\":true,\"type\":\"pie\"}],                        {\"template\":{\"data\":{\"histogram2dcontour\":[{\"type\":\"histogram2dcontour\",\"colorbar\":{\"outlinewidth\":0,\"ticks\":\"\"},\"colorscale\":[[0.0,\"#0d0887\"],[0.1111111111111111,\"#46039f\"],[0.2222222222222222,\"#7201a8\"],[0.3333333333333333,\"#9c179e\"],[0.4444444444444444,\"#bd3786\"],[0.5555555555555556,\"#d8576b\"],[0.6666666666666666,\"#ed7953\"],[0.7777777777777778,\"#fb9f3a\"],[0.8888888888888888,\"#fdca26\"],[1.0,\"#f0f921\"]]}],\"choropleth\":[{\"type\":\"choropleth\",\"colorbar\":{\"outlinewidth\":0,\"ticks\":\"\"}}],\"histogram2d\":[{\"type\":\"histogram2d\",\"colorbar\":{\"outlinewidth\":0,\"ticks\":\"\"},\"colorscale\":[[0.0,\"#0d0887\"],[0.1111111111111111,\"#46039f\"],[0.2222222222222222,\"#7201a8\"],[0.3333333333333333,\"#9c179e\"],[0.4444444444444444,\"#bd3786\"],[0.5555555555555556,\"#d8576b\"],[0.6666666666666666,\"#ed7953\"],[0.7777777777777778,\"#fb9f3a\"],[0.8888888888888888,\"#fdca26\"],[1.0,\"#f0f921\"]]}],\"heatmap\":[{\"type\":\"heatmap\",\"colorbar\":{\"outlinewidth\":0,\"ticks\":\"\"},\"colorscale\":[[0.0,\"#0d0887\"],[0.1111111111111111,\"#46039f\"],[0.2222222222222222,\"#7201a8\"],[0.3333333333333333,\"#9c179e\"],[0.4444444444444444,\"#bd3786\"],[0.5555555555555556,\"#d8576b\"],[0.6666666666666666,\"#ed7953\"],[0.7777777777777778,\"#fb9f3a\"],[0.8888888888888888,\"#fdca26\"],[1.0,\"#f0f921\"]]}],\"heatmapgl\":[{\"type\":\"heatmapgl\",\"colorbar\":{\"outlinewidth\":0,\"ticks\":\"\"},\"colorscale\":[[0.0,\"#0d0887\"],[0.1111111111111111,\"#46039f\"],[0.2222222222222222,\"#7201a8\"],[0.3333333333333333,\"#9c179e\"],[0.4444444444444444,\"#bd3786\"],[0.5555555555555556,\"#d8576b\"],[0.6666666666666666,\"#ed7953\"],[0.7777777777777778,\"#fb9f3a\"],[0.8888888888888888,\"#fdca26\"],[1.0,\"#f0f921\"]]}],\"contourcarpet\":[{\"type\":\"contourcarpet\",\"colorbar\":{\"outlinewidth\":0,\"ticks\":\"\"}}],\"contour\":[{\"type\":\"contour\",\"colorbar\":{\"outlinewidth\":0,\"ticks\":\"\"},\"colorscale\":[[0.0,\"#0d0887\"],[0.1111111111111111,\"#46039f\"],[0.2222222222222222,\"#7201a8\"],[0.3333333333333333,\"#9c179e\"],[0.4444444444444444,\"#bd3786\"],[0.5555555555555556,\"#d8576b\"],[0.6666666666666666,\"#ed7953\"],[0.7777777777777778,\"#fb9f3a\"],[0.8888888888888888,\"#fdca26\"],[1.0,\"#f0f921\"]]}],\"surface\":[{\"type\":\"surface\",\"colorbar\":{\"outlinewidth\":0,\"ticks\":\"\"},\"colorscale\":[[0.0,\"#0d0887\"],[0.1111111111111111,\"#46039f\"],[0.2222222222222222,\"#7201a8\"],[0.3333333333333333,\"#9c179e\"],[0.4444444444444444,\"#bd3786\"],[0.5555555555555556,\"#d8576b\"],[0.6666666666666666,\"#ed7953\"],[0.7777777777777778,\"#fb9f3a\"],[0.8888888888888888,\"#fdca26\"],[1.0,\"#f0f921\"]]}],\"mesh3d\":[{\"type\":\"mesh3d\",\"colorbar\":{\"outlinewidth\":0,\"ticks\":\"\"}}],\"scatter\":[{\"fillpattern\":{\"fillmode\":\"overlay\",\"size\":10,\"solidity\":0.2},\"type\":\"scatter\"}],\"parcoords\":[{\"type\":\"parcoords\",\"line\":{\"colorbar\":{\"outlinewidth\":0,\"ticks\":\"\"}}}],\"scatterpolargl\":[{\"type\":\"scatterpolargl\",\"marker\":{\"colorbar\":{\"outlinewidth\":0,\"ticks\":\"\"}}}],\"bar\":[{\"error_x\":{\"color\":\"#2a3f5f\"},\"error_y\":{\"color\":\"#2a3f5f\"},\"marker\":{\"line\":{\"color\":\"#E5ECF6\",\"width\":0.5},\"pattern\":{\"fillmode\":\"overlay\",\"size\":10,\"solidity\":0.2}},\"type\":\"bar\"}],\"scattergeo\":[{\"type\":\"scattergeo\",\"marker\":{\"colorbar\":{\"outlinewidth\":0,\"ticks\":\"\"}}}],\"scatterpolar\":[{\"type\":\"scatterpolar\",\"marker\":{\"colorbar\":{\"outlinewidth\":0,\"ticks\":\"\"}}}],\"histogram\":[{\"marker\":{\"pattern\":{\"fillmode\":\"overlay\",\"size\":10,\"solidity\":0.2}},\"type\":\"histogram\"}],\"scattergl\":[{\"type\":\"scattergl\",\"marker\":{\"colorbar\":{\"outlinewidth\":0,\"ticks\":\"\"}}}],\"scatter3d\":[{\"type\":\"scatter3d\",\"line\":{\"colorbar\":{\"outlinewidth\":0,\"ticks\":\"\"}},\"marker\":{\"colorbar\":{\"outlinewidth\":0,\"ticks\":\"\"}}}],\"scattermapbox\":[{\"type\":\"scattermapbox\",\"marker\":{\"colorbar\":{\"outlinewidth\":0,\"ticks\":\"\"}}}],\"scatterternary\":[{\"type\":\"scatterternary\",\"marker\":{\"colorbar\":{\"outlinewidth\":0,\"ticks\":\"\"}}}],\"scattercarpet\":[{\"type\":\"scattercarpet\",\"marker\":{\"colorbar\":{\"outlinewidth\":0,\"ticks\":\"\"}}}],\"carpet\":[{\"aaxis\":{\"endlinecolor\":\"#2a3f5f\",\"gridcolor\":\"white\",\"linecolor\":\"white\",\"minorgridcolor\":\"white\",\"startlinecolor\":\"#2a3f5f\"},\"baxis\":{\"endlinecolor\":\"#2a3f5f\",\"gridcolor\":\"white\",\"linecolor\":\"white\",\"minorgridcolor\":\"white\",\"startlinecolor\":\"#2a3f5f\"},\"type\":\"carpet\"}],\"table\":[{\"cells\":{\"fill\":{\"color\":\"#EBF0F8\"},\"line\":{\"color\":\"white\"}},\"header\":{\"fill\":{\"color\":\"#C8D4E3\"},\"line\":{\"color\":\"white\"}},\"type\":\"table\"}],\"barpolar\":[{\"marker\":{\"line\":{\"color\":\"#E5ECF6\",\"width\":0.5},\"pattern\":{\"fillmode\":\"overlay\",\"size\":10,\"solidity\":0.2}},\"type\":\"barpolar\"}],\"pie\":[{\"automargin\":true,\"type\":\"pie\"}]},\"layout\":{\"autotypenumbers\":\"strict\",\"colorway\":[\"#636efa\",\"#EF553B\",\"#00cc96\",\"#ab63fa\",\"#FFA15A\",\"#19d3f3\",\"#FF6692\",\"#B6E880\",\"#FF97FF\",\"#FECB52\"],\"font\":{\"color\":\"#2a3f5f\"},\"hovermode\":\"closest\",\"hoverlabel\":{\"align\":\"left\"},\"paper_bgcolor\":\"white\",\"plot_bgcolor\":\"#E5ECF6\",\"polar\":{\"bgcolor\":\"#E5ECF6\",\"angularaxis\":{\"gridcolor\":\"white\",\"linecolor\":\"white\",\"ticks\":\"\"},\"radialaxis\":{\"gridcolor\":\"white\",\"linecolor\":\"white\",\"ticks\":\"\"}},\"ternary\":{\"bgcolor\":\"#E5ECF6\",\"aaxis\":{\"gridcolor\":\"white\",\"linecolor\":\"white\",\"ticks\":\"\"},\"baxis\":{\"gridcolor\":\"white\",\"linecolor\":\"white\",\"ticks\":\"\"},\"caxis\":{\"gridcolor\":\"white\",\"linecolor\":\"white\",\"ticks\":\"\"}},\"coloraxis\":{\"colorbar\":{\"outlinewidth\":0,\"ticks\":\"\"}},\"colorscale\":{\"sequential\":[[0.0,\"#0d0887\"],[0.1111111111111111,\"#46039f\"],[0.2222222222222222,\"#7201a8\"],[0.3333333333333333,\"#9c179e\"],[0.4444444444444444,\"#bd3786\"],[0.5555555555555556,\"#d8576b\"],[0.6666666666666666,\"#ed7953\"],[0.7777777777777778,\"#fb9f3a\"],[0.8888888888888888,\"#fdca26\"],[1.0,\"#f0f921\"]],\"sequentialminus\":[[0.0,\"#0d0887\"],[0.1111111111111111,\"#46039f\"],[0.2222222222222222,\"#7201a8\"],[0.3333333333333333,\"#9c179e\"],[0.4444444444444444,\"#bd3786\"],[0.5555555555555556,\"#d8576b\"],[0.6666666666666666,\"#ed7953\"],[0.7777777777777778,\"#fb9f3a\"],[0.8888888888888888,\"#fdca26\"],[1.0,\"#f0f921\"]],\"diverging\":[[0,\"#8e0152\"],[0.1,\"#c51b7d\"],[0.2,\"#de77ae\"],[0.3,\"#f1b6da\"],[0.4,\"#fde0ef\"],[0.5,\"#f7f7f7\"],[0.6,\"#e6f5d0\"],[0.7,\"#b8e186\"],[0.8,\"#7fbc41\"],[0.9,\"#4d9221\"],[1,\"#276419\"]]},\"xaxis\":{\"gridcolor\":\"white\",\"linecolor\":\"white\",\"ticks\":\"\",\"title\":{\"standoff\":15},\"zerolinecolor\":\"white\",\"automargin\":true,\"zerolinewidth\":2},\"yaxis\":{\"gridcolor\":\"white\",\"linecolor\":\"white\",\"ticks\":\"\",\"title\":{\"standoff\":15},\"zerolinecolor\":\"white\",\"automargin\":true,\"zerolinewidth\":2},\"scene\":{\"xaxis\":{\"backgroundcolor\":\"#E5ECF6\",\"gridcolor\":\"white\",\"linecolor\":\"white\",\"showbackground\":true,\"ticks\":\"\",\"zerolinecolor\":\"white\",\"gridwidth\":2},\"yaxis\":{\"backgroundcolor\":\"#E5ECF6\",\"gridcolor\":\"white\",\"linecolor\":\"white\",\"showbackground\":true,\"ticks\":\"\",\"zerolinecolor\":\"white\",\"gridwidth\":2},\"zaxis\":{\"backgroundcolor\":\"#E5ECF6\",\"gridcolor\":\"white\",\"linecolor\":\"white\",\"showbackground\":true,\"ticks\":\"\",\"zerolinecolor\":\"white\",\"gridwidth\":2}},\"shapedefaults\":{\"line\":{\"color\":\"#2a3f5f\"}},\"annotationdefaults\":{\"arrowcolor\":\"#2a3f5f\",\"arrowhead\":0,\"arrowwidth\":1},\"geo\":{\"bgcolor\":\"white\",\"landcolor\":\"#E5ECF6\",\"subunitcolor\":\"white\",\"showland\":true,\"showlakes\":true,\"lakecolor\":\"white\"},\"title\":{\"x\":0.05},\"mapbox\":{\"style\":\"light\"}}},\"legend\":{\"tracegroupgap\":0},\"title\":{\"text\":\"Distribution of Occupation\"},\"height\":500,\"width\":600},                        {\"responsive\": true}                    ).then(function(){\n",
       "                            \n",
       "var gd = document.getElementById('47fdc1ff-a0aa-42ec-a1c1-cf9d7645aebc');\n",
       "var x = new MutationObserver(function (mutations, observer) {{\n",
       "        var display = window.getComputedStyle(gd).display;\n",
       "        if (!display || display === 'none') {{\n",
       "            console.log([gd, 'removed!']);\n",
       "            Plotly.purge(gd);\n",
       "            observer.disconnect();\n",
       "        }}\n",
       "}});\n",
       "\n",
       "// Listen for the removal of the full notebook cells\n",
       "var notebookContainer = gd.closest('#notebook-container');\n",
       "if (notebookContainer) {{\n",
       "    x.observe(notebookContainer, {childList: true});\n",
       "}}\n",
       "\n",
       "// Listen for the clearing of the current output cell\n",
       "var outputEl = gd.closest('.output');\n",
       "if (outputEl) {{\n",
       "    x.observe(outputEl, {childList: true});\n",
       "}}\n",
       "\n",
       "                        })                };                });            </script>        </div>"
      ]
     },
     "metadata": {},
     "output_type": "display_data"
    }
   ],
   "source": [
    "fig = px.pie(stress['Occupation'].value_counts(), \n",
    "              names=stress['Occupation'].value_counts().index, \n",
    "              title='Distribution of Occupation', width=600, height=500)\n",
    "fig.show()"
   ]
  },
  {
   "cell_type": "code",
   "execution_count": 27,
   "id": "cc953f77",
   "metadata": {
    "execution": {
     "iopub.execute_input": "2024-04-18T18:02:58.931499Z",
     "iopub.status.busy": "2024-04-18T18:02:58.931105Z",
     "iopub.status.idle": "2024-04-18T18:02:59.017109Z",
     "shell.execute_reply": "2024-04-18T18:02:59.016018Z"
    },
    "papermill": {
     "duration": 0.111899,
     "end_time": "2024-04-18T18:02:59.019350",
     "exception": false,
     "start_time": "2024-04-18T18:02:58.907451",
     "status": "completed"
    },
    "tags": []
   },
   "outputs": [
    {
     "data": {
      "text/html": [
       "<div>                            <div id=\"95aaa4cd-67a4-473a-9ec6-4ed573d2f451\" class=\"plotly-graph-div\" style=\"height:500px; width:600px;\"></div>            <script type=\"text/javascript\">                require([\"plotly\"], function(Plotly) {                    window.PLOTLYENV=window.PLOTLYENV || {};                                    if (document.getElementById(\"95aaa4cd-67a4-473a-9ec6-4ed573d2f451\")) {                    Plotly.newPlot(                        \"95aaa4cd-67a4-473a-9ec6-4ed573d2f451\",                        [{\"alignmentgroup\":\"True\",\"hovertemplate\":\"Stress Level=%{x}\\u003cbr\\u003eOccupation=%{y}\\u003cextra\\u003e\\u003c\\u002fextra\\u003e\",\"legendgroup\":\"\",\"marker\":{\"color\":\"lightgreen\"},\"name\":\"\",\"notched\":false,\"offsetgroup\":\"\",\"orientation\":\"v\",\"showlegend\":false,\"x\":[6,8,8,8,8,8,7,6,6,6,8,6,8,8,8,8,7,8,7,6,6,6,6,6,6,6,6,6,6,6,7,7,4,8,6,8,8,6,6,6,6,6,6,6,6,6,6,6,6,6,3,3,8,6,8,8,6,8,8,6,8,8,8,8,8,8,6,8,6,6,8,8,8,8,8,8,8,8,8,8,8,8,5,5,5,4,4,4,4,4,4,4,5,5,4,4,4,4,4,4,4,4,4,7,4,7,6,4,4,5,4,5,4,5,4,4,4,4,4,4,4,4,4,4,4,4,5,4,5,5,4,5,5,4,5,5,4,5,4,5,4,5,4,4,5,5,5,7,6,3,3,5,5,5,5,5,5,5,5,5,5,6,6,5,5,5,6,6,6,5,5,5,5,5,5,5,5,7,5,5,5,5,5,5,7,7,4,7,4,7,4,7,7,7,7,7,7,7,7,7,7,5,5,7,4,5,5,5,5,5,5,5,5,5,5,5,5,5,5,7,4,7,7,7,4,7,4,7,4,7,4,7,4,7,4,7,7,4,7,7,4,7,7,4,7,4,7,7,7,7,6,6,4,4,4,4,4,4,4,4,4,4,4,5,5,8,5,8,8,8,8,8,8,8,8,8,3,3,8,3,8,8,8,8,8,8,8,8,8,8,8,8,8,8,8,8,8,8,3,3,3,3,6,8,8,8,7,7,7,7,7,7,3,3,3,3,3,3,3,3,3,3,3,3,3,3,3,3,3,3,3,3,3,3,3,3,3,3,3,4,4,3,3,3,3,3,3,3,3,3,3,3,3,3,3,3,3,3,3,3,3,3,3,3,3,3,3,3,3,3,3,3,3,3],\"x0\":\" \",\"xaxis\":\"x\",\"y\":[9,1,1,6,6,9,10,1,1,1,1,1,1,1,1,1,5,1,5,1,1,1,1,1,1,1,1,1,1,1,5,5,5,1,1,1,1,1,1,1,1,1,1,1,1,1,1,1,1,1,2,2,1,1,1,1,1,1,1,1,1,1,1,1,1,1,0,1,8,8,1,1,1,1,1,1,1,1,1,1,8,8,10,10,9,0,2,2,2,2,2,2,9,3,0,0,0,0,10,10,10,10,10,10,10,10,5,2,2,3,0,3,0,3,0,0,0,0,0,0,0,0,0,0,0,5,3,0,3,3,0,3,3,0,3,3,0,3,0,3,0,3,0,0,3,3,3,2,3,0,0,3,3,3,3,3,3,3,3,3,3,0,0,3,3,3,2,3,3,3,3,3,3,3,3,3,3,7,3,3,3,3,3,3,10,10,10,7,10,7,10,7,7,7,7,7,7,7,7,7,7,2,2,2,2,2,2,2,2,2,2,2,2,2,2,2,2,2,2,7,10,7,7,7,10,7,10,7,10,7,10,7,10,7,10,7,7,10,7,7,10,7,7,10,7,10,7,2,7,7,10,10,10,10,10,10,10,10,10,10,10,10,10,4,1,5,1,5,5,5,5,5,5,5,5,5,1,1,5,2,5,5,5,5,5,5,5,5,5,5,5,5,5,5,5,5,5,5,2,2,2,2,5,5,5,5,0,0,0,0,0,0,2,2,2,2,2,2,2,2,2,2,2,2,2,2,2,2,2,2,2,2,2,2,2,2,2,2,2,5,5,1,1,5,5,5,5,5,5,5,5,5,5,5,5,5,5,5,5,5,5,5,5,5,5,5,5,5,5,5,5,5,5,5],\"y0\":\" \",\"yaxis\":\"y\",\"type\":\"box\"}],                        {\"template\":{\"data\":{\"histogram2dcontour\":[{\"type\":\"histogram2dcontour\",\"colorbar\":{\"outlinewidth\":0,\"ticks\":\"\"},\"colorscale\":[[0.0,\"#0d0887\"],[0.1111111111111111,\"#46039f\"],[0.2222222222222222,\"#7201a8\"],[0.3333333333333333,\"#9c179e\"],[0.4444444444444444,\"#bd3786\"],[0.5555555555555556,\"#d8576b\"],[0.6666666666666666,\"#ed7953\"],[0.7777777777777778,\"#fb9f3a\"],[0.8888888888888888,\"#fdca26\"],[1.0,\"#f0f921\"]]}],\"choropleth\":[{\"type\":\"choropleth\",\"colorbar\":{\"outlinewidth\":0,\"ticks\":\"\"}}],\"histogram2d\":[{\"type\":\"histogram2d\",\"colorbar\":{\"outlinewidth\":0,\"ticks\":\"\"},\"colorscale\":[[0.0,\"#0d0887\"],[0.1111111111111111,\"#46039f\"],[0.2222222222222222,\"#7201a8\"],[0.3333333333333333,\"#9c179e\"],[0.4444444444444444,\"#bd3786\"],[0.5555555555555556,\"#d8576b\"],[0.6666666666666666,\"#ed7953\"],[0.7777777777777778,\"#fb9f3a\"],[0.8888888888888888,\"#fdca26\"],[1.0,\"#f0f921\"]]}],\"heatmap\":[{\"type\":\"heatmap\",\"colorbar\":{\"outlinewidth\":0,\"ticks\":\"\"},\"colorscale\":[[0.0,\"#0d0887\"],[0.1111111111111111,\"#46039f\"],[0.2222222222222222,\"#7201a8\"],[0.3333333333333333,\"#9c179e\"],[0.4444444444444444,\"#bd3786\"],[0.5555555555555556,\"#d8576b\"],[0.6666666666666666,\"#ed7953\"],[0.7777777777777778,\"#fb9f3a\"],[0.8888888888888888,\"#fdca26\"],[1.0,\"#f0f921\"]]}],\"heatmapgl\":[{\"type\":\"heatmapgl\",\"colorbar\":{\"outlinewidth\":0,\"ticks\":\"\"},\"colorscale\":[[0.0,\"#0d0887\"],[0.1111111111111111,\"#46039f\"],[0.2222222222222222,\"#7201a8\"],[0.3333333333333333,\"#9c179e\"],[0.4444444444444444,\"#bd3786\"],[0.5555555555555556,\"#d8576b\"],[0.6666666666666666,\"#ed7953\"],[0.7777777777777778,\"#fb9f3a\"],[0.8888888888888888,\"#fdca26\"],[1.0,\"#f0f921\"]]}],\"contourcarpet\":[{\"type\":\"contourcarpet\",\"colorbar\":{\"outlinewidth\":0,\"ticks\":\"\"}}],\"contour\":[{\"type\":\"contour\",\"colorbar\":{\"outlinewidth\":0,\"ticks\":\"\"},\"colorscale\":[[0.0,\"#0d0887\"],[0.1111111111111111,\"#46039f\"],[0.2222222222222222,\"#7201a8\"],[0.3333333333333333,\"#9c179e\"],[0.4444444444444444,\"#bd3786\"],[0.5555555555555556,\"#d8576b\"],[0.6666666666666666,\"#ed7953\"],[0.7777777777777778,\"#fb9f3a\"],[0.8888888888888888,\"#fdca26\"],[1.0,\"#f0f921\"]]}],\"surface\":[{\"type\":\"surface\",\"colorbar\":{\"outlinewidth\":0,\"ticks\":\"\"},\"colorscale\":[[0.0,\"#0d0887\"],[0.1111111111111111,\"#46039f\"],[0.2222222222222222,\"#7201a8\"],[0.3333333333333333,\"#9c179e\"],[0.4444444444444444,\"#bd3786\"],[0.5555555555555556,\"#d8576b\"],[0.6666666666666666,\"#ed7953\"],[0.7777777777777778,\"#fb9f3a\"],[0.8888888888888888,\"#fdca26\"],[1.0,\"#f0f921\"]]}],\"mesh3d\":[{\"type\":\"mesh3d\",\"colorbar\":{\"outlinewidth\":0,\"ticks\":\"\"}}],\"scatter\":[{\"fillpattern\":{\"fillmode\":\"overlay\",\"size\":10,\"solidity\":0.2},\"type\":\"scatter\"}],\"parcoords\":[{\"type\":\"parcoords\",\"line\":{\"colorbar\":{\"outlinewidth\":0,\"ticks\":\"\"}}}],\"scatterpolargl\":[{\"type\":\"scatterpolargl\",\"marker\":{\"colorbar\":{\"outlinewidth\":0,\"ticks\":\"\"}}}],\"bar\":[{\"error_x\":{\"color\":\"#2a3f5f\"},\"error_y\":{\"color\":\"#2a3f5f\"},\"marker\":{\"line\":{\"color\":\"#E5ECF6\",\"width\":0.5},\"pattern\":{\"fillmode\":\"overlay\",\"size\":10,\"solidity\":0.2}},\"type\":\"bar\"}],\"scattergeo\":[{\"type\":\"scattergeo\",\"marker\":{\"colorbar\":{\"outlinewidth\":0,\"ticks\":\"\"}}}],\"scatterpolar\":[{\"type\":\"scatterpolar\",\"marker\":{\"colorbar\":{\"outlinewidth\":0,\"ticks\":\"\"}}}],\"histogram\":[{\"marker\":{\"pattern\":{\"fillmode\":\"overlay\",\"size\":10,\"solidity\":0.2}},\"type\":\"histogram\"}],\"scattergl\":[{\"type\":\"scattergl\",\"marker\":{\"colorbar\":{\"outlinewidth\":0,\"ticks\":\"\"}}}],\"scatter3d\":[{\"type\":\"scatter3d\",\"line\":{\"colorbar\":{\"outlinewidth\":0,\"ticks\":\"\"}},\"marker\":{\"colorbar\":{\"outlinewidth\":0,\"ticks\":\"\"}}}],\"scattermapbox\":[{\"type\":\"scattermapbox\",\"marker\":{\"colorbar\":{\"outlinewidth\":0,\"ticks\":\"\"}}}],\"scatterternary\":[{\"type\":\"scatterternary\",\"marker\":{\"colorbar\":{\"outlinewidth\":0,\"ticks\":\"\"}}}],\"scattercarpet\":[{\"type\":\"scattercarpet\",\"marker\":{\"colorbar\":{\"outlinewidth\":0,\"ticks\":\"\"}}}],\"carpet\":[{\"aaxis\":{\"endlinecolor\":\"#2a3f5f\",\"gridcolor\":\"white\",\"linecolor\":\"white\",\"minorgridcolor\":\"white\",\"startlinecolor\":\"#2a3f5f\"},\"baxis\":{\"endlinecolor\":\"#2a3f5f\",\"gridcolor\":\"white\",\"linecolor\":\"white\",\"minorgridcolor\":\"white\",\"startlinecolor\":\"#2a3f5f\"},\"type\":\"carpet\"}],\"table\":[{\"cells\":{\"fill\":{\"color\":\"#EBF0F8\"},\"line\":{\"color\":\"white\"}},\"header\":{\"fill\":{\"color\":\"#C8D4E3\"},\"line\":{\"color\":\"white\"}},\"type\":\"table\"}],\"barpolar\":[{\"marker\":{\"line\":{\"color\":\"#E5ECF6\",\"width\":0.5},\"pattern\":{\"fillmode\":\"overlay\",\"size\":10,\"solidity\":0.2}},\"type\":\"barpolar\"}],\"pie\":[{\"automargin\":true,\"type\":\"pie\"}]},\"layout\":{\"autotypenumbers\":\"strict\",\"colorway\":[\"#636efa\",\"#EF553B\",\"#00cc96\",\"#ab63fa\",\"#FFA15A\",\"#19d3f3\",\"#FF6692\",\"#B6E880\",\"#FF97FF\",\"#FECB52\"],\"font\":{\"color\":\"#2a3f5f\"},\"hovermode\":\"closest\",\"hoverlabel\":{\"align\":\"left\"},\"paper_bgcolor\":\"white\",\"plot_bgcolor\":\"#E5ECF6\",\"polar\":{\"bgcolor\":\"#E5ECF6\",\"angularaxis\":{\"gridcolor\":\"white\",\"linecolor\":\"white\",\"ticks\":\"\"},\"radialaxis\":{\"gridcolor\":\"white\",\"linecolor\":\"white\",\"ticks\":\"\"}},\"ternary\":{\"bgcolor\":\"#E5ECF6\",\"aaxis\":{\"gridcolor\":\"white\",\"linecolor\":\"white\",\"ticks\":\"\"},\"baxis\":{\"gridcolor\":\"white\",\"linecolor\":\"white\",\"ticks\":\"\"},\"caxis\":{\"gridcolor\":\"white\",\"linecolor\":\"white\",\"ticks\":\"\"}},\"coloraxis\":{\"colorbar\":{\"outlinewidth\":0,\"ticks\":\"\"}},\"colorscale\":{\"sequential\":[[0.0,\"#0d0887\"],[0.1111111111111111,\"#46039f\"],[0.2222222222222222,\"#7201a8\"],[0.3333333333333333,\"#9c179e\"],[0.4444444444444444,\"#bd3786\"],[0.5555555555555556,\"#d8576b\"],[0.6666666666666666,\"#ed7953\"],[0.7777777777777778,\"#fb9f3a\"],[0.8888888888888888,\"#fdca26\"],[1.0,\"#f0f921\"]],\"sequentialminus\":[[0.0,\"#0d0887\"],[0.1111111111111111,\"#46039f\"],[0.2222222222222222,\"#7201a8\"],[0.3333333333333333,\"#9c179e\"],[0.4444444444444444,\"#bd3786\"],[0.5555555555555556,\"#d8576b\"],[0.6666666666666666,\"#ed7953\"],[0.7777777777777778,\"#fb9f3a\"],[0.8888888888888888,\"#fdca26\"],[1.0,\"#f0f921\"]],\"diverging\":[[0,\"#8e0152\"],[0.1,\"#c51b7d\"],[0.2,\"#de77ae\"],[0.3,\"#f1b6da\"],[0.4,\"#fde0ef\"],[0.5,\"#f7f7f7\"],[0.6,\"#e6f5d0\"],[0.7,\"#b8e186\"],[0.8,\"#7fbc41\"],[0.9,\"#4d9221\"],[1,\"#276419\"]]},\"xaxis\":{\"gridcolor\":\"white\",\"linecolor\":\"white\",\"ticks\":\"\",\"title\":{\"standoff\":15},\"zerolinecolor\":\"white\",\"automargin\":true,\"zerolinewidth\":2},\"yaxis\":{\"gridcolor\":\"white\",\"linecolor\":\"white\",\"ticks\":\"\",\"title\":{\"standoff\":15},\"zerolinecolor\":\"white\",\"automargin\":true,\"zerolinewidth\":2},\"scene\":{\"xaxis\":{\"backgroundcolor\":\"#E5ECF6\",\"gridcolor\":\"white\",\"linecolor\":\"white\",\"showbackground\":true,\"ticks\":\"\",\"zerolinecolor\":\"white\",\"gridwidth\":2},\"yaxis\":{\"backgroundcolor\":\"#E5ECF6\",\"gridcolor\":\"white\",\"linecolor\":\"white\",\"showbackground\":true,\"ticks\":\"\",\"zerolinecolor\":\"white\",\"gridwidth\":2},\"zaxis\":{\"backgroundcolor\":\"#E5ECF6\",\"gridcolor\":\"white\",\"linecolor\":\"white\",\"showbackground\":true,\"ticks\":\"\",\"zerolinecolor\":\"white\",\"gridwidth\":2}},\"shapedefaults\":{\"line\":{\"color\":\"#2a3f5f\"}},\"annotationdefaults\":{\"arrowcolor\":\"#2a3f5f\",\"arrowhead\":0,\"arrowwidth\":1},\"geo\":{\"bgcolor\":\"white\",\"landcolor\":\"#E5ECF6\",\"subunitcolor\":\"white\",\"showland\":true,\"showlakes\":true,\"lakecolor\":\"white\"},\"title\":{\"x\":0.05},\"mapbox\":{\"style\":\"light\"}}},\"xaxis\":{\"anchor\":\"y\",\"domain\":[0.0,1.0],\"title\":{\"text\":\"Stress Level\"}},\"yaxis\":{\"anchor\":\"x\",\"domain\":[0.0,1.0],\"title\":{\"text\":\"Occupation\"}},\"legend\":{\"tracegroupgap\":0},\"title\":{\"text\":\"Stress Level Distribution by Occupation\"},\"boxmode\":\"group\",\"width\":600,\"height\":500},                        {\"responsive\": true}                    ).then(function(){\n",
       "                            \n",
       "var gd = document.getElementById('95aaa4cd-67a4-473a-9ec6-4ed573d2f451');\n",
       "var x = new MutationObserver(function (mutations, observer) {{\n",
       "        var display = window.getComputedStyle(gd).display;\n",
       "        if (!display || display === 'none') {{\n",
       "            console.log([gd, 'removed!']);\n",
       "            Plotly.purge(gd);\n",
       "            observer.disconnect();\n",
       "        }}\n",
       "}});\n",
       "\n",
       "// Listen for the removal of the full notebook cells\n",
       "var notebookContainer = gd.closest('#notebook-container');\n",
       "if (notebookContainer) {{\n",
       "    x.observe(notebookContainer, {childList: true});\n",
       "}}\n",
       "\n",
       "// Listen for the clearing of the current output cell\n",
       "var outputEl = gd.closest('.output');\n",
       "if (outputEl) {{\n",
       "    x.observe(outputEl, {childList: true});\n",
       "}}\n",
       "\n",
       "                        })                };                });            </script>        </div>"
      ]
     },
     "metadata": {},
     "output_type": "display_data"
    }
   ],
   "source": [
    "fig = px.box(stress, x='Stress Level', y='Occupation', title='Stress Level Distribution by Occupation', color_discrete_sequence=['lightgreen'])\n",
    "fig.update_layout(xaxis_title='Stress Level', yaxis_title='Occupation', width=600, height=500)\n",
    "fig.show()"
   ]
  },
  {
   "cell_type": "code",
   "execution_count": 28,
   "id": "2d184ccd",
   "metadata": {
    "execution": {
     "iopub.execute_input": "2024-04-18T18:02:59.066416Z",
     "iopub.status.busy": "2024-04-18T18:02:59.065391Z",
     "iopub.status.idle": "2024-04-18T18:02:59.987248Z",
     "shell.execute_reply": "2024-04-18T18:02:59.986435Z"
    },
    "papermill": {
     "duration": 0.948953,
     "end_time": "2024-04-18T18:02:59.990698",
     "exception": false,
     "start_time": "2024-04-18T18:02:59.041745",
     "status": "completed"
    },
    "tags": []
   },
   "outputs": [
    {
     "data": {
      "text/plain": [
       "<function matplotlib.pyplot.show(close=None, block=None)>"
      ]
     },
     "execution_count": 28,
     "metadata": {},
     "output_type": "execute_result"
    },
    {
     "data": {
      "image/png": "[encoded data removed]",
      "text/plain": [
       "<Figure size 1000x1000 with 2 Axes>"
      ]
     },
     "metadata": {},
     "output_type": "display_data"
    }
   ],
   "source": [
    "plt.figure(figsize = (10, 10))\n",
    "sns.heatmap(stress.corr(), cmap = 'crest', annot = True)\n",
    "plt.show"
   ]
  },
  {
   "cell_type": "markdown",
   "id": "17d1d5b1",
   "metadata": {
    "papermill": {
     "duration": 0.026365,
     "end_time": "2024-04-18T18:03:00.042459",
     "exception": false,
     "start_time": "2024-04-18T18:03:00.016094",
     "status": "completed"
    },
    "tags": []
   },
   "source": [
    "**Positively Correlated columns:**\n",
    "* \"Quality of Sleep\" and \"Sleep Duration\" \n",
    "* \"Occupation\" and \"BMI Category\"\n",
    "* \"Systolic BP\" and \"BMI Category\"\n",
    "* \"Diastolic BP\" and \"BMI Category\"\n",
    "\n",
    "**Negatively Correlated columns:**\n",
    "* \"Heart Rate\" and \"Quality of Sleep\"\n",
    "* \"Heart Rate\" and \"Sleep Duration\"\n",
    "\n",
    "**No correlation with Target column: Stress level:**\n",
    "* \"Sleep Disorder\"\n",
    "* \"Physical Activity Level\"."
   ]
  },
  {
   "cell_type": "markdown",
   "id": "92521542",
   "metadata": {
    "papermill": {
     "duration": 0.024906,
     "end_time": "2024-04-18T18:03:00.092486",
     "exception": false,
     "start_time": "2024-04-18T18:03:00.067580",
     "status": "completed"
    },
    "tags": []
   },
   "source": [
    "Hence we drop, Sleep Disorder, Physical Activity Level, Diastolic BP and Quality of Sleep columns. "
   ]
  },
  {
   "cell_type": "code",
   "execution_count": 29,
   "id": "0b8c1dab",
   "metadata": {
    "execution": {
     "iopub.execute_input": "2024-04-18T18:03:00.144924Z",
     "iopub.status.busy": "2024-04-18T18:03:00.144049Z",
     "iopub.status.idle": "2024-04-18T18:03:00.925016Z",
     "shell.execute_reply": "2024-04-18T18:03:00.924191Z"
    },
    "papermill": {
     "duration": 0.810299,
     "end_time": "2024-04-18T18:03:00.927806",
     "exception": false,
     "start_time": "2024-04-18T18:03:00.117507",
     "status": "completed"
    },
    "tags": []
   },
   "outputs": [
    {
     "data": {
      "text/plain": [
       "<function matplotlib.pyplot.show(close=None, block=None)>"
      ]
     },
     "execution_count": 29,
     "metadata": {},
     "output_type": "execute_result"
    },
    {
     "data": {
      "image/png": "[encoded data removed]",
      "text/plain": [
       "<Figure size 1000x1000 with 2 Axes>"
      ]
     },
     "metadata": {},
     "output_type": "display_data"
    }
   ],
   "source": [
    "stress.drop('Sleep Disorder', axis=1, inplace=True)\n",
    "stress.drop('Physical Activity Level', axis=1, inplace=True)\n",
    "stress.drop('Diastolic BP', axis=1, inplace=True)\n",
    "stress.drop('Quality of Sleep', axis=1, inplace=True)\n",
    "\n",
    "#Plot the heatmap\n",
    "plt.figure(figsize = (10, 10))\n",
    "sns.heatmap(stress.corr(), cmap = 'crest', annot = True)\n",
    "plt.show"
   ]
  },
  {
   "cell_type": "code",
   "execution_count": 30,
   "id": "a26ffd99",
   "metadata": {
    "execution": {
     "iopub.execute_input": "2024-04-18T18:03:00.983174Z",
     "iopub.status.busy": "2024-04-18T18:03:00.982801Z",
     "iopub.status.idle": "2024-04-18T18:03:00.994060Z",
     "shell.execute_reply": "2024-04-18T18:03:00.993277Z"
    },
    "papermill": {
     "duration": 0.041451,
     "end_time": "2024-04-18T18:03:00.995953",
     "exception": false,
     "start_time": "2024-04-18T18:03:00.954502",
     "status": "completed"
    },
    "tags": []
   },
   "outputs": [
    {
     "data": {
      "text/html": [
       "<div>\n",
       "<style scoped>\n",
       "    .dataframe tbody tr th:only-of-type {\n",
       "        vertical-align: middle;\n",
       "    }\n",
       "\n",
       "    .dataframe tbody tr th {\n",
       "        vertical-align: top;\n",
       "    }\n",
       "\n",
       "    .dataframe thead th {\n",
       "        text-align: right;\n",
       "    }\n",
       "</style>\n",
       "<table border=\"1\" class=\"dataframe\">\n",
       "  <thead>\n",
       "    <tr style=\"text-align: right;\">\n",
       "      <th></th>\n",
       "      <th>Gender</th>\n",
       "      <th>Age</th>\n",
       "      <th>Occupation</th>\n",
       "      <th>Sleep Duration</th>\n",
       "      <th>BMI Category</th>\n",
       "      <th>Heart Rate</th>\n",
       "      <th>Daily Steps</th>\n",
       "      <th>Systolic BP</th>\n",
       "      <th>Stress Level</th>\n",
       "    </tr>\n",
       "  </thead>\n",
       "  <tbody>\n",
       "    <tr>\n",
       "      <th>0</th>\n",
       "      <td>1</td>\n",
       "      <td>27</td>\n",
       "      <td>9</td>\n",
       "      <td>6.1</td>\n",
       "      <td>2</td>\n",
       "      <td>77</td>\n",
       "      <td>4200</td>\n",
       "      <td>126</td>\n",
       "      <td>6</td>\n",
       "    </tr>\n",
       "  </tbody>\n",
       "</table>\n",
       "</div>"
      ],
      "text/plain": [
       "   Gender  Age  Occupation  Sleep Duration  BMI Category  Heart Rate  \\\n",
       "0       1   27           9             6.1             2          77   \n",
       "\n",
       "   Daily Steps  Systolic BP  Stress Level  \n",
       "0         4200          126             6  "
      ]
     },
     "execution_count": 30,
     "metadata": {},
     "output_type": "execute_result"
    }
   ],
   "source": [
    "stress.head(1)\n"
   ]
  },
  {
   "cell_type": "markdown",
   "id": "08c30013",
   "metadata": {
    "papermill": {
     "duration": 0.026978,
     "end_time": "2024-04-18T18:03:01.051025",
     "exception": false,
     "start_time": "2024-04-18T18:03:01.024047",
     "status": "completed"
    },
    "tags": []
   },
   "source": [
    "# 6. Importing Modules & Packages"
   ]
  },
  {
   "cell_type": "code",
   "execution_count": 31,
   "id": "2ed96728",
   "metadata": {
    "execution": {
     "iopub.execute_input": "2024-04-18T18:03:01.107042Z",
     "iopub.status.busy": "2024-04-18T18:03:01.106377Z",
     "iopub.status.idle": "2024-04-18T18:03:01.494138Z",
     "shell.execute_reply": "2024-04-18T18:03:01.492964Z"
    },
    "papermill": {
     "duration": 0.418715,
     "end_time": "2024-04-18T18:03:01.496732",
     "exception": false,
     "start_time": "2024-04-18T18:03:01.078017",
     "status": "completed"
    },
    "tags": []
   },
   "outputs": [],
   "source": [
    "from sklearn.model_selection import train_test_split    # For splitting data into training and testing sets\n",
    "from sklearn.metrics import confusion_matrix            # Import the confusion_matrix function for evaluating classification results\n",
    "from sklearn.metrics import classification_report       # Import the classification_report function for detailed classification metrics\n",
    "from sklearn.metrics import accuracy_score\n",
    "\n",
    "from sklearn.linear_model import LogisticRegression    \n",
    "from sklearn.ensemble import RandomForestClassifier    \n",
    "from sklearn.tree import DecisionTreeClassifier        \n",
    "from sklearn import svm                         \n",
    "from sklearn.naive_bayes import GaussianNB            \n",
    "from sklearn.neighbors import KNeighborsClassifier  \n"
   ]
  },
  {
   "cell_type": "markdown",
   "id": "ff462f73",
   "metadata": {
    "papermill": {
     "duration": 0.028342,
     "end_time": "2024-04-18T18:03:01.552900",
     "exception": false,
     "start_time": "2024-04-18T18:03:01.524558",
     "status": "completed"
    },
    "tags": []
   },
   "source": [
    "# 7. Data Preparation"
   ]
  },
  {
   "cell_type": "code",
   "execution_count": 32,
   "id": "d39a6792",
   "metadata": {
    "execution": {
     "iopub.execute_input": "2024-04-18T18:03:01.610340Z",
     "iopub.status.busy": "2024-04-18T18:03:01.609686Z",
     "iopub.status.idle": "2024-04-18T18:03:01.615904Z",
     "shell.execute_reply": "2024-04-18T18:03:01.614889Z"
    },
    "papermill": {
     "duration": 0.037171,
     "end_time": "2024-04-18T18:03:01.617853",
     "exception": false,
     "start_time": "2024-04-18T18:03:01.580682",
     "status": "completed"
    },
    "tags": []
   },
   "outputs": [],
   "source": [
    "# Split the data into features (X) and the target variable (y)\n",
    "X = stress.drop(['Stress Level'], axis=1)\n",
    "y = stress['Stress Level']"
   ]
  },
  {
   "cell_type": "code",
   "execution_count": 33,
   "id": "050caf4e",
   "metadata": {
    "execution": {
     "iopub.execute_input": "2024-04-18T18:03:01.675229Z",
     "iopub.status.busy": "2024-04-18T18:03:01.674643Z",
     "iopub.status.idle": "2024-04-18T18:03:01.684589Z",
     "shell.execute_reply": "2024-04-18T18:03:01.683279Z"
    },
    "papermill": {
     "duration": 0.041953,
     "end_time": "2024-04-18T18:03:01.686735",
     "exception": false,
     "start_time": "2024-04-18T18:03:01.644782",
     "status": "completed"
    },
    "tags": []
   },
   "outputs": [
    {
     "name": "stdout",
     "output_type": "stream",
     "text": [
      "X_train shape: (299, 8)\n",
      "y_train shape: (299,)\n",
      "X_test shape: (75, 8)\n",
      "y_test shape: (75,)\n"
     ]
    }
   ],
   "source": [
    "# Split the data into training and testing sets (80% training, 20% testing)\n",
    "X_train, X_test, y_train, y_test = train_test_split(X, y, test_size=0.2, random_state=42)\n",
    "\n",
    "# Display the shapes of the training and testing sets\n",
    "print(\"X_train shape:\", X_train.shape)\n",
    "print(\"y_train shape:\", y_train.shape)\n",
    "print(\"X_test shape:\", X_test.shape)\n",
    "print(\"y_test shape:\", y_test.shape)"
   ]
  },
  {
   "cell_type": "code",
   "execution_count": 34,
   "id": "aa3c6653",
   "metadata": {
    "execution": {
     "iopub.execute_input": "2024-04-18T18:03:01.743776Z",
     "iopub.status.busy": "2024-04-18T18:03:01.743049Z",
     "iopub.status.idle": "2024-04-18T18:03:01.757760Z",
     "shell.execute_reply": "2024-04-18T18:03:01.756679Z"
    },
    "papermill": {
     "duration": 0.046109,
     "end_time": "2024-04-18T18:03:01.760006",
     "exception": false,
     "start_time": "2024-04-18T18:03:01.713897",
     "status": "completed"
    },
    "tags": []
   },
   "outputs": [
    {
     "data": {
      "text/html": [
       "<div>\n",
       "<style scoped>\n",
       "    .dataframe tbody tr th:only-of-type {\n",
       "        vertical-align: middle;\n",
       "    }\n",
       "\n",
       "    .dataframe tbody tr th {\n",
       "        vertical-align: top;\n",
       "    }\n",
       "\n",
       "    .dataframe thead th {\n",
       "        text-align: right;\n",
       "    }\n",
       "</style>\n",
       "<table border=\"1\" class=\"dataframe\">\n",
       "  <thead>\n",
       "    <tr style=\"text-align: right;\">\n",
       "      <th></th>\n",
       "      <th>Gender</th>\n",
       "      <th>Age</th>\n",
       "      <th>Occupation</th>\n",
       "      <th>Sleep Duration</th>\n",
       "      <th>BMI Category</th>\n",
       "      <th>Heart Rate</th>\n",
       "      <th>Daily Steps</th>\n",
       "      <th>Systolic BP</th>\n",
       "    </tr>\n",
       "  </thead>\n",
       "  <tbody>\n",
       "    <tr>\n",
       "      <th>192</th>\n",
       "      <td>1</td>\n",
       "      <td>43</td>\n",
       "      <td>7</td>\n",
       "      <td>6.5</td>\n",
       "      <td>2</td>\n",
       "      <td>72</td>\n",
       "      <td>6000</td>\n",
       "      <td>130</td>\n",
       "    </tr>\n",
       "    <tr>\n",
       "      <th>75</th>\n",
       "      <td>1</td>\n",
       "      <td>33</td>\n",
       "      <td>1</td>\n",
       "      <td>6.0</td>\n",
       "      <td>0</td>\n",
       "      <td>72</td>\n",
       "      <td>5000</td>\n",
       "      <td>125</td>\n",
       "    </tr>\n",
       "    <tr>\n",
       "      <th>84</th>\n",
       "      <td>1</td>\n",
       "      <td>35</td>\n",
       "      <td>9</td>\n",
       "      <td>7.5</td>\n",
       "      <td>0</td>\n",
       "      <td>70</td>\n",
       "      <td>8000</td>\n",
       "      <td>120</td>\n",
       "    </tr>\n",
       "    <tr>\n",
       "      <th>362</th>\n",
       "      <td>0</td>\n",
       "      <td>59</td>\n",
       "      <td>5</td>\n",
       "      <td>8.2</td>\n",
       "      <td>2</td>\n",
       "      <td>68</td>\n",
       "      <td>7000</td>\n",
       "      <td>140</td>\n",
       "    </tr>\n",
       "    <tr>\n",
       "      <th>16</th>\n",
       "      <td>0</td>\n",
       "      <td>29</td>\n",
       "      <td>5</td>\n",
       "      <td>6.5</td>\n",
       "      <td>0</td>\n",
       "      <td>80</td>\n",
       "      <td>4000</td>\n",
       "      <td>132</td>\n",
       "    </tr>\n",
       "    <tr>\n",
       "      <th>...</th>\n",
       "      <td>...</td>\n",
       "      <td>...</td>\n",
       "      <td>...</td>\n",
       "      <td>...</td>\n",
       "      <td>...</td>\n",
       "      <td>...</td>\n",
       "      <td>...</td>\n",
       "      <td>...</td>\n",
       "    </tr>\n",
       "    <tr>\n",
       "      <th>71</th>\n",
       "      <td>1</td>\n",
       "      <td>33</td>\n",
       "      <td>1</td>\n",
       "      <td>6.1</td>\n",
       "      <td>0</td>\n",
       "      <td>72</td>\n",
       "      <td>5000</td>\n",
       "      <td>125</td>\n",
       "    </tr>\n",
       "    <tr>\n",
       "      <th>106</th>\n",
       "      <td>0</td>\n",
       "      <td>37</td>\n",
       "      <td>5</td>\n",
       "      <td>6.1</td>\n",
       "      <td>2</td>\n",
       "      <td>77</td>\n",
       "      <td>4200</td>\n",
       "      <td>126</td>\n",
       "    </tr>\n",
       "    <tr>\n",
       "      <th>270</th>\n",
       "      <td>0</td>\n",
       "      <td>49</td>\n",
       "      <td>5</td>\n",
       "      <td>6.1</td>\n",
       "      <td>2</td>\n",
       "      <td>75</td>\n",
       "      <td>10000</td>\n",
       "      <td>140</td>\n",
       "    </tr>\n",
       "    <tr>\n",
       "      <th>348</th>\n",
       "      <td>0</td>\n",
       "      <td>57</td>\n",
       "      <td>5</td>\n",
       "      <td>8.2</td>\n",
       "      <td>2</td>\n",
       "      <td>68</td>\n",
       "      <td>7000</td>\n",
       "      <td>140</td>\n",
       "    </tr>\n",
       "    <tr>\n",
       "      <th>102</th>\n",
       "      <td>0</td>\n",
       "      <td>36</td>\n",
       "      <td>10</td>\n",
       "      <td>7.2</td>\n",
       "      <td>0</td>\n",
       "      <td>68</td>\n",
       "      <td>7000</td>\n",
       "      <td>115</td>\n",
       "    </tr>\n",
       "  </tbody>\n",
       "</table>\n",
       "<p>299 rows × 8 columns</p>\n",
       "</div>"
      ],
      "text/plain": [
       "     Gender  Age  Occupation  Sleep Duration  BMI Category  Heart Rate  \\\n",
       "192       1   43           7             6.5             2          72   \n",
       "75        1   33           1             6.0             0          72   \n",
       "84        1   35           9             7.5             0          70   \n",
       "362       0   59           5             8.2             2          68   \n",
       "16        0   29           5             6.5             0          80   \n",
       "..      ...  ...         ...             ...           ...         ...   \n",
       "71        1   33           1             6.1             0          72   \n",
       "106       0   37           5             6.1             2          77   \n",
       "270       0   49           5             6.1             2          75   \n",
       "348       0   57           5             8.2             2          68   \n",
       "102       0   36          10             7.2             0          68   \n",
       "\n",
       "     Daily Steps  Systolic BP  \n",
       "192         6000          130  \n",
       "75          5000          125  \n",
       "84          8000          120  \n",
       "362         7000          140  \n",
       "16          4000          132  \n",
       "..           ...          ...  \n",
       "71          5000          125  \n",
       "106         4200          126  \n",
       "270        10000          140  \n",
       "348         7000          140  \n",
       "102         7000          115  \n",
       "\n",
       "[299 rows x 8 columns]"
      ]
     },
     "execution_count": 34,
     "metadata": {},
     "output_type": "execute_result"
    }
   ],
   "source": [
    "X_train"
   ]
  },
  {
   "cell_type": "markdown",
   "id": "fbeb592f",
   "metadata": {
    "papermill": {
     "duration": 0.027288,
     "end_time": "2024-04-18T18:03:01.814491",
     "exception": false,
     "start_time": "2024-04-18T18:03:01.787203",
     "status": "completed"
    },
    "tags": []
   },
   "source": [
    "# A. Logistic Regression"
   ]
  },
  {
   "cell_type": "code",
   "execution_count": 35,
   "id": "7d5190eb",
   "metadata": {
    "execution": {
     "iopub.execute_input": "2024-04-18T18:03:01.872030Z",
     "iopub.status.busy": "2024-04-18T18:03:01.871670Z",
     "iopub.status.idle": "2024-04-18T18:03:01.919839Z",
     "shell.execute_reply": "2024-04-18T18:03:01.918242Z"
    },
    "papermill": {
     "duration": 0.080046,
     "end_time": "2024-04-18T18:03:01.922186",
     "exception": false,
     "start_time": "2024-04-18T18:03:01.842140",
     "status": "completed"
    },
    "tags": []
   },
   "outputs": [
    {
     "name": "stdout",
     "output_type": "stream",
     "text": [
      "Confusion Matrix : \n",
      " [[12  0  0  0  0  0]\n",
      " [ 0  4  0  0  0  6]\n",
      " [ 0  1 11  0  2  0]\n",
      " [ 0  1  0  8  1  0]\n",
      " [ 1 10  0  0  1  0]\n",
      " [ 0  9  5  1  2  0]]\n",
      "Classification Report:\n",
      "               precision    recall  f1-score   support\n",
      "\n",
      "           3       0.92      1.00      0.96        12\n",
      "           4       0.16      0.40      0.23        10\n",
      "           5       0.69      0.79      0.73        14\n",
      "           6       0.89      0.80      0.84        10\n",
      "           7       0.17      0.08      0.11        12\n",
      "           8       0.00      0.00      0.00        17\n",
      "\n",
      "    accuracy                           0.48        75\n",
      "   macro avg       0.47      0.51      0.48        75\n",
      "weighted avg       0.44      0.48      0.45        75\n",
      "\n",
      "The test accuracy of Logistic Regression is :  48.0 %\n"
     ]
    }
   ],
   "source": [
    "# Instantiating the object and fitting\n",
    "model = LogisticRegression()\n",
    "model.fit(X_train, y_train)\n",
    "\n",
    "# Predicting the values\n",
    "predicted = model.predict(X_test)\n",
    "\n",
    "# Confusion matrix\n",
    "conf = confusion_matrix(y_test, predicted)\n",
    "print(\"Confusion Matrix : \\n\", conf)\n",
    "\n",
    "cr = classification_report(y_test, predicted)\n",
    "print(\"Classification Report:\\n\", cr)\n",
    "\n",
    "# Printing the test accuracy\n",
    "print(\"The test accuracy of Logistic Regression is : \", accuracy_score(y_test, predicted) * 100, \"%\")"
   ]
  },
  {
   "cell_type": "markdown",
   "id": "c6dc45e1",
   "metadata": {
    "papermill": {
     "duration": 0.029146,
     "end_time": "2024-04-18T18:03:01.979176",
     "exception": false,
     "start_time": "2024-04-18T18:03:01.950030",
     "status": "completed"
    },
    "tags": []
   },
   "source": [
    "# B. Naive Bayes"
   ]
  },
  {
   "cell_type": "code",
   "execution_count": 36,
   "id": "c2f9efc0",
   "metadata": {
    "execution": {
     "iopub.execute_input": "2024-04-18T18:03:02.037057Z",
     "iopub.status.busy": "2024-04-18T18:03:02.035855Z",
     "iopub.status.idle": "2024-04-18T18:03:02.048462Z",
     "shell.execute_reply": "2024-04-18T18:03:02.047376Z"
    },
    "papermill": {
     "duration": 0.043917,
     "end_time": "2024-04-18T18:03:02.050817",
     "exception": false,
     "start_time": "2024-04-18T18:03:02.006900",
     "status": "completed"
    },
    "tags": []
   },
   "outputs": [
    {
     "data": {
      "text/html": [
       "<style>#sk-container-id-1 {color: black;background-color: white;}#sk-container-id-1 pre{padding: 0;}#sk-container-id-1 div.sk-toggleable {background-color: white;}#sk-container-id-1 label.sk-toggleable__label {cursor: pointer;display: block;width: 100%;margin-bottom: 0;padding: 0.3em;box-sizing: border-box;text-align: center;}#sk-container-id-1 label.sk-toggleable__label-arrow:before {content: \"▸\";float: left;margin-right: 0.25em;color: #696969;}#sk-container-id-1 label.sk-toggleable__label-arrow:hover:before {color: black;}#sk-container-id-1 div.sk-estimator:hover label.sk-toggleable__label-arrow:before {color: black;}#sk-container-id-1 div.sk-toggleable__content {max-height: 0;max-width: 0;overflow: hidden;text-align: left;background-color: #f0f8ff;}#sk-container-id-1 div.sk-toggleable__content pre {margin: 0.2em;color: black;border-radius: 0.25em;background-color: #f0f8ff;}#sk-container-id-1 input.sk-toggleable__control:checked~div.sk-toggleable__content {max-height: 200px;max-width: 100%;overflow: auto;}#sk-container-id-1 input.sk-toggleable__control:checked~label.sk-toggleable__label-arrow:before {content: \"▾\";}#sk-container-id-1 div.sk-estimator input.sk-toggleable__control:checked~label.sk-toggleable__label {background-color: #d4ebff;}#sk-container-id-1 div.sk-label input.sk-toggleable__control:checked~label.sk-toggleable__label {background-color: #d4ebff;}#sk-container-id-1 input.sk-hidden--visually {border: 0;clip: rect(1px 1px 1px 1px);clip: rect(1px, 1px, 1px, 1px);height: 1px;margin: -1px;overflow: hidden;padding: 0;position: absolute;width: 1px;}#sk-container-id-1 div.sk-estimator {font-family: monospace;background-color: #f0f8ff;border: 1px dotted black;border-radius: 0.25em;box-sizing: border-box;margin-bottom: 0.5em;}#sk-container-id-1 div.sk-estimator:hover {background-color: #d4ebff;}#sk-container-id-1 div.sk-parallel-item::after {content: \"\";width: 100%;border-bottom: 1px solid gray;flex-grow: 1;}#sk-container-id-1 div.sk-label:hover label.sk-toggleable__label {background-color: #d4ebff;}#sk-container-id-1 div.sk-serial::before {content: \"\";position: absolute;border-left: 1px solid gray;box-sizing: border-box;top: 0;bottom: 0;left: 50%;z-index: 0;}#sk-container-id-1 div.sk-serial {display: flex;flex-direction: column;align-items: center;background-color: white;padding-right: 0.2em;padding-left: 0.2em;position: relative;}#sk-container-id-1 div.sk-item {position: relative;z-index: 1;}#sk-container-id-1 div.sk-parallel {display: flex;align-items: stretch;justify-content: center;background-color: white;position: relative;}#sk-container-id-1 div.sk-item::before, #sk-container-id-1 div.sk-parallel-item::before {content: \"\";position: absolute;border-left: 1px solid gray;box-sizing: border-box;top: 0;bottom: 0;left: 50%;z-index: -1;}#sk-container-id-1 div.sk-parallel-item {display: flex;flex-direction: column;z-index: 1;position: relative;background-color: white;}#sk-container-id-1 div.sk-parallel-item:first-child::after {align-self: flex-end;width: 50%;}#sk-container-id-1 div.sk-parallel-item:last-child::after {align-self: flex-start;width: 50%;}#sk-container-id-1 div.sk-parallel-item:only-child::after {width: 0;}#sk-container-id-1 div.sk-dashed-wrapped {border: 1px dashed gray;margin: 0 0.4em 0.5em 0.4em;box-sizing: border-box;padding-bottom: 0.4em;background-color: white;}#sk-container-id-1 div.sk-label label {font-family: monospace;font-weight: bold;display: inline-block;line-height: 1.2em;}#sk-container-id-1 div.sk-label-container {text-align: center;}#sk-container-id-1 div.sk-container {/* jupyter's `normalize.less` sets `[hidden] { display: none; }` but bootstrap.min.css set `[hidden] { display: none !important; }` so we also need the `!important` here to be able to override the default hidden behavior on the sphinx rendered scikit-learn.org. See: https://github.com/scikit-learn/scikit-learn/issues/21755 */display: inline-block !important;position: relative;}#sk-container-id-1 div.sk-text-repr-fallback {display: none;}</style><div id=\"sk-container-id-1\" class=\"sk-top-container\"><div class=\"sk-text-repr-fallback\"><pre>GaussianNB()</pre><b>In a Jupyter environment, please rerun this cell to show the HTML representation or trust the notebook. <br />On GitHub, the HTML representation is unable to render, please try loading this page with nbviewer.org.</b></div><div class=\"sk-container\" hidden><div class=\"sk-item\"><div class=\"sk-estimator sk-toggleable\"><input class=\"sk-toggleable__control sk-hidden--visually\" id=\"sk-estimator-id-1\" type=\"checkbox\" checked><label for=\"sk-estimator-id-1\" class=\"sk-toggleable__label sk-toggleable__label-arrow\">GaussianNB</label><div class=\"sk-toggleable__content\"><pre>GaussianNB()</pre></div></div></div></div></div>"
      ],
      "text/plain": [
       "GaussianNB()"
      ]
     },
     "execution_count": 36,
     "metadata": {},
     "output_type": "execute_result"
    }
   ],
   "source": [
    "naive_bayes = GaussianNB()\n",
    "naive_bayes.fit(X_train,y_train)"
   ]
  },
  {
   "cell_type": "code",
   "execution_count": 37,
   "id": "8f1b5f87",
   "metadata": {
    "execution": {
     "iopub.execute_input": "2024-04-18T18:03:02.109322Z",
     "iopub.status.busy": "2024-04-18T18:03:02.108258Z",
     "iopub.status.idle": "2024-04-18T18:03:02.117873Z",
     "shell.execute_reply": "2024-04-18T18:03:02.117002Z"
    },
    "papermill": {
     "duration": 0.04076,
     "end_time": "2024-04-18T18:03:02.119931",
     "exception": false,
     "start_time": "2024-04-18T18:03:02.079171",
     "status": "completed"
    },
    "tags": []
   },
   "outputs": [
    {
     "data": {
      "text/plain": [
       "0.9066666666666666"
      ]
     },
     "execution_count": 37,
     "metadata": {},
     "output_type": "execute_result"
    }
   ],
   "source": [
    "naive_bayes.score(X_test,y_test)"
   ]
  },
  {
   "cell_type": "code",
   "execution_count": 38,
   "id": "ae300113",
   "metadata": {
    "execution": {
     "iopub.execute_input": "2024-04-18T18:03:02.178811Z",
     "iopub.status.busy": "2024-04-18T18:03:02.178123Z",
     "iopub.status.idle": "2024-04-18T18:03:02.184191Z",
     "shell.execute_reply": "2024-04-18T18:03:02.183366Z"
    },
    "papermill": {
     "duration": 0.038483,
     "end_time": "2024-04-18T18:03:02.186383",
     "exception": false,
     "start_time": "2024-04-18T18:03:02.147900",
     "status": "completed"
    },
    "tags": []
   },
   "outputs": [],
   "source": [
    "y_predict = naive_bayes.predict(X_test)"
   ]
  },
  {
   "cell_type": "code",
   "execution_count": 39,
   "id": "2d1b2f3e",
   "metadata": {
    "execution": {
     "iopub.execute_input": "2024-04-18T18:03:02.245253Z",
     "iopub.status.busy": "2024-04-18T18:03:02.244519Z",
     "iopub.status.idle": "2024-04-18T18:03:02.251370Z",
     "shell.execute_reply": "2024-04-18T18:03:02.250251Z"
    },
    "papermill": {
     "duration": 0.038665,
     "end_time": "2024-04-18T18:03:02.253653",
     "exception": false,
     "start_time": "2024-04-18T18:03:02.214988",
     "status": "completed"
    },
    "tags": []
   },
   "outputs": [
    {
     "name": "stdout",
     "output_type": "stream",
     "text": [
      "Confusion Matrix:\n",
      "[[12  0  0  0  0  0]\n",
      " [ 0  8  1  1  0  0]\n",
      " [ 1  0 12  0  1  0]\n",
      " [ 0  1  0  8  0  1]\n",
      " [ 0  0  0  0 12  0]\n",
      " [ 0  0  0  1  0 16]]\n"
     ]
    }
   ],
   "source": [
    "matrix = confusion_matrix(y_test, y_predict)\n",
    "print(\"Confusion Matrix:\")\n",
    "print(matrix)"
   ]
  },
  {
   "cell_type": "code",
   "execution_count": 40,
   "id": "5adb4682",
   "metadata": {
    "execution": {
     "iopub.execute_input": "2024-04-18T18:03:02.313796Z",
     "iopub.status.busy": "2024-04-18T18:03:02.313097Z",
     "iopub.status.idle": "2024-04-18T18:03:02.325419Z",
     "shell.execute_reply": "2024-04-18T18:03:02.324427Z"
    },
    "papermill": {
     "duration": 0.045573,
     "end_time": "2024-04-18T18:03:02.327681",
     "exception": false,
     "start_time": "2024-04-18T18:03:02.282108",
     "status": "completed"
    },
    "tags": []
   },
   "outputs": [
    {
     "name": "stdout",
     "output_type": "stream",
     "text": [
      "Classification Report:\n",
      "              precision    recall  f1-score   support\n",
      "\n",
      "           3       0.92      1.00      0.96        12\n",
      "           4       0.89      0.80      0.84        10\n",
      "           5       0.92      0.86      0.89        14\n",
      "           6       0.80      0.80      0.80        10\n",
      "           7       0.92      1.00      0.96        12\n",
      "           8       0.94      0.94      0.94        17\n",
      "\n",
      "    accuracy                           0.91        75\n",
      "   macro avg       0.90      0.90      0.90        75\n",
      "weighted avg       0.91      0.91      0.91        75\n",
      "\n"
     ]
    }
   ],
   "source": [
    "report = classification_report(y_test, y_predict)\n",
    "\n",
    "# Print the classification report\n",
    "print(\"Classification Report:\")\n",
    "print(report)"
   ]
  },
  {
   "cell_type": "markdown",
   "id": "95c41b77",
   "metadata": {
    "papermill": {
     "duration": 0.028692,
     "end_time": "2024-04-18T18:03:02.384695",
     "exception": false,
     "start_time": "2024-04-18T18:03:02.356003",
     "status": "completed"
    },
    "tags": []
   },
   "source": [
    "Naive Bayes Model gives an accuracy of 91%. "
   ]
  },
  {
   "cell_type": "markdown",
   "id": "797eb129",
   "metadata": {
    "papermill": {
     "duration": 0.028231,
     "end_time": "2024-04-18T18:03:02.441251",
     "exception": false,
     "start_time": "2024-04-18T18:03:02.413020",
     "status": "completed"
    },
    "tags": []
   },
   "source": [
    "# C. Support Vector Mechanism"
   ]
  },
  {
   "cell_type": "code",
   "execution_count": 41,
   "id": "93b2e131",
   "metadata": {
    "execution": {
     "iopub.execute_input": "2024-04-18T18:03:02.502104Z",
     "iopub.status.busy": "2024-04-18T18:03:02.501702Z",
     "iopub.status.idle": "2024-04-18T18:03:02.506657Z",
     "shell.execute_reply": "2024-04-18T18:03:02.505527Z"
    },
    "papermill": {
     "duration": 0.037571,
     "end_time": "2024-04-18T18:03:02.508821",
     "exception": false,
     "start_time": "2024-04-18T18:03:02.471250",
     "status": "completed"
    },
    "tags": []
   },
   "outputs": [],
   "source": [
    "svm_classifier = svm.SVC(kernel='linear') "
   ]
  },
  {
   "cell_type": "code",
   "execution_count": 42,
   "id": "6934299d",
   "metadata": {
    "execution": {
     "iopub.execute_input": "2024-04-18T18:03:02.567776Z",
     "iopub.status.busy": "2024-04-18T18:03:02.567013Z",
     "iopub.status.idle": "2024-04-18T18:03:20.348924Z",
     "shell.execute_reply": "2024-04-18T18:03:20.347829Z"
    },
    "papermill": {
     "duration": 17.814493,
     "end_time": "2024-04-18T18:03:20.351441",
     "exception": false,
     "start_time": "2024-04-18T18:03:02.536948",
     "status": "completed"
    },
    "tags": []
   },
   "outputs": [],
   "source": [
    "svm_classifier.fit(X_train, y_train)\n",
    "\n",
    "y_pred = svm_classifier.predict(X_test)\n"
   ]
  },
  {
   "cell_type": "code",
   "execution_count": 43,
   "id": "b7eceb08",
   "metadata": {
    "execution": {
     "iopub.execute_input": "2024-04-18T18:03:20.409534Z",
     "iopub.status.busy": "2024-04-18T18:03:20.409183Z",
     "iopub.status.idle": "2024-04-18T18:03:20.414718Z",
     "shell.execute_reply": "2024-04-18T18:03:20.413929Z"
    },
    "papermill": {
     "duration": 0.038035,
     "end_time": "2024-04-18T18:03:20.417372",
     "exception": false,
     "start_time": "2024-04-18T18:03:20.379337",
     "status": "completed"
    },
    "tags": []
   },
   "outputs": [
    {
     "name": "stdout",
     "output_type": "stream",
     "text": [
      "Accuracy: 0.9066666666666666\n"
     ]
    }
   ],
   "source": [
    "accuracy = accuracy_score(y_test, y_pred)\n",
    "print(\"Accuracy:\", accuracy)"
   ]
  },
  {
   "cell_type": "code",
   "execution_count": 44,
   "id": "c7428b5b",
   "metadata": {
    "execution": {
     "iopub.execute_input": "2024-04-18T18:03:20.475489Z",
     "iopub.status.busy": "2024-04-18T18:03:20.474906Z",
     "iopub.status.idle": "2024-04-18T18:03:20.488684Z",
     "shell.execute_reply": "2024-04-18T18:03:20.487647Z"
    },
    "papermill": {
     "duration": 0.045662,
     "end_time": "2024-04-18T18:03:20.490884",
     "exception": false,
     "start_time": "2024-04-18T18:03:20.445222",
     "status": "completed"
    },
    "tags": []
   },
   "outputs": [
    {
     "name": "stdout",
     "output_type": "stream",
     "text": [
      "Confusion Matrix:\n",
      "[[12  0  0  0  0  0]\n",
      " [ 0 10  0  0  0  0]\n",
      " [ 0  0 11  1  2  0]\n",
      " [ 0  1  0  9  0  0]\n",
      " [ 0  0  0  1 11  0]\n",
      " [ 0  0  0  0  2 15]]\n",
      "Classification Report:\n",
      "              precision    recall  f1-score   support\n",
      "\n",
      "           3       1.00      1.00      1.00        12\n",
      "           4       0.91      1.00      0.95        10\n",
      "           5       1.00      0.79      0.88        14\n",
      "           6       0.82      0.90      0.86        10\n",
      "           7       0.73      0.92      0.81        12\n",
      "           8       1.00      0.88      0.94        17\n",
      "\n",
      "    accuracy                           0.91        75\n",
      "   macro avg       0.91      0.91      0.91        75\n",
      "weighted avg       0.92      0.91      0.91        75\n",
      "\n"
     ]
    }
   ],
   "source": [
    "conf_matrix = confusion_matrix(y_test, y_pred)\n",
    "print(\"Confusion Matrix:\")\n",
    "print(conf_matrix)\n",
    "\n",
    "classification_rep = classification_report(y_test, y_pred)\n",
    "print(\"Classification Report:\")\n",
    "print(classification_rep)"
   ]
  },
  {
   "cell_type": "markdown",
   "id": "39e317b2",
   "metadata": {
    "papermill": {
     "duration": 0.029656,
     "end_time": "2024-04-18T18:03:20.548478",
     "exception": false,
     "start_time": "2024-04-18T18:03:20.518822",
     "status": "completed"
    },
    "tags": []
   },
   "source": [
    "The accuracy of SVM is 91%."
   ]
  },
  {
   "cell_type": "markdown",
   "id": "6acea83a",
   "metadata": {
    "papermill": {
     "duration": 0.028593,
     "end_time": "2024-04-18T18:03:20.605366",
     "exception": false,
     "start_time": "2024-04-18T18:03:20.576773",
     "status": "completed"
    },
    "tags": []
   },
   "source": [
    "# D. KNN Classifier\n"
   ]
  },
  {
   "cell_type": "code",
   "execution_count": 45,
   "id": "73fa0a35",
   "metadata": {
    "execution": {
     "iopub.execute_input": "2024-04-18T18:03:20.664062Z",
     "iopub.status.busy": "2024-04-18T18:03:20.663358Z",
     "iopub.status.idle": "2024-04-18T18:03:20.672519Z",
     "shell.execute_reply": "2024-04-18T18:03:20.671687Z"
    },
    "papermill": {
     "duration": 0.040664,
     "end_time": "2024-04-18T18:03:20.674411",
     "exception": false,
     "start_time": "2024-04-18T18:03:20.633747",
     "status": "completed"
    },
    "tags": []
   },
   "outputs": [
    {
     "data": {
      "text/html": [
       "<style>#sk-container-id-2 {color: black;background-color: white;}#sk-container-id-2 pre{padding: 0;}#sk-container-id-2 div.sk-toggleable {background-color: white;}#sk-container-id-2 label.sk-toggleable__label {cursor: pointer;display: block;width: 100%;margin-bottom: 0;padding: 0.3em;box-sizing: border-box;text-align: center;}#sk-container-id-2 label.sk-toggleable__label-arrow:before {content: \"▸\";float: left;margin-right: 0.25em;color: #696969;}#sk-container-id-2 label.sk-toggleable__label-arrow:hover:before {color: black;}#sk-container-id-2 div.sk-estimator:hover label.sk-toggleable__label-arrow:before {color: black;}#sk-container-id-2 div.sk-toggleable__content {max-height: 0;max-width: 0;overflow: hidden;text-align: left;background-color: #f0f8ff;}#sk-container-id-2 div.sk-toggleable__content pre {margin: 0.2em;color: black;border-radius: 0.25em;background-color: #f0f8ff;}#sk-container-id-2 input.sk-toggleable__control:checked~div.sk-toggleable__content {max-height: 200px;max-width: 100%;overflow: auto;}#sk-container-id-2 input.sk-toggleable__control:checked~label.sk-toggleable__label-arrow:before {content: \"▾\";}#sk-container-id-2 div.sk-estimator input.sk-toggleable__control:checked~label.sk-toggleable__label {background-color: #d4ebff;}#sk-container-id-2 div.sk-label input.sk-toggleable__control:checked~label.sk-toggleable__label {background-color: #d4ebff;}#sk-container-id-2 input.sk-hidden--visually {border: 0;clip: rect(1px 1px 1px 1px);clip: rect(1px, 1px, 1px, 1px);height: 1px;margin: -1px;overflow: hidden;padding: 0;position: absolute;width: 1px;}#sk-container-id-2 div.sk-estimator {font-family: monospace;background-color: #f0f8ff;border: 1px dotted black;border-radius: 0.25em;box-sizing: border-box;margin-bottom: 0.5em;}#sk-container-id-2 div.sk-estimator:hover {background-color: #d4ebff;}#sk-container-id-2 div.sk-parallel-item::after {content: \"\";width: 100%;border-bottom: 1px solid gray;flex-grow: 1;}#sk-container-id-2 div.sk-label:hover label.sk-toggleable__label {background-color: #d4ebff;}#sk-container-id-2 div.sk-serial::before {content: \"\";position: absolute;border-left: 1px solid gray;box-sizing: border-box;top: 0;bottom: 0;left: 50%;z-index: 0;}#sk-container-id-2 div.sk-serial {display: flex;flex-direction: column;align-items: center;background-color: white;padding-right: 0.2em;padding-left: 0.2em;position: relative;}#sk-container-id-2 div.sk-item {position: relative;z-index: 1;}#sk-container-id-2 div.sk-parallel {display: flex;align-items: stretch;justify-content: center;background-color: white;position: relative;}#sk-container-id-2 div.sk-item::before, #sk-container-id-2 div.sk-parallel-item::before {content: \"\";position: absolute;border-left: 1px solid gray;box-sizing: border-box;top: 0;bottom: 0;left: 50%;z-index: -1;}#sk-container-id-2 div.sk-parallel-item {display: flex;flex-direction: column;z-index: 1;position: relative;background-color: white;}#sk-container-id-2 div.sk-parallel-item:first-child::after {align-self: flex-end;width: 50%;}#sk-container-id-2 div.sk-parallel-item:last-child::after {align-self: flex-start;width: 50%;}#sk-container-id-2 div.sk-parallel-item:only-child::after {width: 0;}#sk-container-id-2 div.sk-dashed-wrapped {border: 1px dashed gray;margin: 0 0.4em 0.5em 0.4em;box-sizing: border-box;padding-bottom: 0.4em;background-color: white;}#sk-container-id-2 div.sk-label label {font-family: monospace;font-weight: bold;display: inline-block;line-height: 1.2em;}#sk-container-id-2 div.sk-label-container {text-align: center;}#sk-container-id-2 div.sk-container {/* jupyter's `normalize.less` sets `[hidden] { display: none; }` but bootstrap.min.css set `[hidden] { display: none !important; }` so we also need the `!important` here to be able to override the default hidden behavior on the sphinx rendered scikit-learn.org. See: https://github.com/scikit-learn/scikit-learn/issues/21755 */display: inline-block !important;position: relative;}#sk-container-id-2 div.sk-text-repr-fallback {display: none;}</style><div id=\"sk-container-id-2\" class=\"sk-top-container\"><div class=\"sk-text-repr-fallback\"><pre>KNeighborsClassifier()</pre><b>In a Jupyter environment, please rerun this cell to show the HTML representation or trust the notebook. <br />On GitHub, the HTML representation is unable to render, please try loading this page with nbviewer.org.</b></div><div class=\"sk-container\" hidden><div class=\"sk-item\"><div class=\"sk-estimator sk-toggleable\"><input class=\"sk-toggleable__control sk-hidden--visually\" id=\"sk-estimator-id-2\" type=\"checkbox\" checked><label for=\"sk-estimator-id-2\" class=\"sk-toggleable__label sk-toggleable__label-arrow\">KNeighborsClassifier</label><div class=\"sk-toggleable__content\"><pre>KNeighborsClassifier()</pre></div></div></div></div></div>"
      ],
      "text/plain": [
       "KNeighborsClassifier()"
      ]
     },
     "execution_count": 45,
     "metadata": {},
     "output_type": "execute_result"
    }
   ],
   "source": [
    "knn = KNeighborsClassifier()\n",
    "knn.fit(X_train, y_train)"
   ]
  },
  {
   "cell_type": "code",
   "execution_count": 46,
   "id": "4ee5ae4e",
   "metadata": {
    "execution": {
     "iopub.execute_input": "2024-04-18T18:03:20.733126Z",
     "iopub.status.busy": "2024-04-18T18:03:20.732412Z",
     "iopub.status.idle": "2024-04-18T18:03:20.746267Z",
     "shell.execute_reply": "2024-04-18T18:03:20.745240Z"
    },
    "papermill": {
     "duration": 0.045778,
     "end_time": "2024-04-18T18:03:20.748558",
     "exception": false,
     "start_time": "2024-04-18T18:03:20.702780",
     "status": "completed"
    },
    "tags": []
   },
   "outputs": [
    {
     "data": {
      "text/plain": [
       "0.9333333333333333"
      ]
     },
     "execution_count": 46,
     "metadata": {},
     "output_type": "execute_result"
    }
   ],
   "source": [
    "knn.score(X_test,y_test)\n"
   ]
  },
  {
   "cell_type": "code",
   "execution_count": 47,
   "id": "05291a6f",
   "metadata": {
    "execution": {
     "iopub.execute_input": "2024-04-18T18:03:20.807495Z",
     "iopub.status.busy": "2024-04-18T18:03:20.807105Z",
     "iopub.status.idle": "2024-04-18T18:03:20.824151Z",
     "shell.execute_reply": "2024-04-18T18:03:20.822793Z"
    },
    "papermill": {
     "duration": 0.048499,
     "end_time": "2024-04-18T18:03:20.826007",
     "exception": false,
     "start_time": "2024-04-18T18:03:20.777508",
     "status": "completed"
    },
    "tags": []
   },
   "outputs": [
    {
     "name": "stdout",
     "output_type": "stream",
     "text": [
      "Confusion Matrix:\n",
      "[[12  0  0  0  0  0]\n",
      " [ 0 10  0  0  0  0]\n",
      " [ 0  0 13  1  0  0]\n",
      " [ 0  1  0  8  1  0]\n",
      " [ 0  0  0  0 12  0]\n",
      " [ 0  0  2  0  0 15]]\n"
     ]
    }
   ],
   "source": [
    "y_predict = knn.predict(X_test)\n",
    "\n",
    "matrix = confusion_matrix(y_test, y_predict)\n",
    "\n",
    "print(\"Confusion Matrix:\")\n",
    "print(matrix)"
   ]
  },
  {
   "cell_type": "code",
   "execution_count": 48,
   "id": "e422fb12",
   "metadata": {
    "execution": {
     "iopub.execute_input": "2024-04-18T18:03:20.885867Z",
     "iopub.status.busy": "2024-04-18T18:03:20.885075Z",
     "iopub.status.idle": "2024-04-18T18:03:20.899335Z",
     "shell.execute_reply": "2024-04-18T18:03:20.898003Z"
    },
    "papermill": {
     "duration": 0.046449,
     "end_time": "2024-04-18T18:03:20.901684",
     "exception": false,
     "start_time": "2024-04-18T18:03:20.855235",
     "status": "completed"
    },
    "tags": []
   },
   "outputs": [
    {
     "name": "stdout",
     "output_type": "stream",
     "text": [
      "Classification Report:\n",
      "              precision    recall  f1-score   support\n",
      "\n",
      "           3       1.00      1.00      1.00        12\n",
      "           4       0.91      1.00      0.95        10\n",
      "           5       0.87      0.93      0.90        14\n",
      "           6       0.89      0.80      0.84        10\n",
      "           7       0.92      1.00      0.96        12\n",
      "           8       1.00      0.88      0.94        17\n",
      "\n",
      "    accuracy                           0.93        75\n",
      "   macro avg       0.93      0.94      0.93        75\n",
      "weighted avg       0.94      0.93      0.93        75\n",
      "\n"
     ]
    }
   ],
   "source": [
    "report = classification_report(y_test, y_predict)\n",
    "\n",
    "# Print the classification report\n",
    "print(\"Classification Report:\")\n",
    "print(report)"
   ]
  },
  {
   "cell_type": "markdown",
   "id": "efeeeb24",
   "metadata": {
    "papermill": {
     "duration": 0.028382,
     "end_time": "2024-04-18T18:03:20.959035",
     "exception": false,
     "start_time": "2024-04-18T18:03:20.930653",
     "status": "completed"
    },
    "tags": []
   },
   "source": [
    "\n",
    "KNN Classifier model demostrates an accuracy of approx 93%."
   ]
  },
  {
   "cell_type": "markdown",
   "id": "954d56a5",
   "metadata": {
    "papermill": {
     "duration": 0.028587,
     "end_time": "2024-04-18T18:03:21.016375",
     "exception": false,
     "start_time": "2024-04-18T18:03:20.987788",
     "status": "completed"
    },
    "tags": []
   },
   "source": [
    "# E. Random Forest Classifier\n"
   ]
  },
  {
   "cell_type": "code",
   "execution_count": 49,
   "id": "65038da9",
   "metadata": {
    "execution": {
     "iopub.execute_input": "2024-04-18T18:03:21.077288Z",
     "iopub.status.busy": "2024-04-18T18:03:21.076193Z",
     "iopub.status.idle": "2024-04-18T18:03:21.111753Z",
     "shell.execute_reply": "2024-04-18T18:03:21.111013Z"
    },
    "papermill": {
     "duration": 0.06785,
     "end_time": "2024-04-18T18:03:21.113584",
     "exception": false,
     "start_time": "2024-04-18T18:03:21.045734",
     "status": "completed"
    },
    "tags": []
   },
   "outputs": [
    {
     "data": {
      "text/html": [
       "<style>#sk-container-id-3 {color: black;background-color: white;}#sk-container-id-3 pre{padding: 0;}#sk-container-id-3 div.sk-toggleable {background-color: white;}#sk-container-id-3 label.sk-toggleable__label {cursor: pointer;display: block;width: 100%;margin-bottom: 0;padding: 0.3em;box-sizing: border-box;text-align: center;}#sk-container-id-3 label.sk-toggleable__label-arrow:before {content: \"▸\";float: left;margin-right: 0.25em;color: #696969;}#sk-container-id-3 label.sk-toggleable__label-arrow:hover:before {color: black;}#sk-container-id-3 div.sk-estimator:hover label.sk-toggleable__label-arrow:before {color: black;}#sk-container-id-3 div.sk-toggleable__content {max-height: 0;max-width: 0;overflow: hidden;text-align: left;background-color: #f0f8ff;}#sk-container-id-3 div.sk-toggleable__content pre {margin: 0.2em;color: black;border-radius: 0.25em;background-color: #f0f8ff;}#sk-container-id-3 input.sk-toggleable__control:checked~div.sk-toggleable__content {max-height: 200px;max-width: 100%;overflow: auto;}#sk-container-id-3 input.sk-toggleable__control:checked~label.sk-toggleable__label-arrow:before {content: \"▾\";}#sk-container-id-3 div.sk-estimator input.sk-toggleable__control:checked~label.sk-toggleable__label {background-color: #d4ebff;}#sk-container-id-3 div.sk-label input.sk-toggleable__control:checked~label.sk-toggleable__label {background-color: #d4ebff;}#sk-container-id-3 input.sk-hidden--visually {border: 0;clip: rect(1px 1px 1px 1px);clip: rect(1px, 1px, 1px, 1px);height: 1px;margin: -1px;overflow: hidden;padding: 0;position: absolute;width: 1px;}#sk-container-id-3 div.sk-estimator {font-family: monospace;background-color: #f0f8ff;border: 1px dotted black;border-radius: 0.25em;box-sizing: border-box;margin-bottom: 0.5em;}#sk-container-id-3 div.sk-estimator:hover {background-color: #d4ebff;}#sk-container-id-3 div.sk-parallel-item::after {content: \"\";width: 100%;border-bottom: 1px solid gray;flex-grow: 1;}#sk-container-id-3 div.sk-label:hover label.sk-toggleable__label {background-color: #d4ebff;}#sk-container-id-3 div.sk-serial::before {content: \"\";position: absolute;border-left: 1px solid gray;box-sizing: border-box;top: 0;bottom: 0;left: 50%;z-index: 0;}#sk-container-id-3 div.sk-serial {display: flex;flex-direction: column;align-items: center;background-color: white;padding-right: 0.2em;padding-left: 0.2em;position: relative;}#sk-container-id-3 div.sk-item {position: relative;z-index: 1;}#sk-container-id-3 div.sk-parallel {display: flex;align-items: stretch;justify-content: center;background-color: white;position: relative;}#sk-container-id-3 div.sk-item::before, #sk-container-id-3 div.sk-parallel-item::before {content: \"\";position: absolute;border-left: 1px solid gray;box-sizing: border-box;top: 0;bottom: 0;left: 50%;z-index: -1;}#sk-container-id-3 div.sk-parallel-item {display: flex;flex-direction: column;z-index: 1;position: relative;background-color: white;}#sk-container-id-3 div.sk-parallel-item:first-child::after {align-self: flex-end;width: 50%;}#sk-container-id-3 div.sk-parallel-item:last-child::after {align-self: flex-start;width: 50%;}#sk-container-id-3 div.sk-parallel-item:only-child::after {width: 0;}#sk-container-id-3 div.sk-dashed-wrapped {border: 1px dashed gray;margin: 0 0.4em 0.5em 0.4em;box-sizing: border-box;padding-bottom: 0.4em;background-color: white;}#sk-container-id-3 div.sk-label label {font-family: monospace;font-weight: bold;display: inline-block;line-height: 1.2em;}#sk-container-id-3 div.sk-label-container {text-align: center;}#sk-container-id-3 div.sk-container {/* jupyter's `normalize.less` sets `[hidden] { display: none; }` but bootstrap.min.css set `[hidden] { display: none !important; }` so we also need the `!important` here to be able to override the default hidden behavior on the sphinx rendered scikit-learn.org. See: https://github.com/scikit-learn/scikit-learn/issues/21755 */display: inline-block !important;position: relative;}#sk-container-id-3 div.sk-text-repr-fallback {display: none;}</style><div id=\"sk-container-id-3\" class=\"sk-top-container\"><div class=\"sk-text-repr-fallback\"><pre>RandomForestClassifier(n_estimators=13)</pre><b>In a Jupyter environment, please rerun this cell to show the HTML representation or trust the notebook. <br />On GitHub, the HTML representation is unable to render, please try loading this page with nbviewer.org.</b></div><div class=\"sk-container\" hidden><div class=\"sk-item\"><div class=\"sk-estimator sk-toggleable\"><input class=\"sk-toggleable__control sk-hidden--visually\" id=\"sk-estimator-id-3\" type=\"checkbox\" checked><label for=\"sk-estimator-id-3\" class=\"sk-toggleable__label sk-toggleable__label-arrow\">RandomForestClassifier</label><div class=\"sk-toggleable__content\"><pre>RandomForestClassifier(n_estimators=13)</pre></div></div></div></div></div>"
      ],
      "text/plain": [
       "RandomForestClassifier(n_estimators=13)"
      ]
     },
     "execution_count": 49,
     "metadata": {},
     "output_type": "execute_result"
    }
   ],
   "source": [
    "random_forest = RandomForestClassifier(n_estimators=13)\n",
    "random_forest.fit(X_train,y_train)"
   ]
  },
  {
   "cell_type": "code",
   "execution_count": 50,
   "id": "6fcf965f",
   "metadata": {
    "execution": {
     "iopub.execute_input": "2024-04-18T18:03:21.173965Z",
     "iopub.status.busy": "2024-04-18T18:03:21.172983Z",
     "iopub.status.idle": "2024-04-18T18:03:21.182665Z",
     "shell.execute_reply": "2024-04-18T18:03:21.181885Z"
    },
    "papermill": {
     "duration": 0.041588,
     "end_time": "2024-04-18T18:03:21.184499",
     "exception": false,
     "start_time": "2024-04-18T18:03:21.142911",
     "status": "completed"
    },
    "tags": []
   },
   "outputs": [
    {
     "data": {
      "text/plain": [
       "0.9733333333333334"
      ]
     },
     "execution_count": 50,
     "metadata": {},
     "output_type": "execute_result"
    }
   ],
   "source": [
    "random_forest.score(X_test,y_test)"
   ]
  },
  {
   "cell_type": "code",
   "execution_count": 51,
   "id": "aeed1782",
   "metadata": {
    "execution": {
     "iopub.execute_input": "2024-04-18T18:03:21.244500Z",
     "iopub.status.busy": "2024-04-18T18:03:21.243825Z",
     "iopub.status.idle": "2024-04-18T18:03:21.254410Z",
     "shell.execute_reply": "2024-04-18T18:03:21.252979Z"
    },
    "papermill": {
     "duration": 0.043401,
     "end_time": "2024-04-18T18:03:21.256715",
     "exception": false,
     "start_time": "2024-04-18T18:03:21.213314",
     "status": "completed"
    },
    "tags": []
   },
   "outputs": [
    {
     "name": "stdout",
     "output_type": "stream",
     "text": [
      "Confusion Matrix:\n",
      "[[12  0  0  0  0  0]\n",
      " [ 0 10  0  0  0  0]\n",
      " [ 0  0 12  2  0  0]\n",
      " [ 0  0  0 10  0  0]\n",
      " [ 0  0  0  0 12  0]\n",
      " [ 0  0  0  0  0 17]]\n"
     ]
    }
   ],
   "source": [
    "y_predict = random_forest.predict(X_test)\n",
    "\n",
    "matrix = confusion_matrix(y_test, y_predict)\n",
    "\n",
    "print(\"Confusion Matrix:\")\n",
    "print(matrix)"
   ]
  },
  {
   "cell_type": "code",
   "execution_count": 52,
   "id": "e9f882a5",
   "metadata": {
    "execution": {
     "iopub.execute_input": "2024-04-18T18:03:21.318576Z",
     "iopub.status.busy": "2024-04-18T18:03:21.317509Z",
     "iopub.status.idle": "2024-04-18T18:03:21.330872Z",
     "shell.execute_reply": "2024-04-18T18:03:21.329630Z"
    },
    "papermill": {
     "duration": 0.046401,
     "end_time": "2024-04-18T18:03:21.333061",
     "exception": false,
     "start_time": "2024-04-18T18:03:21.286660",
     "status": "completed"
    },
    "tags": []
   },
   "outputs": [
    {
     "name": "stdout",
     "output_type": "stream",
     "text": [
      "Classification Report:\n",
      "              precision    recall  f1-score   support\n",
      "\n",
      "           3       1.00      1.00      1.00        12\n",
      "           4       1.00      1.00      1.00        10\n",
      "           5       1.00      0.86      0.92        14\n",
      "           6       0.83      1.00      0.91        10\n",
      "           7       1.00      1.00      1.00        12\n",
      "           8       1.00      1.00      1.00        17\n",
      "\n",
      "    accuracy                           0.97        75\n",
      "   macro avg       0.97      0.98      0.97        75\n",
      "weighted avg       0.98      0.97      0.97        75\n",
      "\n"
     ]
    }
   ],
   "source": [
    "report = classification_report(y_test, y_predict)\n",
    "\n",
    "# Print the classification report\n",
    "print(\"Classification Report:\")\n",
    "print(report)\n"
   ]
  },
  {
   "cell_type": "markdown",
   "id": "62c5d802",
   "metadata": {
    "papermill": {
     "duration": 0.02995,
     "end_time": "2024-04-18T18:03:21.392500",
     "exception": false,
     "start_time": "2024-04-18T18:03:21.362550",
     "status": "completed"
    },
    "tags": []
   },
   "source": [
    "The Random Forest model demonstrates high precision, recall, and F1-score for most stress levels, indicating robust performance with 97% accuracy.\n"
   ]
  },
  {
   "cell_type": "markdown",
   "id": "d40e4c1a",
   "metadata": {
    "papermill": {
     "duration": 0.028887,
     "end_time": "2024-04-18T18:03:21.450935",
     "exception": false,
     "start_time": "2024-04-18T18:03:21.422048",
     "status": "completed"
    },
    "tags": []
   },
   "source": [
    "# F. Decision Tree"
   ]
  },
  {
   "cell_type": "code",
   "execution_count": 53,
   "id": "e1f77216",
   "metadata": {
    "execution": {
     "iopub.execute_input": "2024-04-18T18:03:21.512068Z",
     "iopub.status.busy": "2024-04-18T18:03:21.511542Z",
     "iopub.status.idle": "2024-04-18T18:03:21.522681Z",
     "shell.execute_reply": "2024-04-18T18:03:21.521628Z"
    },
    "papermill": {
     "duration": 0.044194,
     "end_time": "2024-04-18T18:03:21.524817",
     "exception": false,
     "start_time": "2024-04-18T18:03:21.480623",
     "status": "completed"
    },
    "tags": []
   },
   "outputs": [
    {
     "data": {
      "text/html": [
       "<style>#sk-container-id-4 {color: black;background-color: white;}#sk-container-id-4 pre{padding: 0;}#sk-container-id-4 div.sk-toggleable {background-color: white;}#sk-container-id-4 label.sk-toggleable__label {cursor: pointer;display: block;width: 100%;margin-bottom: 0;padding: 0.3em;box-sizing: border-box;text-align: center;}#sk-container-id-4 label.sk-toggleable__label-arrow:before {content: \"▸\";float: left;margin-right: 0.25em;color: #696969;}#sk-container-id-4 label.sk-toggleable__label-arrow:hover:before {color: black;}#sk-container-id-4 div.sk-estimator:hover label.sk-toggleable__label-arrow:before {color: black;}#sk-container-id-4 div.sk-toggleable__content {max-height: 0;max-width: 0;overflow: hidden;text-align: left;background-color: #f0f8ff;}#sk-container-id-4 div.sk-toggleable__content pre {margin: 0.2em;color: black;border-radius: 0.25em;background-color: #f0f8ff;}#sk-container-id-4 input.sk-toggleable__control:checked~div.sk-toggleable__content {max-height: 200px;max-width: 100%;overflow: auto;}#sk-container-id-4 input.sk-toggleable__control:checked~label.sk-toggleable__label-arrow:before {content: \"▾\";}#sk-container-id-4 div.sk-estimator input.sk-toggleable__control:checked~label.sk-toggleable__label {background-color: #d4ebff;}#sk-container-id-4 div.sk-label input.sk-toggleable__control:checked~label.sk-toggleable__label {background-color: #d4ebff;}#sk-container-id-4 input.sk-hidden--visually {border: 0;clip: rect(1px 1px 1px 1px);clip: rect(1px, 1px, 1px, 1px);height: 1px;margin: -1px;overflow: hidden;padding: 0;position: absolute;width: 1px;}#sk-container-id-4 div.sk-estimator {font-family: monospace;background-color: #f0f8ff;border: 1px dotted black;border-radius: 0.25em;box-sizing: border-box;margin-bottom: 0.5em;}#sk-container-id-4 div.sk-estimator:hover {background-color: #d4ebff;}#sk-container-id-4 div.sk-parallel-item::after {content: \"\";width: 100%;border-bottom: 1px solid gray;flex-grow: 1;}#sk-container-id-4 div.sk-label:hover label.sk-toggleable__label {background-color: #d4ebff;}#sk-container-id-4 div.sk-serial::before {content: \"\";position: absolute;border-left: 1px solid gray;box-sizing: border-box;top: 0;bottom: 0;left: 50%;z-index: 0;}#sk-container-id-4 div.sk-serial {display: flex;flex-direction: column;align-items: center;background-color: white;padding-right: 0.2em;padding-left: 0.2em;position: relative;}#sk-container-id-4 div.sk-item {position: relative;z-index: 1;}#sk-container-id-4 div.sk-parallel {display: flex;align-items: stretch;justify-content: center;background-color: white;position: relative;}#sk-container-id-4 div.sk-item::before, #sk-container-id-4 div.sk-parallel-item::before {content: \"\";position: absolute;border-left: 1px solid gray;box-sizing: border-box;top: 0;bottom: 0;left: 50%;z-index: -1;}#sk-container-id-4 div.sk-parallel-item {display: flex;flex-direction: column;z-index: 1;position: relative;background-color: white;}#sk-container-id-4 div.sk-parallel-item:first-child::after {align-self: flex-end;width: 50%;}#sk-container-id-4 div.sk-parallel-item:last-child::after {align-self: flex-start;width: 50%;}#sk-container-id-4 div.sk-parallel-item:only-child::after {width: 0;}#sk-container-id-4 div.sk-dashed-wrapped {border: 1px dashed gray;margin: 0 0.4em 0.5em 0.4em;box-sizing: border-box;padding-bottom: 0.4em;background-color: white;}#sk-container-id-4 div.sk-label label {font-family: monospace;font-weight: bold;display: inline-block;line-height: 1.2em;}#sk-container-id-4 div.sk-label-container {text-align: center;}#sk-container-id-4 div.sk-container {/* jupyter's `normalize.less` sets `[hidden] { display: none; }` but bootstrap.min.css set `[hidden] { display: none !important; }` so we also need the `!important` here to be able to override the default hidden behavior on the sphinx rendered scikit-learn.org. See: https://github.com/scikit-learn/scikit-learn/issues/21755 */display: inline-block !important;position: relative;}#sk-container-id-4 div.sk-text-repr-fallback {display: none;}</style><div id=\"sk-container-id-4\" class=\"sk-top-container\"><div class=\"sk-text-repr-fallback\"><pre>DecisionTreeClassifier()</pre><b>In a Jupyter environment, please rerun this cell to show the HTML representation or trust the notebook. <br />On GitHub, the HTML representation is unable to render, please try loading this page with nbviewer.org.</b></div><div class=\"sk-container\" hidden><div class=\"sk-item\"><div class=\"sk-estimator sk-toggleable\"><input class=\"sk-toggleable__control sk-hidden--visually\" id=\"sk-estimator-id-4\" type=\"checkbox\" checked><label for=\"sk-estimator-id-4\" class=\"sk-toggleable__label sk-toggleable__label-arrow\">DecisionTreeClassifier</label><div class=\"sk-toggleable__content\"><pre>DecisionTreeClassifier()</pre></div></div></div></div></div>"
      ],
      "text/plain": [
       "DecisionTreeClassifier()"
      ]
     },
     "execution_count": 53,
     "metadata": {},
     "output_type": "execute_result"
    }
   ],
   "source": [
    "decision_tree = DecisionTreeClassifier()\n",
    "decision_tree.fit(X_train,y_train)"
   ]
  },
  {
   "cell_type": "code",
   "execution_count": 54,
   "id": "bf6cb895",
   "metadata": {
    "execution": {
     "iopub.execute_input": "2024-04-18T18:03:21.587887Z",
     "iopub.status.busy": "2024-04-18T18:03:21.587495Z",
     "iopub.status.idle": "2024-04-18T18:03:21.597200Z",
     "shell.execute_reply": "2024-04-18T18:03:21.596071Z"
    },
    "papermill": {
     "duration": 0.043448,
     "end_time": "2024-04-18T18:03:21.599380",
     "exception": false,
     "start_time": "2024-04-18T18:03:21.555932",
     "status": "completed"
    },
    "tags": []
   },
   "outputs": [
    {
     "data": {
      "text/plain": [
       "0.9733333333333334"
      ]
     },
     "execution_count": 54,
     "metadata": {},
     "output_type": "execute_result"
    }
   ],
   "source": [
    "decision_tree.score(X_test,y_test)"
   ]
  },
  {
   "cell_type": "code",
   "execution_count": 55,
   "id": "3b44ca15",
   "metadata": {
    "execution": {
     "iopub.execute_input": "2024-04-18T18:03:21.660528Z",
     "iopub.status.busy": "2024-04-18T18:03:21.660151Z",
     "iopub.status.idle": "2024-04-18T18:03:21.668932Z",
     "shell.execute_reply": "2024-04-18T18:03:21.667939Z"
    },
    "papermill": {
     "duration": 0.042315,
     "end_time": "2024-04-18T18:03:21.671562",
     "exception": false,
     "start_time": "2024-04-18T18:03:21.629247",
     "status": "completed"
    },
    "tags": []
   },
   "outputs": [
    {
     "name": "stdout",
     "output_type": "stream",
     "text": [
      "Confusion Matrix:\n",
      "[[12  0  0  0  0  0]\n",
      " [ 0 10  0  0  0  0]\n",
      " [ 0  1 12  1  0  0]\n",
      " [ 0  0  0 10  0  0]\n",
      " [ 0  0  0  0 12  0]\n",
      " [ 0  0  0  0  0 17]]\n"
     ]
    }
   ],
   "source": [
    "y_predict = decision_tree.predict(X_test)\n",
    "\n",
    "matrix = confusion_matrix(y_test, y_predict)\n",
    "\n",
    "print(\"Confusion Matrix:\")\n",
    "print(matrix)"
   ]
  },
  {
   "cell_type": "code",
   "execution_count": 56,
   "id": "689b8820",
   "metadata": {
    "execution": {
     "iopub.execute_input": "2024-04-18T18:03:21.734304Z",
     "iopub.status.busy": "2024-04-18T18:03:21.733921Z",
     "iopub.status.idle": "2024-04-18T18:03:21.747560Z",
     "shell.execute_reply": "2024-04-18T18:03:21.746681Z"
    },
    "papermill": {
     "duration": 0.047372,
     "end_time": "2024-04-18T18:03:21.749832",
     "exception": false,
     "start_time": "2024-04-18T18:03:21.702460",
     "status": "completed"
    },
    "tags": []
   },
   "outputs": [
    {
     "name": "stdout",
     "output_type": "stream",
     "text": [
      "Classification Report:\n",
      "              precision    recall  f1-score   support\n",
      "\n",
      "           3       1.00      1.00      1.00        12\n",
      "           4       0.91      1.00      0.95        10\n",
      "           5       1.00      0.86      0.92        14\n",
      "           6       0.91      1.00      0.95        10\n",
      "           7       1.00      1.00      1.00        12\n",
      "           8       1.00      1.00      1.00        17\n",
      "\n",
      "    accuracy                           0.97        75\n",
      "   macro avg       0.97      0.98      0.97        75\n",
      "weighted avg       0.98      0.97      0.97        75\n",
      "\n"
     ]
    }
   ],
   "source": [
    "report = classification_report(y_test, y_predict)\n",
    "\n",
    "# Print the classification report\n",
    "print(\"Classification Report:\")\n",
    "print(report)\n",
    "\n"
   ]
  },
  {
   "cell_type": "markdown",
   "id": "b67b5349",
   "metadata": {
    "papermill": {
     "duration": 0.029656,
     "end_time": "2024-04-18T18:03:21.809397",
     "exception": false,
     "start_time": "2024-04-18T18:03:21.779741",
     "status": "completed"
    },
    "tags": []
   },
   "source": [
    "The Decision Tree model has an accuracy of 97%.\n",
    " Overall, the model demonstrates high accuracy and balanced performance across different stress levels."
   ]
  },
  {
   "cell_type": "code",
   "execution_count": 57,
   "id": "783af6ab",
   "metadata": {
    "execution": {
     "iopub.execute_input": "2024-04-18T18:03:21.872210Z",
     "iopub.status.busy": "2024-04-18T18:03:21.871482Z",
     "iopub.status.idle": "2024-04-18T18:03:21.992491Z",
     "shell.execute_reply": "2024-04-18T18:03:21.991676Z"
    },
    "papermill": {
     "duration": 0.155364,
     "end_time": "2024-04-18T18:03:21.994644",
     "exception": false,
     "start_time": "2024-04-18T18:03:21.839280",
     "status": "completed"
    },
    "tags": []
   },
   "outputs": [
    {
     "data": {
      "text/html": [
       "<div>                            <div id=\"a41dad6e-1e3d-4d2e-81b6-5380f9d97632\" class=\"plotly-graph-div\" style=\"height:600px; width:700px;\"></div>            <script type=\"text/javascript\">                require([\"plotly\"], function(Plotly) {                    window.PLOTLYENV=window.PLOTLYENV || {};                                    if (document.getElementById(\"a41dad6e-1e3d-4d2e-81b6-5380f9d97632\")) {                    Plotly.newPlot(                        \"a41dad6e-1e3d-4d2e-81b6-5380f9d97632\",                        [{\"alignmentgroup\":\"True\",\"hovertemplate\":\"Model=%{x}\\u003cbr\\u003eAccuracy Score=%{text}\\u003cextra\\u003e\\u003c\\u002fextra\\u003e\",\"legendgroup\":\"Logistic Regression\",\"marker\":{\"color\":\"rgb(102, 197, 204)\",\"pattern\":{\"shape\":\"\"}},\"name\":\"Logistic Regression\",\"offsetgroup\":\"Logistic Regression\",\"orientation\":\"v\",\"showlegend\":true,\"text\":[48.0],\"textposition\":\"outside\",\"x\":[\"Logistic Regression\"],\"xaxis\":\"x\",\"y\":[48],\"yaxis\":\"y\",\"type\":\"bar\",\"texttemplate\":\"%{text:.2f}%\"},{\"alignmentgroup\":\"True\",\"hovertemplate\":\"Model=%{x}\\u003cbr\\u003eAccuracy Score=%{text}\\u003cextra\\u003e\\u003c\\u002fextra\\u003e\",\"legendgroup\":\"Naive Bayes\",\"marker\":{\"color\":\"rgb(246, 207, 113)\",\"pattern\":{\"shape\":\"\"}},\"name\":\"Naive Bayes\",\"offsetgroup\":\"Naive Bayes\",\"orientation\":\"v\",\"showlegend\":true,\"text\":[91.0],\"textposition\":\"outside\",\"x\":[\"Naive Bayes\"],\"xaxis\":\"x\",\"y\":[91],\"yaxis\":\"y\",\"type\":\"bar\",\"texttemplate\":\"%{text:.2f}%\"},{\"alignmentgroup\":\"True\",\"hovertemplate\":\"Model=%{x}\\u003cbr\\u003eAccuracy Score=%{text}\\u003cextra\\u003e\\u003c\\u002fextra\\u003e\",\"legendgroup\":\"SVM\",\"marker\":{\"color\":\"rgb(248, 156, 116)\",\"pattern\":{\"shape\":\"\"}},\"name\":\"SVM\",\"offsetgroup\":\"SVM\",\"orientation\":\"v\",\"showlegend\":true,\"text\":[91.0],\"textposition\":\"outside\",\"x\":[\"SVM\"],\"xaxis\":\"x\",\"y\":[91],\"yaxis\":\"y\",\"type\":\"bar\",\"texttemplate\":\"%{text:.2f}%\"},{\"alignmentgroup\":\"True\",\"hovertemplate\":\"Model=%{x}\\u003cbr\\u003eAccuracy Score=%{text}\\u003cextra\\u003e\\u003c\\u002fextra\\u003e\",\"legendgroup\":\"KNN\",\"marker\":{\"color\":\"rgb(220, 176, 242)\",\"pattern\":{\"shape\":\"\"}},\"name\":\"KNN\",\"offsetgroup\":\"KNN\",\"orientation\":\"v\",\"showlegend\":true,\"text\":[93.0],\"textposition\":\"outside\",\"x\":[\"KNN\"],\"xaxis\":\"x\",\"y\":[93],\"yaxis\":\"y\",\"type\":\"bar\",\"texttemplate\":\"%{text:.2f}%\"},{\"alignmentgroup\":\"True\",\"hovertemplate\":\"Model=%{x}\\u003cbr\\u003eAccuracy Score=%{text}\\u003cextra\\u003e\\u003c\\u002fextra\\u003e\",\"legendgroup\":\"Random Forest\",\"marker\":{\"color\":\"rgb(135, 197, 95)\",\"pattern\":{\"shape\":\"\"}},\"name\":\"Random Forest\",\"offsetgroup\":\"Random Forest\",\"orientation\":\"v\",\"showlegend\":true,\"text\":[97.0],\"textposition\":\"outside\",\"x\":[\"Random Forest\"],\"xaxis\":\"x\",\"y\":[97],\"yaxis\":\"y\",\"type\":\"bar\",\"texttemplate\":\"%{text:.2f}%\"},{\"alignmentgroup\":\"True\",\"hovertemplate\":\"Model=%{x}\\u003cbr\\u003eAccuracy Score=%{text}\\u003cextra\\u003e\\u003c\\u002fextra\\u003e\",\"legendgroup\":\"Decision Tree\",\"marker\":{\"color\":\"rgb(158, 185, 243)\",\"pattern\":{\"shape\":\"\"}},\"name\":\"Decision Tree\",\"offsetgroup\":\"Decision Tree\",\"orientation\":\"v\",\"showlegend\":true,\"text\":[97.0],\"textposition\":\"outside\",\"x\":[\"Decision Tree\"],\"xaxis\":\"x\",\"y\":[97],\"yaxis\":\"y\",\"type\":\"bar\",\"texttemplate\":\"%{text:.2f}%\"}],                        {\"template\":{\"data\":{\"histogram2dcontour\":[{\"type\":\"histogram2dcontour\",\"colorbar\":{\"outlinewidth\":0,\"ticks\":\"\"},\"colorscale\":[[0.0,\"#0d0887\"],[0.1111111111111111,\"#46039f\"],[0.2222222222222222,\"#7201a8\"],[0.3333333333333333,\"#9c179e\"],[0.4444444444444444,\"#bd3786\"],[0.5555555555555556,\"#d8576b\"],[0.6666666666666666,\"#ed7953\"],[0.7777777777777778,\"#fb9f3a\"],[0.8888888888888888,\"#fdca26\"],[1.0,\"#f0f921\"]]}],\"choropleth\":[{\"type\":\"choropleth\",\"colorbar\":{\"outlinewidth\":0,\"ticks\":\"\"}}],\"histogram2d\":[{\"type\":\"histogram2d\",\"colorbar\":{\"outlinewidth\":0,\"ticks\":\"\"},\"colorscale\":[[0.0,\"#0d0887\"],[0.1111111111111111,\"#46039f\"],[0.2222222222222222,\"#7201a8\"],[0.3333333333333333,\"#9c179e\"],[0.4444444444444444,\"#bd3786\"],[0.5555555555555556,\"#d8576b\"],[0.6666666666666666,\"#ed7953\"],[0.7777777777777778,\"#fb9f3a\"],[0.8888888888888888,\"#fdca26\"],[1.0,\"#f0f921\"]]}],\"heatmap\":[{\"type\":\"heatmap\",\"colorbar\":{\"outlinewidth\":0,\"ticks\":\"\"},\"colorscale\":[[0.0,\"#0d0887\"],[0.1111111111111111,\"#46039f\"],[0.2222222222222222,\"#7201a8\"],[0.3333333333333333,\"#9c179e\"],[0.4444444444444444,\"#bd3786\"],[0.5555555555555556,\"#d8576b\"],[0.6666666666666666,\"#ed7953\"],[0.7777777777777778,\"#fb9f3a\"],[0.8888888888888888,\"#fdca26\"],[1.0,\"#f0f921\"]]}],\"heatmapgl\":[{\"type\":\"heatmapgl\",\"colorbar\":{\"outlinewidth\":0,\"ticks\":\"\"},\"colorscale\":[[0.0,\"#0d0887\"],[0.1111111111111111,\"#46039f\"],[0.2222222222222222,\"#7201a8\"],[0.3333333333333333,\"#9c179e\"],[0.4444444444444444,\"#bd3786\"],[0.5555555555555556,\"#d8576b\"],[0.6666666666666666,\"#ed7953\"],[0.7777777777777778,\"#fb9f3a\"],[0.8888888888888888,\"#fdca26\"],[1.0,\"#f0f921\"]]}],\"contourcarpet\":[{\"type\":\"contourcarpet\",\"colorbar\":{\"outlinewidth\":0,\"ticks\":\"\"}}],\"contour\":[{\"type\":\"contour\",\"colorbar\":{\"outlinewidth\":0,\"ticks\":\"\"},\"colorscale\":[[0.0,\"#0d0887\"],[0.1111111111111111,\"#46039f\"],[0.2222222222222222,\"#7201a8\"],[0.3333333333333333,\"#9c179e\"],[0.4444444444444444,\"#bd3786\"],[0.5555555555555556,\"#d8576b\"],[0.6666666666666666,\"#ed7953\"],[0.7777777777777778,\"#fb9f3a\"],[0.8888888888888888,\"#fdca26\"],[1.0,\"#f0f921\"]]}],\"surface\":[{\"type\":\"surface\",\"colorbar\":{\"outlinewidth\":0,\"ticks\":\"\"},\"colorscale\":[[0.0,\"#0d0887\"],[0.1111111111111111,\"#46039f\"],[0.2222222222222222,\"#7201a8\"],[0.3333333333333333,\"#9c179e\"],[0.4444444444444444,\"#bd3786\"],[0.5555555555555556,\"#d8576b\"],[0.6666666666666666,\"#ed7953\"],[0.7777777777777778,\"#fb9f3a\"],[0.8888888888888888,\"#fdca26\"],[1.0,\"#f0f921\"]]}],\"mesh3d\":[{\"type\":\"mesh3d\",\"colorbar\":{\"outlinewidth\":0,\"ticks\":\"\"}}],\"scatter\":[{\"fillpattern\":{\"fillmode\":\"overlay\",\"size\":10,\"solidity\":0.2},\"type\":\"scatter\"}],\"parcoords\":[{\"type\":\"parcoords\",\"line\":{\"colorbar\":{\"outlinewidth\":0,\"ticks\":\"\"}}}],\"scatterpolargl\":[{\"type\":\"scatterpolargl\",\"marker\":{\"colorbar\":{\"outlinewidth\":0,\"ticks\":\"\"}}}],\"bar\":[{\"error_x\":{\"color\":\"#2a3f5f\"},\"error_y\":{\"color\":\"#2a3f5f\"},\"marker\":{\"line\":{\"color\":\"#E5ECF6\",\"width\":0.5},\"pattern\":{\"fillmode\":\"overlay\",\"size\":10,\"solidity\":0.2}},\"type\":\"bar\"}],\"scattergeo\":[{\"type\":\"scattergeo\",\"marker\":{\"colorbar\":{\"outlinewidth\":0,\"ticks\":\"\"}}}],\"scatterpolar\":[{\"type\":\"scatterpolar\",\"marker\":{\"colorbar\":{\"outlinewidth\":0,\"ticks\":\"\"}}}],\"histogram\":[{\"marker\":{\"pattern\":{\"fillmode\":\"overlay\",\"size\":10,\"solidity\":0.2}},\"type\":\"histogram\"}],\"scattergl\":[{\"type\":\"scattergl\",\"marker\":{\"colorbar\":{\"outlinewidth\":0,\"ticks\":\"\"}}}],\"scatter3d\":[{\"type\":\"scatter3d\",\"line\":{\"colorbar\":{\"outlinewidth\":0,\"ticks\":\"\"}},\"marker\":{\"colorbar\":{\"outlinewidth\":0,\"ticks\":\"\"}}}],\"scattermapbox\":[{\"type\":\"scattermapbox\",\"marker\":{\"colorbar\":{\"outlinewidth\":0,\"ticks\":\"\"}}}],\"scatterternary\":[{\"type\":\"scatterternary\",\"marker\":{\"colorbar\":{\"outlinewidth\":0,\"ticks\":\"\"}}}],\"scattercarpet\":[{\"type\":\"scattercarpet\",\"marker\":{\"colorbar\":{\"outlinewidth\":0,\"ticks\":\"\"}}}],\"carpet\":[{\"aaxis\":{\"endlinecolor\":\"#2a3f5f\",\"gridcolor\":\"white\",\"linecolor\":\"white\",\"minorgridcolor\":\"white\",\"startlinecolor\":\"#2a3f5f\"},\"baxis\":{\"endlinecolor\":\"#2a3f5f\",\"gridcolor\":\"white\",\"linecolor\":\"white\",\"minorgridcolor\":\"white\",\"startlinecolor\":\"#2a3f5f\"},\"type\":\"carpet\"}],\"table\":[{\"cells\":{\"fill\":{\"color\":\"#EBF0F8\"},\"line\":{\"color\":\"white\"}},\"header\":{\"fill\":{\"color\":\"#C8D4E3\"},\"line\":{\"color\":\"white\"}},\"type\":\"table\"}],\"barpolar\":[{\"marker\":{\"line\":{\"color\":\"#E5ECF6\",\"width\":0.5},\"pattern\":{\"fillmode\":\"overlay\",\"size\":10,\"solidity\":0.2}},\"type\":\"barpolar\"}],\"pie\":[{\"automargin\":true,\"type\":\"pie\"}]},\"layout\":{\"autotypenumbers\":\"strict\",\"colorway\":[\"#636efa\",\"#EF553B\",\"#00cc96\",\"#ab63fa\",\"#FFA15A\",\"#19d3f3\",\"#FF6692\",\"#B6E880\",\"#FF97FF\",\"#FECB52\"],\"font\":{\"color\":\"#2a3f5f\"},\"hovermode\":\"closest\",\"hoverlabel\":{\"align\":\"left\"},\"paper_bgcolor\":\"white\",\"plot_bgcolor\":\"#E5ECF6\",\"polar\":{\"bgcolor\":\"#E5ECF6\",\"angularaxis\":{\"gridcolor\":\"white\",\"linecolor\":\"white\",\"ticks\":\"\"},\"radialaxis\":{\"gridcolor\":\"white\",\"linecolor\":\"white\",\"ticks\":\"\"}},\"ternary\":{\"bgcolor\":\"#E5ECF6\",\"aaxis\":{\"gridcolor\":\"white\",\"linecolor\":\"white\",\"ticks\":\"\"},\"baxis\":{\"gridcolor\":\"white\",\"linecolor\":\"white\",\"ticks\":\"\"},\"caxis\":{\"gridcolor\":\"white\",\"linecolor\":\"white\",\"ticks\":\"\"}},\"coloraxis\":{\"colorbar\":{\"outlinewidth\":0,\"ticks\":\"\"}},\"colorscale\":{\"sequential\":[[0.0,\"#0d0887\"],[0.1111111111111111,\"#46039f\"],[0.2222222222222222,\"#7201a8\"],[0.3333333333333333,\"#9c179e\"],[0.4444444444444444,\"#bd3786\"],[0.5555555555555556,\"#d8576b\"],[0.6666666666666666,\"#ed7953\"],[0.7777777777777778,\"#fb9f3a\"],[0.8888888888888888,\"#fdca26\"],[1.0,\"#f0f921\"]],\"sequentialminus\":[[0.0,\"#0d0887\"],[0.1111111111111111,\"#46039f\"],[0.2222222222222222,\"#7201a8\"],[0.3333333333333333,\"#9c179e\"],[0.4444444444444444,\"#bd3786\"],[0.5555555555555556,\"#d8576b\"],[0.6666666666666666,\"#ed7953\"],[0.7777777777777778,\"#fb9f3a\"],[0.8888888888888888,\"#fdca26\"],[1.0,\"#f0f921\"]],\"diverging\":[[0,\"#8e0152\"],[0.1,\"#c51b7d\"],[0.2,\"#de77ae\"],[0.3,\"#f1b6da\"],[0.4,\"#fde0ef\"],[0.5,\"#f7f7f7\"],[0.6,\"#e6f5d0\"],[0.7,\"#b8e186\"],[0.8,\"#7fbc41\"],[0.9,\"#4d9221\"],[1,\"#276419\"]]},\"xaxis\":{\"gridcolor\":\"white\",\"linecolor\":\"white\",\"ticks\":\"\",\"title\":{\"standoff\":15},\"zerolinecolor\":\"white\",\"automargin\":true,\"zerolinewidth\":2},\"yaxis\":{\"gridcolor\":\"white\",\"linecolor\":\"white\",\"ticks\":\"\",\"title\":{\"standoff\":15},\"zerolinecolor\":\"white\",\"automargin\":true,\"zerolinewidth\":2},\"scene\":{\"xaxis\":{\"backgroundcolor\":\"#E5ECF6\",\"gridcolor\":\"white\",\"linecolor\":\"white\",\"showbackground\":true,\"ticks\":\"\",\"zerolinecolor\":\"white\",\"gridwidth\":2},\"yaxis\":{\"backgroundcolor\":\"#E5ECF6\",\"gridcolor\":\"white\",\"linecolor\":\"white\",\"showbackground\":true,\"ticks\":\"\",\"zerolinecolor\":\"white\",\"gridwidth\":2},\"zaxis\":{\"backgroundcolor\":\"#E5ECF6\",\"gridcolor\":\"white\",\"linecolor\":\"white\",\"showbackground\":true,\"ticks\":\"\",\"zerolinecolor\":\"white\",\"gridwidth\":2}},\"shapedefaults\":{\"line\":{\"color\":\"#2a3f5f\"}},\"annotationdefaults\":{\"arrowcolor\":\"#2a3f5f\",\"arrowhead\":0,\"arrowwidth\":1},\"geo\":{\"bgcolor\":\"white\",\"landcolor\":\"#E5ECF6\",\"subunitcolor\":\"white\",\"showland\":true,\"showlakes\":true,\"lakecolor\":\"white\"},\"title\":{\"x\":0.05},\"mapbox\":{\"style\":\"light\"}}},\"xaxis\":{\"anchor\":\"y\",\"domain\":[0.0,1.0],\"title\":{\"text\":\"Model\"},\"categoryorder\":\"array\",\"categoryarray\":[\"Logistic Regression\",\"Naive Bayes\",\"SVM\",\"KNN\",\"Random Forest\",\"Decision Tree\"]},\"yaxis\":{\"anchor\":\"x\",\"domain\":[0.0,1.0],\"title\":{\"text\":\"Accuracy Score\"}},\"legend\":{\"title\":{\"text\":\"Model\"},\"tracegroupgap\":0},\"title\":{\"text\":\"Comparison of Model Accuracy\"},\"barmode\":\"relative\",\"width\":700,\"height\":600},                        {\"responsive\": true}                    ).then(function(){\n",
       "                            \n",
       "var gd = document.getElementById('a41dad6e-1e3d-4d2e-81b6-5380f9d97632');\n",
       "var x = new MutationObserver(function (mutations, observer) {{\n",
       "        var display = window.getComputedStyle(gd).display;\n",
       "        if (!display || display === 'none') {{\n",
       "            console.log([gd, 'removed!']);\n",
       "            Plotly.purge(gd);\n",
       "            observer.disconnect();\n",
       "        }}\n",
       "}});\n",
       "\n",
       "// Listen for the removal of the full notebook cells\n",
       "var notebookContainer = gd.closest('#notebook-container');\n",
       "if (notebookContainer) {{\n",
       "    x.observe(notebookContainer, {childList: true});\n",
       "}}\n",
       "\n",
       "// Listen for the clearing of the current output cell\n",
       "var outputEl = gd.closest('.output');\n",
       "if (outputEl) {{\n",
       "    x.observe(outputEl, {childList: true});\n",
       "}}\n",
       "\n",
       "                        })                };                });            </script>        </div>"
      ]
     },
     "metadata": {},
     "output_type": "display_data"
    }
   ],
   "source": [
    "model_names = ['Logistic Regression', 'Naive Bayes',  'SVM', 'KNN', 'Random Forest', 'Decision Tree',]\n",
    "accuracy_scores = [48, 91, 91, 93, 97, 97]  \n",
    ", \n",
    "data = {'Model': model_names, 'Accuracy Score': accuracy_scores}\n",
    "\n",
    "df = pd.DataFrame(data)\n",
    "\n",
    "colors = px.colors.qualitative.Pastel\n",
    "\n",
    "fig = px.bar(df, x='Model', y='Accuracy Score', text='Accuracy Score', \n",
    "             title='Comparison of Model Accuracy', color='Model',\n",
    "             color_discrete_map={model: color for model, color in zip(model_names, colors)})\n",
    "\n",
    "fig.update_traces(texttemplate='%{text:.2f}%', textposition='outside')\n",
    "fig.update_layout(width=700, height=600)\n",
    "\n",
    "fig.show()"
   ]
  },
  {
   "cell_type": "markdown",
   "id": "5ee0717f",
   "metadata": {
    "papermill": {
     "duration": 0.029849,
     "end_time": "2024-04-18T18:03:22.054975",
     "exception": false,
     "start_time": "2024-04-18T18:03:22.025126",
     "status": "completed"
    },
    "tags": []
   },
   "source": [
    "# 8.  Conclusion"
   ]
  },
  {
   "cell_type": "markdown",
   "id": "0661a0ba",
   "metadata": {
    "papermill": {
     "duration": 0.029734,
     "end_time": "2024-04-18T18:03:22.114744",
     "exception": false,
     "start_time": "2024-04-18T18:03:22.085010",
     "status": "completed"
    },
    "tags": []
   },
   "source": [
    "The Random Forest Classifier and Decision Tree models emerged as the top performers, achieving good accuracy scores of 96% and 97%, respectively. \n",
    "Logistic Regression showed notably lower performance at 48%. \n",
    "\n",
    "Furthermore, it's important to acknowledge the impact of data size on model performance. With a relatively small dataset, the ability of models to generalize might be compromised, leading to variations in performance.\n",
    "\n",
    " Additionally, fine-tuning model parameters and exploring ensemble methods could further improve predictive accuracy. Overall, this project contributes to our understanding of stress level detection and highlights avenues for future exploration in the field of mental health prediction."
   ]
  },
  {
   "cell_type": "markdown",
   "id": "b64785c2",
   "metadata": {
    "papermill": {
     "duration": 0.029522,
     "end_time": "2024-04-18T18:03:22.174060",
     "exception": false,
     "start_time": "2024-04-18T18:03:22.144538",
     "status": "completed"
    },
    "tags": []
   },
   "source": [
    "# 9. Stress Level Detection"
   ]
  },
  {
   "cell_type": "markdown",
   "id": "64f0c941",
   "metadata": {
    "papermill": {
     "duration": 0.029529,
     "end_time": "2024-04-18T18:03:22.233469",
     "exception": false,
     "start_time": "2024-04-18T18:03:22.203940",
     "status": "completed"
    },
    "tags": []
   },
   "source": [
    "\n",
    "Here, I have used Random Forest model for the detection.\n",
    "\n",
    "Once we input the values of the columns, we get the Stress Level as output. \n"
   ]
  },
  {
   "cell_type": "code",
   "execution_count": 58,
   "id": "94dc538d",
   "metadata": {
    "execution": {
     "iopub.execute_input": "2024-04-18T18:03:22.295150Z",
     "iopub.status.busy": "2024-04-18T18:03:22.294407Z",
     "iopub.status.idle": "2024-04-18T18:03:22.300552Z",
     "shell.execute_reply": "2024-04-18T18:03:22.299766Z"
    },
    "papermill": {
     "duration": 0.039327,
     "end_time": "2024-04-18T18:03:22.302539",
     "exception": false,
     "start_time": "2024-04-18T18:03:22.263212",
     "status": "completed"
    },
    "tags": []
   },
   "outputs": [],
   "source": [
    "def get_user_input():\n",
    "    gender = int(input(\"Gender (Male: 1, Female: 0): \"))\n",
    "    age = int(input(\"Age: \"))\n",
    "    print( \"['Scientist =0','Doctor =1 ', 'Accountant =2', 'Teacher =3','Manager =4', 'Engineer = 5', 'Sales Representative =6', 'Lawyer =8','Salesperson =7','Software Engineer = 9', 'Nurse = 10']\")   \n",
    "    occupation = int(input(\"Occupation (encoded): \"))\n",
    "    sleep_duration = float(input(\"Sleep Duration (hours): \"))\n",
    "    bmi_category = int(input(\"BMI Category (Underweight: 1, Normal: 2, Overweight: 3): \"))\n",
    "    heart_rate = int(input(\"Heart Rate (bpm): \"))\n",
    "    daily_steps = int(input(\"Daily Steps: \"))\n",
    "    systolic_bp = int(input(\"Systolic Blood Pressure: \"))\n",
    "    \n",
    "    return np.array([[gender, age, occupation, sleep_duration, bmi_category, heart_rate, daily_steps, systolic_bp]])\n",
    "\n",
    "# Uncomment the below code to run random forest on your own inputs.\n",
    "\n",
    "#user_input = get_user_input()\n",
    "\n",
    "#predicted_stress_level = random_forest.predict(user_input)\n",
    "\n",
    "#print(\"Predicted Stress Level:\", predicted_stress_level[0])"
   ]
  }
 ],
 "metadata": {
  "kaggle": {
   "accelerator": "none",
   "dataSources": [
    {
     "datasetId": 3321433,
     "sourceId": 6491929,
     "sourceType": "datasetVersion"
    }
   ],
   "dockerImageVersionId": 30684,
   "isGpuEnabled": false,
   "isInternetEnabled": true,
   "language": "python",
   "sourceType": "notebook"
  },
  "kernelspec": {
   "display_name": "Python 3",
   "language": "python",
   "name": "python3"
  },
  "language_info": {
   "codemirror_mode": {
    "name": "ipython",
    "version": 3
   },
   "file_extension": ".py",
   "mimetype": "text/x-python",
   "name": "python",
   "nbconvert_exporter": "python",
   "pygments_lexer": "ipython3",
   "version": "3.10.13"
  },
  "papermill": {
   "default_parameters": {},
   "duration": 36.282582,
   "end_time": "2024-04-18T18:03:23.052300",
   "environment_variables": {},
   "exception": null,
   "input_path": "__notebook__.ipynb",
   "output_path": "__notebook__.ipynb",
   "parameters": {},
   "start_time": "2024-04-18T18:02:46.769718",
   "version": "2.5.0"
  }
 },
 "nbformat": 4,
 "nbformat_minor": 5
}
