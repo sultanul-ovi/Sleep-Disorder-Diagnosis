{
 "cells": [
  {
   "cell_type": "markdown",
   "id": "2ba24ff8",
   "metadata": {
    "papermill": {
     "duration": 0.008567,
     "end_time": "2024-01-29T22:32:38.714856",
     "exception": false,
     "start_time": "2024-01-29T22:32:38.706289",
     "status": "completed"
    },
    "tags": []
   },
   "source": [
    "# Introduction\n",
    "\n",
    "Sleep is a critical factor in maintaining overall health and well-being, yet various lifestyle choices can significantly influence the quality and duration of sleep. This analysis delves into the intricate relationship between lifestyle factors and sleep health, providing valuable insights for individuals seeking to enhance their sleep patterns. As a data scientist, deciphering these connections allows for informed decision-making, ultimately optimizing sleep health.\n",
    "\n",
    "# Dataset Columns\n",
    "\n",
    "The dataset includes the following columns:\n",
    "\n",
    "* Person ID: An identifier for each individual in the dataset.\n",
    "\n",
    "* Gender: The gender of the person (Male/Female).\n",
    "\n",
    "* Age: The age of the person in years.\n",
    "\n",
    "* Occupation: The occupation or profession of the person.\n",
    "\n",
    "* Sleep Duration (hours): The number of hours the person sleeps per day.\n",
    "\n",
    "* Quality of Sleep (scale: 1-10): A subjective rating of sleep quality (1 to 10).\n",
    "\n",
    "* Physical Activity Level (minutes/day): The daily minutes of physical activity.\n",
    "\n",
    "* Stress Level (scale: 1-10): A subjective rating of stress level (1 to 10).\n",
    "\n",
    "* BMI Category: The BMI category of the person (Underweight, Normal, Overweight).\n",
    "\n",
    "* Blood Pressure (systolic/diastolic): The blood pressure measurement (systolic over diastolic).\n",
    "\n",
    "* Heart Rate (bpm): Resting heart rate in beats per minute.\n",
    "\n",
    "* Daily Steps: The number of steps taken per day.\n",
    "\n",
    "* Sleep Disorder: The presence or absence of a sleep disorder (None, Insomnia, Sleep Apnea).\n",
    "\n"
   ]
  },
  {
   "cell_type": "markdown",
   "id": "496807f0",
   "metadata": {
    "papermill": {
     "duration": 0.007585,
     "end_time": "2024-01-29T22:32:38.730373",
     "exception": false,
     "start_time": "2024-01-29T22:32:38.722788",
     "status": "completed"
    },
    "tags": []
   },
   "source": [
    "# Objective:\n",
    "Identify and analyze the presence or absence of sleep disorders, including Insomnia and Sleep Apnea"
   ]
  },
  {
   "cell_type": "markdown",
   "id": "db5a178e",
   "metadata": {
    "papermill": {
     "duration": 0.007346,
     "end_time": "2024-01-29T22:32:38.746079",
     "exception": false,
     "start_time": "2024-01-29T22:32:38.738733",
     "status": "completed"
    },
    "tags": []
   },
   "source": [
    "# Importing Libraries:"
   ]
  },
  {
   "cell_type": "code",
   "execution_count": 1,
   "id": "32909669",
   "metadata": {
    "_cell_guid": "b1076dfc-b9ad-4769-8c92-a6c4dae69d19",
    "_uuid": "8f2839f25d086af736a60e9eeb907d3b93b6e0e5",
    "execution": {
     "iopub.execute_input": "2024-01-29T22:32:38.766602Z",
     "iopub.status.busy": "2024-01-29T22:32:38.765555Z",
     "iopub.status.idle": "2024-01-29T22:32:41.489303Z",
     "shell.execute_reply": "2024-01-29T22:32:41.488015Z"
    },
    "papermill": {
     "duration": 2.737179,
     "end_time": "2024-01-29T22:32:41.492248",
     "exception": false,
     "start_time": "2024-01-29T22:32:38.755069",
     "status": "completed"
    },
    "tags": []
   },
   "outputs": [],
   "source": [
    "import numpy as np # linear algebra\n",
    "import pandas as pd # data processing, CSV file I/O (e.g. pd.read_csv)\n",
    "from sklearn.preprocessing import LabelEncoder ,StandardScaler\n",
    "from sklearn.model_selection import train_test_split\n",
    "from sklearn.metrics import accuracy_score"
   ]
  },
  {
   "cell_type": "markdown",
   "id": "44b189c0",
   "metadata": {
    "papermill": {
     "duration": 0.007222,
     "end_time": "2024-01-29T22:32:41.507270",
     "exception": false,
     "start_time": "2024-01-29T22:32:41.500048",
     "status": "completed"
    },
    "tags": []
   },
   "source": [
    "# Loading the Dataset:"
   ]
  },
  {
   "cell_type": "code",
   "execution_count": 2,
   "id": "eb5ab317",
   "metadata": {
    "execution": {
     "iopub.execute_input": "2024-01-29T22:32:41.526348Z",
     "iopub.status.busy": "2024-01-29T22:32:41.525668Z",
     "iopub.status.idle": "2024-01-29T22:32:41.552208Z",
     "shell.execute_reply": "2024-01-29T22:32:41.550596Z"
    },
    "papermill": {
     "duration": 0.039448,
     "end_time": "2024-01-29T22:32:41.555133",
     "exception": false,
     "start_time": "2024-01-29T22:32:41.515685",
     "status": "completed"
    },
    "tags": []
   },
   "outputs": [],
   "source": [
    "data=pd.read_csv('/kaggle/input/sleep-health-and-lifestyle-dataset/Sleep_health_and_lifestyle_dataset.csv')"
   ]
  },
  {
   "cell_type": "markdown",
   "id": "c1dfdac8",
   "metadata": {
    "papermill": {
     "duration": 0.007103,
     "end_time": "2024-01-29T22:32:41.569840",
     "exception": false,
     "start_time": "2024-01-29T22:32:41.562737",
     "status": "completed"
    },
    "tags": []
   },
   "source": [
    "# Exploratory Data Analysis (EDA):"
   ]
  },
  {
   "cell_type": "code",
   "execution_count": 3,
   "id": "57e34e92",
   "metadata": {
    "execution": {
     "iopub.execute_input": "2024-01-29T22:32:41.588142Z",
     "iopub.status.busy": "2024-01-29T22:32:41.587690Z",
     "iopub.status.idle": "2024-01-29T22:32:41.613522Z",
     "shell.execute_reply": "2024-01-29T22:32:41.612208Z"
    },
    "papermill": {
     "duration": 0.039015,
     "end_time": "2024-01-29T22:32:41.616295",
     "exception": false,
     "start_time": "2024-01-29T22:32:41.577280",
     "status": "completed"
    },
    "tags": []
   },
   "outputs": [
    {
     "data": {
      "text/html": [
       "<div>\n",
       "<style scoped>\n",
       "    .dataframe tbody tr th:only-of-type {\n",
       "        vertical-align: middle;\n",
       "    }\n",
       "\n",
       "    .dataframe tbody tr th {\n",
       "        vertical-align: top;\n",
       "    }\n",
       "\n",
       "    .dataframe thead th {\n",
       "        text-align: right;\n",
       "    }\n",
       "</style>\n",
       "<table border=\"1\" class=\"dataframe\">\n",
       "  <thead>\n",
       "    <tr style=\"text-align: right;\">\n",
       "      <th></th>\n",
       "      <th>Person ID</th>\n",
       "      <th>Gender</th>\n",
       "      <th>Age</th>\n",
       "      <th>Occupation</th>\n",
       "      <th>Sleep Duration</th>\n",
       "      <th>Quality of Sleep</th>\n",
       "      <th>Physical Activity Level</th>\n",
       "      <th>Stress Level</th>\n",
       "      <th>BMI Category</th>\n",
       "      <th>Blood Pressure</th>\n",
       "      <th>Heart Rate</th>\n",
       "      <th>Daily Steps</th>\n",
       "      <th>Sleep Disorder</th>\n",
       "    </tr>\n",
       "  </thead>\n",
       "  <tbody>\n",
       "    <tr>\n",
       "      <th>0</th>\n",
       "      <td>1</td>\n",
       "      <td>Male</td>\n",
       "      <td>27</td>\n",
       "      <td>Software Engineer</td>\n",
       "      <td>6.1</td>\n",
       "      <td>6</td>\n",
       "      <td>42</td>\n",
       "      <td>6</td>\n",
       "      <td>Overweight</td>\n",
       "      <td>126/83</td>\n",
       "      <td>77</td>\n",
       "      <td>4200</td>\n",
       "      <td>NaN</td>\n",
       "    </tr>\n",
       "    <tr>\n",
       "      <th>1</th>\n",
       "      <td>2</td>\n",
       "      <td>Male</td>\n",
       "      <td>28</td>\n",
       "      <td>Doctor</td>\n",
       "      <td>6.2</td>\n",
       "      <td>6</td>\n",
       "      <td>60</td>\n",
       "      <td>8</td>\n",
       "      <td>Normal</td>\n",
       "      <td>125/80</td>\n",
       "      <td>75</td>\n",
       "      <td>10000</td>\n",
       "      <td>NaN</td>\n",
       "    </tr>\n",
       "    <tr>\n",
       "      <th>2</th>\n",
       "      <td>3</td>\n",
       "      <td>Male</td>\n",
       "      <td>28</td>\n",
       "      <td>Doctor</td>\n",
       "      <td>6.2</td>\n",
       "      <td>6</td>\n",
       "      <td>60</td>\n",
       "      <td>8</td>\n",
       "      <td>Normal</td>\n",
       "      <td>125/80</td>\n",
       "      <td>75</td>\n",
       "      <td>10000</td>\n",
       "      <td>NaN</td>\n",
       "    </tr>\n",
       "    <tr>\n",
       "      <th>3</th>\n",
       "      <td>4</td>\n",
       "      <td>Male</td>\n",
       "      <td>28</td>\n",
       "      <td>Sales Representative</td>\n",
       "      <td>5.9</td>\n",
       "      <td>4</td>\n",
       "      <td>30</td>\n",
       "      <td>8</td>\n",
       "      <td>Obese</td>\n",
       "      <td>140/90</td>\n",
       "      <td>85</td>\n",
       "      <td>3000</td>\n",
       "      <td>Sleep Apnea</td>\n",
       "    </tr>\n",
       "    <tr>\n",
       "      <th>4</th>\n",
       "      <td>5</td>\n",
       "      <td>Male</td>\n",
       "      <td>28</td>\n",
       "      <td>Sales Representative</td>\n",
       "      <td>5.9</td>\n",
       "      <td>4</td>\n",
       "      <td>30</td>\n",
       "      <td>8</td>\n",
       "      <td>Obese</td>\n",
       "      <td>140/90</td>\n",
       "      <td>85</td>\n",
       "      <td>3000</td>\n",
       "      <td>Sleep Apnea</td>\n",
       "    </tr>\n",
       "  </tbody>\n",
       "</table>\n",
       "</div>"
      ],
      "text/plain": [
       "   Person ID Gender  Age            Occupation  Sleep Duration  \\\n",
       "0          1   Male   27     Software Engineer             6.1   \n",
       "1          2   Male   28                Doctor             6.2   \n",
       "2          3   Male   28                Doctor             6.2   \n",
       "3          4   Male   28  Sales Representative             5.9   \n",
       "4          5   Male   28  Sales Representative             5.9   \n",
       "\n",
       "   Quality of Sleep  Physical Activity Level  Stress Level BMI Category  \\\n",
       "0                 6                       42             6   Overweight   \n",
       "1                 6                       60             8       Normal   \n",
       "2                 6                       60             8       Normal   \n",
       "3                 4                       30             8        Obese   \n",
       "4                 4                       30             8        Obese   \n",
       "\n",
       "  Blood Pressure  Heart Rate  Daily Steps Sleep Disorder  \n",
       "0         126/83          77         4200            NaN  \n",
       "1         125/80          75        10000            NaN  \n",
       "2         125/80          75        10000            NaN  \n",
       "3         140/90          85         3000    Sleep Apnea  \n",
       "4         140/90          85         3000    Sleep Apnea  "
      ]
     },
     "execution_count": 3,
     "metadata": {},
     "output_type": "execute_result"
    }
   ],
   "source": [
    "data.head()"
   ]
  },
  {
   "cell_type": "code",
   "execution_count": 4,
   "id": "b717ff34",
   "metadata": {
    "execution": {
     "iopub.execute_input": "2024-01-29T22:32:41.635019Z",
     "iopub.status.busy": "2024-01-29T22:32:41.634099Z",
     "iopub.status.idle": "2024-01-29T22:32:41.670345Z",
     "shell.execute_reply": "2024-01-29T22:32:41.667996Z"
    },
    "papermill": {
     "duration": 0.04869,
     "end_time": "2024-01-29T22:32:41.673031",
     "exception": false,
     "start_time": "2024-01-29T22:32:41.624341",
     "status": "completed"
    },
    "tags": []
   },
   "outputs": [
    {
     "name": "stdout",
     "output_type": "stream",
     "text": [
      "<class 'pandas.core.frame.DataFrame'>\n",
      "RangeIndex: 374 entries, 0 to 373\n",
      "Data columns (total 13 columns):\n",
      " #   Column                   Non-Null Count  Dtype  \n",
      "---  ------                   --------------  -----  \n",
      " 0   Person ID                374 non-null    int64  \n",
      " 1   Gender                   374 non-null    object \n",
      " 2   Age                      374 non-null    int64  \n",
      " 3   Occupation               374 non-null    object \n",
      " 4   Sleep Duration           374 non-null    float64\n",
      " 5   Quality of Sleep         374 non-null    int64  \n",
      " 6   Physical Activity Level  374 non-null    int64  \n",
      " 7   Stress Level             374 non-null    int64  \n",
      " 8   BMI Category             374 non-null    object \n",
      " 9   Blood Pressure           374 non-null    object \n",
      " 10  Heart Rate               374 non-null    int64  \n",
      " 11  Daily Steps              374 non-null    int64  \n",
      " 12  Sleep Disorder           155 non-null    object \n",
      "dtypes: float64(1), int64(7), object(5)\n",
      "memory usage: 38.1+ KB\n"
     ]
    }
   ],
   "source": [
    "data.info()"
   ]
  },
  {
   "cell_type": "code",
   "execution_count": 5,
   "id": "fd7b90af",
   "metadata": {
    "execution": {
     "iopub.execute_input": "2024-01-29T22:32:41.691027Z",
     "iopub.status.busy": "2024-01-29T22:32:41.690608Z",
     "iopub.status.idle": "2024-01-29T22:32:41.702780Z",
     "shell.execute_reply": "2024-01-29T22:32:41.701304Z"
    },
    "papermill": {
     "duration": 0.024274,
     "end_time": "2024-01-29T22:32:41.705314",
     "exception": false,
     "start_time": "2024-01-29T22:32:41.681040",
     "status": "completed"
    },
    "tags": []
   },
   "outputs": [
    {
     "data": {
      "text/plain": [
       "0"
      ]
     },
     "execution_count": 5,
     "metadata": {},
     "output_type": "execute_result"
    }
   ],
   "source": [
    "data.duplicated().sum()\n"
   ]
  },
  {
   "cell_type": "code",
   "execution_count": 6,
   "id": "9953f79c",
   "metadata": {
    "execution": {
     "iopub.execute_input": "2024-01-29T22:32:41.723436Z",
     "iopub.status.busy": "2024-01-29T22:32:41.722820Z",
     "iopub.status.idle": "2024-01-29T22:32:41.733680Z",
     "shell.execute_reply": "2024-01-29T22:32:41.732411Z"
    },
    "papermill": {
     "duration": 0.022726,
     "end_time": "2024-01-29T22:32:41.736041",
     "exception": false,
     "start_time": "2024-01-29T22:32:41.713315",
     "status": "completed"
    },
    "tags": []
   },
   "outputs": [
    {
     "data": {
      "text/plain": [
       "Person ID                    0\n",
       "Gender                       0\n",
       "Age                          0\n",
       "Occupation                   0\n",
       "Sleep Duration               0\n",
       "Quality of Sleep             0\n",
       "Physical Activity Level      0\n",
       "Stress Level                 0\n",
       "BMI Category                 0\n",
       "Blood Pressure               0\n",
       "Heart Rate                   0\n",
       "Daily Steps                  0\n",
       "Sleep Disorder             219\n",
       "dtype: int64"
      ]
     },
     "execution_count": 6,
     "metadata": {},
     "output_type": "execute_result"
    }
   ],
   "source": [
    "data.isna().sum()"
   ]
  },
  {
   "cell_type": "code",
   "execution_count": 7,
   "id": "93cff70d",
   "metadata": {
    "execution": {
     "iopub.execute_input": "2024-01-29T22:32:41.753889Z",
     "iopub.status.busy": "2024-01-29T22:32:41.753461Z",
     "iopub.status.idle": "2024-01-29T22:32:41.766225Z",
     "shell.execute_reply": "2024-01-29T22:32:41.764736Z"
    },
    "papermill": {
     "duration": 0.024585,
     "end_time": "2024-01-29T22:32:41.768702",
     "exception": false,
     "start_time": "2024-01-29T22:32:41.744117",
     "status": "completed"
    },
    "tags": []
   },
   "outputs": [],
   "source": [
    "data.dropna(inplace=True)"
   ]
  },
  {
   "cell_type": "markdown",
   "id": "856b64fc",
   "metadata": {
    "papermill": {
     "duration": 0.007859,
     "end_time": "2024-01-29T22:32:41.784863",
     "exception": false,
     "start_time": "2024-01-29T22:32:41.777004",
     "status": "completed"
    },
    "tags": []
   },
   "source": [
    "# Data Preprocessing:"
   ]
  },
  {
   "cell_type": "markdown",
   "id": "171aa111",
   "metadata": {
    "papermill": {
     "duration": 0.008363,
     "end_time": "2024-01-29T22:32:41.802019",
     "exception": false,
     "start_time": "2024-01-29T22:32:41.793656",
     "status": "completed"
    },
    "tags": []
   },
   "source": [
    "Label Encoding: Transform categorical variables into numerical representations for machine learning models."
   ]
  },
  {
   "cell_type": "code",
   "execution_count": 8,
   "id": "5d0cd016",
   "metadata": {
    "execution": {
     "iopub.execute_input": "2024-01-29T22:32:41.820564Z",
     "iopub.status.busy": "2024-01-29T22:32:41.820111Z",
     "iopub.status.idle": "2024-01-29T22:32:41.825767Z",
     "shell.execute_reply": "2024-01-29T22:32:41.824482Z"
    },
    "papermill": {
     "duration": 0.017593,
     "end_time": "2024-01-29T22:32:41.828019",
     "exception": false,
     "start_time": "2024-01-29T22:32:41.810426",
     "status": "completed"
    },
    "tags": []
   },
   "outputs": [],
   "source": [
    "label_encoder=LabelEncoder()"
   ]
  },
  {
   "cell_type": "code",
   "execution_count": 9,
   "id": "e8726e7c",
   "metadata": {
    "execution": {
     "iopub.execute_input": "2024-01-29T22:32:41.847266Z",
     "iopub.status.busy": "2024-01-29T22:32:41.846100Z",
     "iopub.status.idle": "2024-01-29T22:32:41.856277Z",
     "shell.execute_reply": "2024-01-29T22:32:41.855049Z"
    },
    "papermill": {
     "duration": 0.022328,
     "end_time": "2024-01-29T22:32:41.858684",
     "exception": false,
     "start_time": "2024-01-29T22:32:41.836356",
     "status": "completed"
    },
    "tags": []
   },
   "outputs": [],
   "source": [
    "cat_cols=['Gender','Occupation','BMI Category','Sleep Disorder']\n",
    "for col in cat_cols:\n",
    "    data[col] = label_encoder.fit_transform(data[col])"
   ]
  },
  {
   "cell_type": "code",
   "execution_count": 10,
   "id": "bbf9ad98",
   "metadata": {
    "execution": {
     "iopub.execute_input": "2024-01-29T22:32:41.877057Z",
     "iopub.status.busy": "2024-01-29T22:32:41.876620Z",
     "iopub.status.idle": "2024-01-29T22:32:41.897860Z",
     "shell.execute_reply": "2024-01-29T22:32:41.896447Z"
    },
    "papermill": {
     "duration": 0.033351,
     "end_time": "2024-01-29T22:32:41.900286",
     "exception": false,
     "start_time": "2024-01-29T22:32:41.866935",
     "status": "completed"
    },
    "tags": []
   },
   "outputs": [
    {
     "data": {
      "text/html": [
       "<div>\n",
       "<style scoped>\n",
       "    .dataframe tbody tr th:only-of-type {\n",
       "        vertical-align: middle;\n",
       "    }\n",
       "\n",
       "    .dataframe tbody tr th {\n",
       "        vertical-align: top;\n",
       "    }\n",
       "\n",
       "    .dataframe thead th {\n",
       "        text-align: right;\n",
       "    }\n",
       "</style>\n",
       "<table border=\"1\" class=\"dataframe\">\n",
       "  <thead>\n",
       "    <tr style=\"text-align: right;\">\n",
       "      <th></th>\n",
       "      <th>Person ID</th>\n",
       "      <th>Gender</th>\n",
       "      <th>Age</th>\n",
       "      <th>Occupation</th>\n",
       "      <th>Sleep Duration</th>\n",
       "      <th>Quality of Sleep</th>\n",
       "      <th>Physical Activity Level</th>\n",
       "      <th>Stress Level</th>\n",
       "      <th>BMI Category</th>\n",
       "      <th>Blood Pressure</th>\n",
       "      <th>Heart Rate</th>\n",
       "      <th>Daily Steps</th>\n",
       "      <th>Sleep Disorder</th>\n",
       "    </tr>\n",
       "  </thead>\n",
       "  <tbody>\n",
       "    <tr>\n",
       "      <th>3</th>\n",
       "      <td>4</td>\n",
       "      <td>1</td>\n",
       "      <td>28</td>\n",
       "      <td>5</td>\n",
       "      <td>5.9</td>\n",
       "      <td>4</td>\n",
       "      <td>30</td>\n",
       "      <td>8</td>\n",
       "      <td>2</td>\n",
       "      <td>140/90</td>\n",
       "      <td>85</td>\n",
       "      <td>3000</td>\n",
       "      <td>1</td>\n",
       "    </tr>\n",
       "    <tr>\n",
       "      <th>4</th>\n",
       "      <td>5</td>\n",
       "      <td>1</td>\n",
       "      <td>28</td>\n",
       "      <td>5</td>\n",
       "      <td>5.9</td>\n",
       "      <td>4</td>\n",
       "      <td>30</td>\n",
       "      <td>8</td>\n",
       "      <td>2</td>\n",
       "      <td>140/90</td>\n",
       "      <td>85</td>\n",
       "      <td>3000</td>\n",
       "      <td>1</td>\n",
       "    </tr>\n",
       "    <tr>\n",
       "      <th>5</th>\n",
       "      <td>6</td>\n",
       "      <td>1</td>\n",
       "      <td>28</td>\n",
       "      <td>8</td>\n",
       "      <td>5.9</td>\n",
       "      <td>4</td>\n",
       "      <td>30</td>\n",
       "      <td>8</td>\n",
       "      <td>2</td>\n",
       "      <td>140/90</td>\n",
       "      <td>85</td>\n",
       "      <td>3000</td>\n",
       "      <td>0</td>\n",
       "    </tr>\n",
       "    <tr>\n",
       "      <th>6</th>\n",
       "      <td>7</td>\n",
       "      <td>1</td>\n",
       "      <td>29</td>\n",
       "      <td>9</td>\n",
       "      <td>6.3</td>\n",
       "      <td>6</td>\n",
       "      <td>40</td>\n",
       "      <td>7</td>\n",
       "      <td>2</td>\n",
       "      <td>140/90</td>\n",
       "      <td>82</td>\n",
       "      <td>3500</td>\n",
       "      <td>0</td>\n",
       "    </tr>\n",
       "    <tr>\n",
       "      <th>16</th>\n",
       "      <td>17</td>\n",
       "      <td>0</td>\n",
       "      <td>29</td>\n",
       "      <td>4</td>\n",
       "      <td>6.5</td>\n",
       "      <td>5</td>\n",
       "      <td>40</td>\n",
       "      <td>7</td>\n",
       "      <td>1</td>\n",
       "      <td>132/87</td>\n",
       "      <td>80</td>\n",
       "      <td>4000</td>\n",
       "      <td>1</td>\n",
       "    </tr>\n",
       "    <tr>\n",
       "      <th>...</th>\n",
       "      <td>...</td>\n",
       "      <td>...</td>\n",
       "      <td>...</td>\n",
       "      <td>...</td>\n",
       "      <td>...</td>\n",
       "      <td>...</td>\n",
       "      <td>...</td>\n",
       "      <td>...</td>\n",
       "      <td>...</td>\n",
       "      <td>...</td>\n",
       "      <td>...</td>\n",
       "      <td>...</td>\n",
       "      <td>...</td>\n",
       "    </tr>\n",
       "    <tr>\n",
       "      <th>369</th>\n",
       "      <td>370</td>\n",
       "      <td>0</td>\n",
       "      <td>59</td>\n",
       "      <td>4</td>\n",
       "      <td>8.1</td>\n",
       "      <td>9</td>\n",
       "      <td>75</td>\n",
       "      <td>3</td>\n",
       "      <td>3</td>\n",
       "      <td>140/95</td>\n",
       "      <td>68</td>\n",
       "      <td>7000</td>\n",
       "      <td>1</td>\n",
       "    </tr>\n",
       "    <tr>\n",
       "      <th>370</th>\n",
       "      <td>371</td>\n",
       "      <td>0</td>\n",
       "      <td>59</td>\n",
       "      <td>4</td>\n",
       "      <td>8.0</td>\n",
       "      <td>9</td>\n",
       "      <td>75</td>\n",
       "      <td>3</td>\n",
       "      <td>3</td>\n",
       "      <td>140/95</td>\n",
       "      <td>68</td>\n",
       "      <td>7000</td>\n",
       "      <td>1</td>\n",
       "    </tr>\n",
       "    <tr>\n",
       "      <th>371</th>\n",
       "      <td>372</td>\n",
       "      <td>0</td>\n",
       "      <td>59</td>\n",
       "      <td>4</td>\n",
       "      <td>8.1</td>\n",
       "      <td>9</td>\n",
       "      <td>75</td>\n",
       "      <td>3</td>\n",
       "      <td>3</td>\n",
       "      <td>140/95</td>\n",
       "      <td>68</td>\n",
       "      <td>7000</td>\n",
       "      <td>1</td>\n",
       "    </tr>\n",
       "    <tr>\n",
       "      <th>372</th>\n",
       "      <td>373</td>\n",
       "      <td>0</td>\n",
       "      <td>59</td>\n",
       "      <td>4</td>\n",
       "      <td>8.1</td>\n",
       "      <td>9</td>\n",
       "      <td>75</td>\n",
       "      <td>3</td>\n",
       "      <td>3</td>\n",
       "      <td>140/95</td>\n",
       "      <td>68</td>\n",
       "      <td>7000</td>\n",
       "      <td>1</td>\n",
       "    </tr>\n",
       "    <tr>\n",
       "      <th>373</th>\n",
       "      <td>374</td>\n",
       "      <td>0</td>\n",
       "      <td>59</td>\n",
       "      <td>4</td>\n",
       "      <td>8.1</td>\n",
       "      <td>9</td>\n",
       "      <td>75</td>\n",
       "      <td>3</td>\n",
       "      <td>3</td>\n",
       "      <td>140/95</td>\n",
       "      <td>68</td>\n",
       "      <td>7000</td>\n",
       "      <td>1</td>\n",
       "    </tr>\n",
       "  </tbody>\n",
       "</table>\n",
       "<p>155 rows × 13 columns</p>\n",
       "</div>"
      ],
      "text/plain": [
       "     Person ID  Gender  Age  Occupation  Sleep Duration  Quality of Sleep  \\\n",
       "3            4       1   28           5             5.9                 4   \n",
       "4            5       1   28           5             5.9                 4   \n",
       "5            6       1   28           8             5.9                 4   \n",
       "6            7       1   29           9             6.3                 6   \n",
       "16          17       0   29           4             6.5                 5   \n",
       "..         ...     ...  ...         ...             ...               ...   \n",
       "369        370       0   59           4             8.1                 9   \n",
       "370        371       0   59           4             8.0                 9   \n",
       "371        372       0   59           4             8.1                 9   \n",
       "372        373       0   59           4             8.1                 9   \n",
       "373        374       0   59           4             8.1                 9   \n",
       "\n",
       "     Physical Activity Level  Stress Level  BMI Category Blood Pressure  \\\n",
       "3                         30             8             2         140/90   \n",
       "4                         30             8             2         140/90   \n",
       "5                         30             8             2         140/90   \n",
       "6                         40             7             2         140/90   \n",
       "16                        40             7             1         132/87   \n",
       "..                       ...           ...           ...            ...   \n",
       "369                       75             3             3         140/95   \n",
       "370                       75             3             3         140/95   \n",
       "371                       75             3             3         140/95   \n",
       "372                       75             3             3         140/95   \n",
       "373                       75             3             3         140/95   \n",
       "\n",
       "     Heart Rate  Daily Steps  Sleep Disorder  \n",
       "3            85         3000               1  \n",
       "4            85         3000               1  \n",
       "5            85         3000               0  \n",
       "6            82         3500               0  \n",
       "16           80         4000               1  \n",
       "..          ...          ...             ...  \n",
       "369          68         7000               1  \n",
       "370          68         7000               1  \n",
       "371          68         7000               1  \n",
       "372          68         7000               1  \n",
       "373          68         7000               1  \n",
       "\n",
       "[155 rows x 13 columns]"
      ]
     },
     "execution_count": 10,
     "metadata": {},
     "output_type": "execute_result"
    }
   ],
   "source": [
    "data"
   ]
  },
  {
   "cell_type": "code",
   "execution_count": 11,
   "id": "c12a5235",
   "metadata": {
    "execution": {
     "iopub.execute_input": "2024-01-29T22:32:41.919335Z",
     "iopub.status.busy": "2024-01-29T22:32:41.918825Z",
     "iopub.status.idle": "2024-01-29T22:32:41.931889Z",
     "shell.execute_reply": "2024-01-29T22:32:41.930363Z"
    },
    "papermill": {
     "duration": 0.025658,
     "end_time": "2024-01-29T22:32:41.934341",
     "exception": false,
     "start_time": "2024-01-29T22:32:41.908683",
     "status": "completed"
    },
    "tags": []
   },
   "outputs": [],
   "source": [
    "\n",
    " # Split the 'Blood Pressure' column into two columns\n",
    "data[['Systolic BP', 'Diastolic BP']] = data['Blood Pressure'].str.split('/', expand=True)\n",
    "    \n",
    "# Convert the new columns to numeric type\n",
    "data[['Systolic BP', 'Diastolic BP']] = data[['Systolic BP', 'Diastolic BP']].apply(pd.to_numeric)\n",
    "    \n",
    "# Drop the original 'Blood Pressure' column\n",
    "data = data.drop('Blood Pressure', axis=1)\n"
   ]
  },
  {
   "cell_type": "code",
   "execution_count": 12,
   "id": "6233dd3e",
   "metadata": {
    "execution": {
     "iopub.execute_input": "2024-01-29T22:32:41.954074Z",
     "iopub.status.busy": "2024-01-29T22:32:41.953647Z",
     "iopub.status.idle": "2024-01-29T22:32:41.973060Z",
     "shell.execute_reply": "2024-01-29T22:32:41.971621Z"
    },
    "papermill": {
     "duration": 0.03212,
     "end_time": "2024-01-29T22:32:41.975571",
     "exception": false,
     "start_time": "2024-01-29T22:32:41.943451",
     "status": "completed"
    },
    "tags": []
   },
   "outputs": [
    {
     "data": {
      "text/html": [
       "<div>\n",
       "<style scoped>\n",
       "    .dataframe tbody tr th:only-of-type {\n",
       "        vertical-align: middle;\n",
       "    }\n",
       "\n",
       "    .dataframe tbody tr th {\n",
       "        vertical-align: top;\n",
       "    }\n",
       "\n",
       "    .dataframe thead th {\n",
       "        text-align: right;\n",
       "    }\n",
       "</style>\n",
       "<table border=\"1\" class=\"dataframe\">\n",
       "  <thead>\n",
       "    <tr style=\"text-align: right;\">\n",
       "      <th></th>\n",
       "      <th>Person ID</th>\n",
       "      <th>Gender</th>\n",
       "      <th>Age</th>\n",
       "      <th>Occupation</th>\n",
       "      <th>Sleep Duration</th>\n",
       "      <th>Quality of Sleep</th>\n",
       "      <th>Physical Activity Level</th>\n",
       "      <th>Stress Level</th>\n",
       "      <th>BMI Category</th>\n",
       "      <th>Heart Rate</th>\n",
       "      <th>Daily Steps</th>\n",
       "      <th>Sleep Disorder</th>\n",
       "      <th>Systolic BP</th>\n",
       "      <th>Diastolic BP</th>\n",
       "    </tr>\n",
       "  </thead>\n",
       "  <tbody>\n",
       "    <tr>\n",
       "      <th>3</th>\n",
       "      <td>4</td>\n",
       "      <td>1</td>\n",
       "      <td>28</td>\n",
       "      <td>5</td>\n",
       "      <td>5.9</td>\n",
       "      <td>4</td>\n",
       "      <td>30</td>\n",
       "      <td>8</td>\n",
       "      <td>2</td>\n",
       "      <td>85</td>\n",
       "      <td>3000</td>\n",
       "      <td>1</td>\n",
       "      <td>140</td>\n",
       "      <td>90</td>\n",
       "    </tr>\n",
       "    <tr>\n",
       "      <th>4</th>\n",
       "      <td>5</td>\n",
       "      <td>1</td>\n",
       "      <td>28</td>\n",
       "      <td>5</td>\n",
       "      <td>5.9</td>\n",
       "      <td>4</td>\n",
       "      <td>30</td>\n",
       "      <td>8</td>\n",
       "      <td>2</td>\n",
       "      <td>85</td>\n",
       "      <td>3000</td>\n",
       "      <td>1</td>\n",
       "      <td>140</td>\n",
       "      <td>90</td>\n",
       "    </tr>\n",
       "    <tr>\n",
       "      <th>5</th>\n",
       "      <td>6</td>\n",
       "      <td>1</td>\n",
       "      <td>28</td>\n",
       "      <td>8</td>\n",
       "      <td>5.9</td>\n",
       "      <td>4</td>\n",
       "      <td>30</td>\n",
       "      <td>8</td>\n",
       "      <td>2</td>\n",
       "      <td>85</td>\n",
       "      <td>3000</td>\n",
       "      <td>0</td>\n",
       "      <td>140</td>\n",
       "      <td>90</td>\n",
       "    </tr>\n",
       "    <tr>\n",
       "      <th>6</th>\n",
       "      <td>7</td>\n",
       "      <td>1</td>\n",
       "      <td>29</td>\n",
       "      <td>9</td>\n",
       "      <td>6.3</td>\n",
       "      <td>6</td>\n",
       "      <td>40</td>\n",
       "      <td>7</td>\n",
       "      <td>2</td>\n",
       "      <td>82</td>\n",
       "      <td>3500</td>\n",
       "      <td>0</td>\n",
       "      <td>140</td>\n",
       "      <td>90</td>\n",
       "    </tr>\n",
       "    <tr>\n",
       "      <th>16</th>\n",
       "      <td>17</td>\n",
       "      <td>0</td>\n",
       "      <td>29</td>\n",
       "      <td>4</td>\n",
       "      <td>6.5</td>\n",
       "      <td>5</td>\n",
       "      <td>40</td>\n",
       "      <td>7</td>\n",
       "      <td>1</td>\n",
       "      <td>80</td>\n",
       "      <td>4000</td>\n",
       "      <td>1</td>\n",
       "      <td>132</td>\n",
       "      <td>87</td>\n",
       "    </tr>\n",
       "    <tr>\n",
       "      <th>...</th>\n",
       "      <td>...</td>\n",
       "      <td>...</td>\n",
       "      <td>...</td>\n",
       "      <td>...</td>\n",
       "      <td>...</td>\n",
       "      <td>...</td>\n",
       "      <td>...</td>\n",
       "      <td>...</td>\n",
       "      <td>...</td>\n",
       "      <td>...</td>\n",
       "      <td>...</td>\n",
       "      <td>...</td>\n",
       "      <td>...</td>\n",
       "      <td>...</td>\n",
       "    </tr>\n",
       "    <tr>\n",
       "      <th>369</th>\n",
       "      <td>370</td>\n",
       "      <td>0</td>\n",
       "      <td>59</td>\n",
       "      <td>4</td>\n",
       "      <td>8.1</td>\n",
       "      <td>9</td>\n",
       "      <td>75</td>\n",
       "      <td>3</td>\n",
       "      <td>3</td>\n",
       "      <td>68</td>\n",
       "      <td>7000</td>\n",
       "      <td>1</td>\n",
       "      <td>140</td>\n",
       "      <td>95</td>\n",
       "    </tr>\n",
       "    <tr>\n",
       "      <th>370</th>\n",
       "      <td>371</td>\n",
       "      <td>0</td>\n",
       "      <td>59</td>\n",
       "      <td>4</td>\n",
       "      <td>8.0</td>\n",
       "      <td>9</td>\n",
       "      <td>75</td>\n",
       "      <td>3</td>\n",
       "      <td>3</td>\n",
       "      <td>68</td>\n",
       "      <td>7000</td>\n",
       "      <td>1</td>\n",
       "      <td>140</td>\n",
       "      <td>95</td>\n",
       "    </tr>\n",
       "    <tr>\n",
       "      <th>371</th>\n",
       "      <td>372</td>\n",
       "      <td>0</td>\n",
       "      <td>59</td>\n",
       "      <td>4</td>\n",
       "      <td>8.1</td>\n",
       "      <td>9</td>\n",
       "      <td>75</td>\n",
       "      <td>3</td>\n",
       "      <td>3</td>\n",
       "      <td>68</td>\n",
       "      <td>7000</td>\n",
       "      <td>1</td>\n",
       "      <td>140</td>\n",
       "      <td>95</td>\n",
       "    </tr>\n",
       "    <tr>\n",
       "      <th>372</th>\n",
       "      <td>373</td>\n",
       "      <td>0</td>\n",
       "      <td>59</td>\n",
       "      <td>4</td>\n",
       "      <td>8.1</td>\n",
       "      <td>9</td>\n",
       "      <td>75</td>\n",
       "      <td>3</td>\n",
       "      <td>3</td>\n",
       "      <td>68</td>\n",
       "      <td>7000</td>\n",
       "      <td>1</td>\n",
       "      <td>140</td>\n",
       "      <td>95</td>\n",
       "    </tr>\n",
       "    <tr>\n",
       "      <th>373</th>\n",
       "      <td>374</td>\n",
       "      <td>0</td>\n",
       "      <td>59</td>\n",
       "      <td>4</td>\n",
       "      <td>8.1</td>\n",
       "      <td>9</td>\n",
       "      <td>75</td>\n",
       "      <td>3</td>\n",
       "      <td>3</td>\n",
       "      <td>68</td>\n",
       "      <td>7000</td>\n",
       "      <td>1</td>\n",
       "      <td>140</td>\n",
       "      <td>95</td>\n",
       "    </tr>\n",
       "  </tbody>\n",
       "</table>\n",
       "<p>155 rows × 14 columns</p>\n",
       "</div>"
      ],
      "text/plain": [
       "     Person ID  Gender  Age  Occupation  Sleep Duration  Quality of Sleep  \\\n",
       "3            4       1   28           5             5.9                 4   \n",
       "4            5       1   28           5             5.9                 4   \n",
       "5            6       1   28           8             5.9                 4   \n",
       "6            7       1   29           9             6.3                 6   \n",
       "16          17       0   29           4             6.5                 5   \n",
       "..         ...     ...  ...         ...             ...               ...   \n",
       "369        370       0   59           4             8.1                 9   \n",
       "370        371       0   59           4             8.0                 9   \n",
       "371        372       0   59           4             8.1                 9   \n",
       "372        373       0   59           4             8.1                 9   \n",
       "373        374       0   59           4             8.1                 9   \n",
       "\n",
       "     Physical Activity Level  Stress Level  BMI Category  Heart Rate  \\\n",
       "3                         30             8             2          85   \n",
       "4                         30             8             2          85   \n",
       "5                         30             8             2          85   \n",
       "6                         40             7             2          82   \n",
       "16                        40             7             1          80   \n",
       "..                       ...           ...           ...         ...   \n",
       "369                       75             3             3          68   \n",
       "370                       75             3             3          68   \n",
       "371                       75             3             3          68   \n",
       "372                       75             3             3          68   \n",
       "373                       75             3             3          68   \n",
       "\n",
       "     Daily Steps  Sleep Disorder  Systolic BP  Diastolic BP  \n",
       "3           3000               1          140            90  \n",
       "4           3000               1          140            90  \n",
       "5           3000               0          140            90  \n",
       "6           3500               0          140            90  \n",
       "16          4000               1          132            87  \n",
       "..           ...             ...          ...           ...  \n",
       "369         7000               1          140            95  \n",
       "370         7000               1          140            95  \n",
       "371         7000               1          140            95  \n",
       "372         7000               1          140            95  \n",
       "373         7000               1          140            95  \n",
       "\n",
       "[155 rows x 14 columns]"
      ]
     },
     "execution_count": 12,
     "metadata": {},
     "output_type": "execute_result"
    }
   ],
   "source": [
    "data"
   ]
  },
  {
   "cell_type": "code",
   "execution_count": 13,
   "id": "81b2b705",
   "metadata": {
    "execution": {
     "iopub.execute_input": "2024-01-29T22:32:41.996399Z",
     "iopub.status.busy": "2024-01-29T22:32:41.995927Z",
     "iopub.status.idle": "2024-01-29T22:32:42.003040Z",
     "shell.execute_reply": "2024-01-29T22:32:42.001632Z"
    },
    "papermill": {
     "duration": 0.020216,
     "end_time": "2024-01-29T22:32:42.005363",
     "exception": false,
     "start_time": "2024-01-29T22:32:41.985147",
     "status": "completed"
    },
    "tags": []
   },
   "outputs": [],
   "source": [
    "data.drop('Person ID', axis=1, inplace=True)"
   ]
  },
  {
   "cell_type": "markdown",
   "id": "6f91590b",
   "metadata": {
    "papermill": {
     "duration": 0.008449,
     "end_time": "2024-01-29T22:32:42.022786",
     "exception": false,
     "start_time": "2024-01-29T22:32:42.014337",
     "status": "completed"
    },
    "tags": []
   },
   "source": [
    "# Splitting the Data:"
   ]
  },
  {
   "cell_type": "code",
   "execution_count": 14,
   "id": "573a5494",
   "metadata": {
    "execution": {
     "iopub.execute_input": "2024-01-29T22:32:42.042673Z",
     "iopub.status.busy": "2024-01-29T22:32:42.042171Z",
     "iopub.status.idle": "2024-01-29T22:32:42.052803Z",
     "shell.execute_reply": "2024-01-29T22:32:42.051765Z"
    },
    "papermill": {
     "duration": 0.023066,
     "end_time": "2024-01-29T22:32:42.054882",
     "exception": false,
     "start_time": "2024-01-29T22:32:42.031816",
     "status": "completed"
    },
    "tags": []
   },
   "outputs": [],
   "source": [
    "# Splitting the data into features (X) and the target variable (y)\n",
    "X = data.drop('Sleep Disorder', axis=1)  # Features\n",
    "y = data['Sleep Disorder']  # Target variable\n",
    "\n",
    "# Splitting the data into training and testing sets (e.g., 80% training, 20% testing)\n",
    "X_train, X_test, y_train, y_test = train_test_split(X, y, test_size=0.2, random_state=42)\n"
   ]
  },
  {
   "cell_type": "markdown",
   "id": "28bdea6d",
   "metadata": {
    "papermill": {
     "duration": 0.008914,
     "end_time": "2024-01-29T22:32:42.072796",
     "exception": false,
     "start_time": "2024-01-29T22:32:42.063882",
     "status": "completed"
    },
    "tags": []
   },
   "source": [
    "Scaling Data: Standardizing numerical features like 'Age', 'Sleep Duration', and 'Daily Steps' through scaling is essential.\n",
    "This process ensures that variables with different units and scales contribute equally to the model, preventing biases and allowing machine learning algorithms to effectively learn patterns, leading to improved model performance.\n"
   ]
  },
  {
   "cell_type": "code",
   "execution_count": 15,
   "id": "566c93b8",
   "metadata": {
    "execution": {
     "iopub.execute_input": "2024-01-29T22:32:42.092097Z",
     "iopub.status.busy": "2024-01-29T22:32:42.091688Z",
     "iopub.status.idle": "2024-01-29T22:32:42.104433Z",
     "shell.execute_reply": "2024-01-29T22:32:42.103288Z"
    },
    "papermill": {
     "duration": 0.025294,
     "end_time": "2024-01-29T22:32:42.106959",
     "exception": false,
     "start_time": "2024-01-29T22:32:42.081665",
     "status": "completed"
    },
    "tags": []
   },
   "outputs": [],
   "source": [
    "# Initialize the StandardScaler\n",
    "scaler = StandardScaler()\n",
    "\n",
    "# Fit and transform the scaler on the training data\n",
    "X_train_scaled = scaler.fit_transform(X_train)\n",
    "\n",
    "# Transform the testing data using the same scaler\n",
    "X_test_scaled = scaler.transform(X_test)"
   ]
  },
  {
   "cell_type": "markdown",
   "id": "4941ffac",
   "metadata": {
    "papermill": {
     "duration": 0.00872,
     "end_time": "2024-01-29T22:32:42.124889",
     "exception": false,
     "start_time": "2024-01-29T22:32:42.116169",
     "status": "completed"
    },
    "tags": []
   },
   "source": [
    "# Modeling with Lazy Predict:"
   ]
  },
  {
   "cell_type": "markdown",
   "id": "e841625e",
   "metadata": {
    "papermill": {
     "duration": 0.008695,
     "end_time": "2024-01-29T22:32:42.142434",
     "exception": false,
     "start_time": "2024-01-29T22:32:42.133739",
     "status": "completed"
    },
    "tags": []
   },
   "source": [
    "Lazy Predict: Employing Lazy Predict allows for a quick and comprehensive comparison of multiple machine learning models without the need for extensive manual tuning. This streamlined approach aids in the efficient identification of promising models, saving time during the initial stages of analysis and providing valuable insights into the dataset's predictability.\n"
   ]
  },
  {
   "cell_type": "code",
   "execution_count": 16,
   "id": "6b43ee8b",
   "metadata": {
    "execution": {
     "iopub.execute_input": "2024-01-29T22:32:42.162576Z",
     "iopub.status.busy": "2024-01-29T22:32:42.162144Z",
     "iopub.status.idle": "2024-01-29T22:32:56.703186Z",
     "shell.execute_reply": "2024-01-29T22:32:56.701050Z"
    },
    "papermill": {
     "duration": 14.554833,
     "end_time": "2024-01-29T22:32:56.706029",
     "exception": false,
     "start_time": "2024-01-29T22:32:42.151196",
     "status": "completed"
    },
    "tags": []
   },
   "outputs": [
    {
     "name": "stdout",
     "output_type": "stream",
     "text": [
      "Collecting lazypredict\r\n",
      "  Downloading lazypredict-0.2.12-py2.py3-none-any.whl (12 kB)\r\n",
      "Requirement already satisfied: click in /opt/conda/lib/python3.10/site-packages (from lazypredict) (8.1.7)\r\n",
      "Requirement already satisfied: scikit-learn in /opt/conda/lib/python3.10/site-packages (from lazypredict) (1.2.2)\r\n",
      "Requirement already satisfied: pandas in /opt/conda/lib/python3.10/site-packages (from lazypredict) (2.2.0)\r\n",
      "Requirement already satisfied: tqdm in /opt/conda/lib/python3.10/site-packages (from lazypredict) (4.66.1)\r\n",
      "Requirement already satisfied: joblib in /opt/conda/lib/python3.10/site-packages (from lazypredict) (1.3.2)\r\n",
      "Requirement already satisfied: lightgbm in /opt/conda/lib/python3.10/site-packages (from lazypredict) (4.2.0)\r\n",
      "Requirement already satisfied: xgboost in /opt/conda/lib/python3.10/site-packages (from lazypredict) (2.0.3)\r\n",
      "Requirement already satisfied: numpy in /opt/conda/lib/python3.10/site-packages (from lightgbm->lazypredict) (1.24.4)\r\n",
      "Requirement already satisfied: scipy in /opt/conda/lib/python3.10/site-packages (from lightgbm->lazypredict) (1.11.4)\r\n",
      "Requirement already satisfied: python-dateutil>=2.8.2 in /opt/conda/lib/python3.10/site-packages (from pandas->lazypredict) (2.8.2)\r\n",
      "Requirement already satisfied: pytz>=2020.1 in /opt/conda/lib/python3.10/site-packages (from pandas->lazypredict) (2023.3.post1)\r\n",
      "Requirement already satisfied: tzdata>=2022.7 in /opt/conda/lib/python3.10/site-packages (from pandas->lazypredict) (2023.4)\r\n",
      "Requirement already satisfied: threadpoolctl>=2.0.0 in /opt/conda/lib/python3.10/site-packages (from scikit-learn->lazypredict) (3.2.0)\r\n",
      "Requirement already satisfied: six>=1.5 in /opt/conda/lib/python3.10/site-packages (from python-dateutil>=2.8.2->pandas->lazypredict) (1.16.0)\r\n",
      "Installing collected packages: lazypredict\r\n",
      "Successfully installed lazypredict-0.2.12\r\n",
      "Note: you may need to restart the kernel to use updated packages.\n"
     ]
    }
   ],
   "source": [
    "pip install lazypredict"
   ]
  },
  {
   "cell_type": "code",
   "execution_count": 17,
   "id": "4cd75abc",
   "metadata": {
    "execution": {
     "iopub.execute_input": "2024-01-29T22:32:56.731169Z",
     "iopub.status.busy": "2024-01-29T22:32:56.730052Z",
     "iopub.status.idle": "2024-01-29T22:33:00.765976Z",
     "shell.execute_reply": "2024-01-29T22:33:00.764890Z"
    },
    "papermill": {
     "duration": 4.055792,
     "end_time": "2024-01-29T22:33:00.771622",
     "exception": false,
     "start_time": "2024-01-29T22:32:56.715830",
     "status": "completed"
    },
    "tags": []
   },
   "outputs": [
    {
     "name": "stderr",
     "output_type": "stream",
     "text": [
      "100%|██████████| 29/29 [00:01<00:00, 26.87it/s]"
     ]
    },
    {
     "name": "stdout",
     "output_type": "stream",
     "text": [
      "[LightGBM] [Info] Number of positive: 61, number of negative: 63\n",
      "[LightGBM] [Info] Auto-choosing col-wise multi-threading, the overhead of testing was 0.002180 seconds.\n",
      "You can set `force_col_wise=true` to remove the overhead.\n",
      "[LightGBM] [Info] Total Bins 100\n",
      "[LightGBM] [Info] Number of data points in the train set: 124, number of used features: 11\n",
      "[LightGBM] [Info] [binary:BoostFromScore]: pavg=0.491935 -> initscore=-0.032261\n",
      "[LightGBM] [Info] Start training from score -0.032261\n",
      "[LightGBM] [Warning] No further splits with positive gain, best gain: -inf\n",
      "[LightGBM] [Warning] No further splits with positive gain, best gain: -inf\n",
      "[LightGBM] [Warning] No further splits with positive gain, best gain: -inf\n",
      "[LightGBM] [Warning] No further splits with positive gain, best gain: -inf\n",
      "[LightGBM] [Warning] No further splits with positive gain, best gain: -inf\n",
      "[LightGBM] [Warning] No further splits with positive gain, best gain: -inf\n",
      "[LightGBM] [Warning] No further splits with positive gain, best gain: -inf\n",
      "[LightGBM] [Warning] No further splits with positive gain, best gain: -inf\n",
      "[LightGBM] [Warning] No further splits with positive gain, best gain: -inf\n",
      "[LightGBM] [Warning] No further splits with positive gain, best gain: -inf\n",
      "[LightGBM] [Warning] No further splits with positive gain, best gain: -inf\n",
      "[LightGBM] [Warning] No further splits with positive gain, best gain: -inf\n",
      "[LightGBM] [Warning] No further splits with positive gain, best gain: -inf\n",
      "[LightGBM] [Warning] No further splits with positive gain, best gain: -inf\n",
      "[LightGBM] [Warning] No further splits with positive gain, best gain: -inf\n",
      "[LightGBM] [Warning] No further splits with positive gain, best gain: -inf\n",
      "[LightGBM] [Warning] No further splits with positive gain, best gain: -inf\n",
      "[LightGBM] [Warning] No further splits with positive gain, best gain: -inf\n",
      "[LightGBM] [Warning] No further splits with positive gain, best gain: -inf\n",
      "[LightGBM] [Warning] No further splits with positive gain, best gain: -inf\n",
      "[LightGBM] [Warning] No further splits with positive gain, best gain: -inf\n",
      "[LightGBM] [Warning] No further splits with positive gain, best gain: -inf\n",
      "[LightGBM] [Warning] No further splits with positive gain, best gain: -inf\n",
      "[LightGBM] [Warning] No further splits with positive gain, best gain: -inf\n",
      "[LightGBM] [Warning] No further splits with positive gain, best gain: -inf\n",
      "[LightGBM] [Warning] No further splits with positive gain, best gain: -inf\n",
      "[LightGBM] [Warning] No further splits with positive gain, best gain: -inf\n",
      "[LightGBM] [Warning] No further splits with positive gain, best gain: -inf\n",
      "[LightGBM] [Warning] No further splits with positive gain, best gain: -inf\n",
      "[LightGBM] [Warning] No further splits with positive gain, best gain: -inf\n",
      "[LightGBM] [Warning] No further splits with positive gain, best gain: -inf\n",
      "[LightGBM] [Warning] No further splits with positive gain, best gain: -inf\n",
      "[LightGBM] [Warning] No further splits with positive gain, best gain: -inf\n",
      "[LightGBM] [Warning] No further splits with positive gain, best gain: -inf\n",
      "[LightGBM] [Warning] No further splits with positive gain, best gain: -inf\n",
      "[LightGBM] [Warning] No further splits with positive gain, best gain: -inf\n",
      "[LightGBM] [Warning] No further splits with positive gain, best gain: -inf\n",
      "[LightGBM] [Warning] No further splits with positive gain, best gain: -inf\n",
      "[LightGBM] [Warning] No further splits with positive gain, best gain: -inf\n",
      "[LightGBM] [Warning] No further splits with positive gain, best gain: -inf\n",
      "[LightGBM] [Warning] No further splits with positive gain, best gain: -inf\n",
      "[LightGBM] [Warning] No further splits with positive gain, best gain: -inf\n",
      "[LightGBM] [Warning] No further splits with positive gain, best gain: -inf\n",
      "[LightGBM] [Warning] No further splits with positive gain, best gain: -inf\n",
      "[LightGBM] [Warning] No further splits with positive gain, best gain: -inf\n",
      "[LightGBM] [Warning] No further splits with positive gain, best gain: -inf\n",
      "[LightGBM] [Warning] No further splits with positive gain, best gain: -inf\n",
      "[LightGBM] [Warning] No further splits with positive gain, best gain: -inf\n",
      "[LightGBM] [Warning] No further splits with positive gain, best gain: -inf\n",
      "[LightGBM] [Warning] No further splits with positive gain, best gain: -inf\n",
      "[LightGBM] [Warning] No further splits with positive gain, best gain: -inf\n",
      "[LightGBM] [Warning] No further splits with positive gain, best gain: -inf\n",
      "[LightGBM] [Warning] No further splits with positive gain, best gain: -inf\n",
      "[LightGBM] [Warning] No further splits with positive gain, best gain: -inf\n",
      "[LightGBM] [Warning] No further splits with positive gain, best gain: -inf\n",
      "[LightGBM] [Warning] No further splits with positive gain, best gain: -inf\n",
      "[LightGBM] [Warning] No further splits with positive gain, best gain: -inf\n",
      "[LightGBM] [Warning] No further splits with positive gain, best gain: -inf\n",
      "[LightGBM] [Warning] No further splits with positive gain, best gain: -inf\n",
      "[LightGBM] [Warning] No further splits with positive gain, best gain: -inf\n",
      "[LightGBM] [Warning] No further splits with positive gain, best gain: -inf\n",
      "[LightGBM] [Warning] No further splits with positive gain, best gain: -inf\n",
      "[LightGBM] [Warning] No further splits with positive gain, best gain: -inf\n",
      "[LightGBM] [Warning] No further splits with positive gain, best gain: -inf\n",
      "[LightGBM] [Warning] No further splits with positive gain, best gain: -inf\n",
      "[LightGBM] [Warning] No further splits with positive gain, best gain: -inf\n",
      "[LightGBM] [Warning] No further splits with positive gain, best gain: -inf\n",
      "[LightGBM] [Warning] No further splits with positive gain, best gain: -inf\n",
      "[LightGBM] [Warning] No further splits with positive gain, best gain: -inf\n",
      "[LightGBM] [Warning] No further splits with positive gain, best gain: -inf\n",
      "[LightGBM] [Warning] No further splits with positive gain, best gain: -inf\n",
      "[LightGBM] [Warning] No further splits with positive gain, best gain: -inf\n",
      "[LightGBM] [Warning] No further splits with positive gain, best gain: -inf\n",
      "[LightGBM] [Warning] No further splits with positive gain, best gain: -inf\n",
      "[LightGBM] [Warning] No further splits with positive gain, best gain: -inf\n",
      "[LightGBM] [Warning] No further splits with positive gain, best gain: -inf\n",
      "[LightGBM] [Warning] No further splits with positive gain, best gain: -inf\n",
      "[LightGBM] [Warning] No further splits with positive gain, best gain: -inf\n",
      "[LightGBM] [Warning] No further splits with positive gain, best gain: -inf\n",
      "[LightGBM] [Warning] No further splits with positive gain, best gain: -inf\n",
      "[LightGBM] [Warning] No further splits with positive gain, best gain: -inf\n",
      "[LightGBM] [Warning] No further splits with positive gain, best gain: -inf\n",
      "[LightGBM] [Warning] No further splits with positive gain, best gain: -inf\n",
      "[LightGBM] [Warning] No further splits with positive gain, best gain: -inf\n",
      "[LightGBM] [Warning] No further splits with positive gain, best gain: -inf\n",
      "[LightGBM] [Warning] No further splits with positive gain, best gain: -inf\n",
      "[LightGBM] [Warning] No further splits with positive gain, best gain: -inf\n",
      "[LightGBM] [Warning] No further splits with positive gain, best gain: -inf\n",
      "[LightGBM] [Warning] No further splits with positive gain, best gain: -inf\n",
      "[LightGBM] [Warning] No further splits with positive gain, best gain: -inf\n",
      "[LightGBM] [Warning] No further splits with positive gain, best gain: -inf\n",
      "[LightGBM] [Warning] No further splits with positive gain, best gain: -inf\n",
      "[LightGBM] [Warning] No further splits with positive gain, best gain: -inf\n",
      "[LightGBM] [Warning] No further splits with positive gain, best gain: -inf\n",
      "[LightGBM] [Warning] No further splits with positive gain, best gain: -inf\n",
      "[LightGBM] [Warning] No further splits with positive gain, best gain: -inf\n",
      "[LightGBM] [Warning] No further splits with positive gain, best gain: -inf\n",
      "[LightGBM] [Warning] No further splits with positive gain, best gain: -inf\n",
      "[LightGBM] [Warning] No further splits with positive gain, best gain: -inf\n",
      "[LightGBM] [Warning] No further splits with positive gain, best gain: -inf\n",
      "                               Accuracy  Balanced Accuracy  ROC AUC  F1 Score  \\\n",
      "Model                                                                           \n",
      "SGDClassifier                      0.90               0.91     0.91      0.90   \n",
      "ExtraTreeClassifier                0.90               0.91     0.91      0.90   \n",
      "Perceptron                         0.90               0.91     0.91      0.90   \n",
      "QuadraticDiscriminantAnalysis      0.87               0.88     0.88      0.87   \n",
      "AdaBoostClassifier                 0.87               0.87     0.87      0.87   \n",
      "LinearDiscriminantAnalysis         0.87               0.87     0.87      0.87   \n",
      "RidgeClassifierCV                  0.87               0.87     0.87      0.87   \n",
      "LinearSVC                          0.87               0.87     0.87      0.87   \n",
      "LGBMClassifier                     0.87               0.87     0.87      0.87   \n",
      "CalibratedClassifierCV             0.87               0.87     0.87      0.87   \n",
      "DecisionTreeClassifier             0.84               0.84     0.84      0.84   \n",
      "XGBClassifier                      0.84               0.84     0.84      0.84   \n",
      "SVC                                0.84               0.84     0.84      0.84   \n",
      "RandomForestClassifier             0.84               0.84     0.84      0.84   \n",
      "PassiveAggressiveClassifier        0.84               0.84     0.84      0.84   \n",
      "ExtraTreesClassifier               0.84               0.84     0.84      0.84   \n",
      "LabelSpreading                     0.84               0.84     0.84      0.84   \n",
      "LabelPropagation                   0.84               0.84     0.84      0.84   \n",
      "BaggingClassifier                  0.84               0.83     0.83      0.84   \n",
      "RidgeClassifier                    0.84               0.83     0.83      0.84   \n",
      "KNeighborsClassifier               0.81               0.81     0.81      0.81   \n",
      "LogisticRegression                 0.81               0.80     0.80      0.81   \n",
      "NuSVC                              0.74               0.75     0.75      0.74   \n",
      "BernoulliNB                        0.74               0.75     0.75      0.74   \n",
      "GaussianNB                         0.74               0.75     0.75      0.74   \n",
      "NearestCentroid                    0.71               0.72     0.72      0.71   \n",
      "DummyClassifier                    0.45               0.50     0.50      0.28   \n",
      "\n",
      "                               Time Taken  \n",
      "Model                                      \n",
      "SGDClassifier                        0.02  \n",
      "ExtraTreeClassifier                  0.01  \n",
      "Perceptron                           0.01  \n",
      "QuadraticDiscriminantAnalysis        0.03  \n",
      "AdaBoostClassifier                   0.12  \n",
      "LinearDiscriminantAnalysis           0.03  \n",
      "RidgeClassifierCV                    0.02  \n",
      "LinearSVC                            0.02  \n",
      "LGBMClassifier                       0.07  \n",
      "CalibratedClassifierCV               0.06  \n",
      "DecisionTreeClassifier               0.01  \n",
      "XGBClassifier                        0.09  \n",
      "SVC                                  0.02  \n",
      "RandomForestClassifier               0.18  \n",
      "PassiveAggressiveClassifier          0.02  \n",
      "ExtraTreesClassifier                 0.15  \n",
      "LabelSpreading                       0.02  \n",
      "LabelPropagation                     0.02  \n",
      "BaggingClassifier                    0.04  \n",
      "RidgeClassifier                      0.03  \n",
      "KNeighborsClassifier                 0.02  \n",
      "LogisticRegression                   0.02  \n",
      "NuSVC                                0.02  \n",
      "BernoulliNB                          0.02  \n",
      "GaussianNB                           0.02  \n",
      "NearestCentroid                      0.01  \n",
      "DummyClassifier                      0.01  \n"
     ]
    },
    {
     "name": "stderr",
     "output_type": "stream",
     "text": [
      "\n"
     ]
    }
   ],
   "source": [
    "from lazypredict.Supervised import LazyClassifier\n",
    "# Use LazyClassifier\n",
    "clf = LazyClassifier()\n",
    "models, predictions = clf.fit(X_train_scaled, X_test_scaled, y_train, y_test)\n",
    "\n",
    "# Print the model performance\n",
    "print(models)"
   ]
  },
  {
   "cell_type": "markdown",
   "id": "fef283f3",
   "metadata": {
    "papermill": {
     "duration": 0.010202,
     "end_time": "2024-01-29T22:33:00.792528",
     "exception": false,
     "start_time": "2024-01-29T22:33:00.782326",
     "status": "completed"
    },
    "tags": []
   },
   "source": [
    "# Let's try to imporve the accuracy by handling the outliers "
   ]
  },
  {
   "cell_type": "code",
   "execution_count": 18,
   "id": "81ae1f85",
   "metadata": {
    "execution": {
     "iopub.execute_input": "2024-01-29T22:33:00.817022Z",
     "iopub.status.busy": "2024-01-29T22:33:00.816522Z",
     "iopub.status.idle": "2024-01-29T22:33:00.835490Z",
     "shell.execute_reply": "2024-01-29T22:33:00.834195Z"
    },
    "papermill": {
     "duration": 0.034104,
     "end_time": "2024-01-29T22:33:00.838249",
     "exception": false,
     "start_time": "2024-01-29T22:33:00.804145",
     "status": "completed"
    },
    "tags": []
   },
   "outputs": [],
   "source": [
    "num_col = ['Age', 'Sleep Duration', 'Quality of Sleep', 'Physical Activity Level', 'Stress Level',\n",
    "           'Heart Rate', 'Daily Steps', 'Systolic BP', 'Diastolic BP']\n",
    "\n",
    "Q1 = data[num_col].quantile(0.25)\n",
    "Q3 = data[num_col].quantile(0.75)\n",
    "IQR = Q3 - Q1\n",
    "\n",
    "data = data[~((data[num_col] < (Q1 - 1.5 * IQR)) | (data[num_col] > (Q3 + 1.5 * IQR))).any(axis=1)]"
   ]
  },
  {
   "cell_type": "code",
   "execution_count": 19,
   "id": "cd807b6e",
   "metadata": {
    "execution": {
     "iopub.execute_input": "2024-01-29T22:33:00.861875Z",
     "iopub.status.busy": "2024-01-29T22:33:00.861428Z",
     "iopub.status.idle": "2024-01-29T22:33:00.873272Z",
     "shell.execute_reply": "2024-01-29T22:33:00.872122Z"
    },
    "papermill": {
     "duration": 0.026492,
     "end_time": "2024-01-29T22:33:00.875811",
     "exception": false,
     "start_time": "2024-01-29T22:33:00.849319",
     "status": "completed"
    },
    "tags": []
   },
   "outputs": [],
   "source": [
    "# Splitting the data into features (X) and the target variable (y)\n",
    "X = data.drop('Sleep Disorder', axis=1)  # Features\n",
    "y = data['Sleep Disorder']  # Target variable\n",
    "\n",
    "# Splitting the data into training and testing sets (e.g., 80% training, 20% testing)\n",
    "X_train, X_test, y_train, y_test = train_test_split(X, y, test_size=0.2, random_state=42)\n"
   ]
  },
  {
   "cell_type": "code",
   "execution_count": 20,
   "id": "969fa616",
   "metadata": {
    "execution": {
     "iopub.execute_input": "2024-01-29T22:33:00.900300Z",
     "iopub.status.busy": "2024-01-29T22:33:00.899873Z",
     "iopub.status.idle": "2024-01-29T22:33:00.911415Z",
     "shell.execute_reply": "2024-01-29T22:33:00.910330Z"
    },
    "papermill": {
     "duration": 0.026127,
     "end_time": "2024-01-29T22:33:00.913756",
     "exception": false,
     "start_time": "2024-01-29T22:33:00.887629",
     "status": "completed"
    },
    "tags": []
   },
   "outputs": [],
   "source": [
    "\n",
    "# Fit and transform the scaler on the training data\n",
    "X_train_scaled = scaler.fit_transform(X_train)\n",
    "\n",
    "# Transform the testing data using the same scaler\n",
    "X_test_scaled = scaler.transform(X_test)"
   ]
  },
  {
   "cell_type": "code",
   "execution_count": 21,
   "id": "1fdeb980",
   "metadata": {
    "execution": {
     "iopub.execute_input": "2024-01-29T22:33:00.937266Z",
     "iopub.status.busy": "2024-01-29T22:33:00.936837Z",
     "iopub.status.idle": "2024-01-29T22:33:01.874694Z",
     "shell.execute_reply": "2024-01-29T22:33:01.873124Z"
    },
    "papermill": {
     "duration": 0.952697,
     "end_time": "2024-01-29T22:33:01.877565",
     "exception": false,
     "start_time": "2024-01-29T22:33:00.924868",
     "status": "completed"
    },
    "tags": []
   },
   "outputs": [
    {
     "name": "stdout",
     "output_type": "stream",
     "text": [
      "'tuple' object has no attribute '__name__'\n",
      "Invalid Classifier(s)\n"
     ]
    },
    {
     "name": "stderr",
     "output_type": "stream",
     "text": [
      "100%|██████████| 29/29 [00:00<00:00, 31.67it/s]"
     ]
    },
    {
     "name": "stdout",
     "output_type": "stream",
     "text": [
      "[LightGBM] [Info] Number of positive: 32, number of negative: 55\n",
      "[LightGBM] [Info] Auto-choosing col-wise multi-threading, the overhead of testing was 0.000054 seconds.\n",
      "You can set `force_col_wise=true` to remove the overhead.\n",
      "[LightGBM] [Info] Total Bins 73\n",
      "[LightGBM] [Info] Number of data points in the train set: 87, number of used features: 11\n",
      "[LightGBM] [Info] [binary:BoostFromScore]: pavg=0.367816 -> initscore=-0.541597\n",
      "[LightGBM] [Info] Start training from score -0.541597\n",
      "[LightGBM] [Warning] No further splits with positive gain, best gain: -inf\n",
      "[LightGBM] [Warning] No further splits with positive gain, best gain: -inf\n",
      "[LightGBM] [Warning] No further splits with positive gain, best gain: -inf\n",
      "[LightGBM] [Warning] No further splits with positive gain, best gain: -inf\n",
      "[LightGBM] [Warning] No further splits with positive gain, best gain: -inf\n",
      "[LightGBM] [Warning] No further splits with positive gain, best gain: -inf\n",
      "[LightGBM] [Warning] No further splits with positive gain, best gain: -inf\n",
      "[LightGBM] [Warning] No further splits with positive gain, best gain: -inf\n",
      "[LightGBM] [Warning] No further splits with positive gain, best gain: -inf\n",
      "[LightGBM] [Warning] No further splits with positive gain, best gain: -inf\n",
      "[LightGBM] [Warning] No further splits with positive gain, best gain: -inf\n",
      "[LightGBM] [Warning] No further splits with positive gain, best gain: -inf\n",
      "[LightGBM] [Warning] No further splits with positive gain, best gain: -inf\n",
      "[LightGBM] [Warning] No further splits with positive gain, best gain: -inf\n",
      "[LightGBM] [Warning] No further splits with positive gain, best gain: -inf\n",
      "[LightGBM] [Warning] No further splits with positive gain, best gain: -inf\n",
      "[LightGBM] [Warning] No further splits with positive gain, best gain: -inf\n",
      "[LightGBM] [Warning] No further splits with positive gain, best gain: -inf\n",
      "[LightGBM] [Warning] No further splits with positive gain, best gain: -inf\n",
      "[LightGBM] [Warning] No further splits with positive gain, best gain: -inf\n",
      "[LightGBM] [Warning] No further splits with positive gain, best gain: -inf\n",
      "[LightGBM] [Warning] No further splits with positive gain, best gain: -inf\n",
      "[LightGBM] [Warning] No further splits with positive gain, best gain: -inf\n",
      "[LightGBM] [Warning] No further splits with positive gain, best gain: -inf\n",
      "[LightGBM] [Warning] No further splits with positive gain, best gain: -inf\n",
      "[LightGBM] [Warning] No further splits with positive gain, best gain: -inf\n",
      "[LightGBM] [Warning] No further splits with positive gain, best gain: -inf\n",
      "[LightGBM] [Warning] No further splits with positive gain, best gain: -inf\n",
      "[LightGBM] [Warning] No further splits with positive gain, best gain: -inf\n",
      "[LightGBM] [Warning] No further splits with positive gain, best gain: -inf\n",
      "[LightGBM] [Warning] No further splits with positive gain, best gain: -inf\n",
      "[LightGBM] [Warning] No further splits with positive gain, best gain: -inf\n",
      "[LightGBM] [Warning] No further splits with positive gain, best gain: -inf\n",
      "[LightGBM] [Warning] No further splits with positive gain, best gain: -inf\n",
      "[LightGBM] [Warning] No further splits with positive gain, best gain: -inf\n",
      "[LightGBM] [Warning] No further splits with positive gain, best gain: -inf\n",
      "[LightGBM] [Warning] No further splits with positive gain, best gain: -inf\n",
      "[LightGBM] [Warning] No further splits with positive gain, best gain: -inf\n",
      "[LightGBM] [Warning] No further splits with positive gain, best gain: -inf\n",
      "[LightGBM] [Warning] No further splits with positive gain, best gain: -inf\n",
      "[LightGBM] [Warning] No further splits with positive gain, best gain: -inf\n",
      "[LightGBM] [Warning] No further splits with positive gain, best gain: -inf\n",
      "[LightGBM] [Warning] No further splits with positive gain, best gain: -inf\n",
      "[LightGBM] [Warning] No further splits with positive gain, best gain: -inf\n",
      "[LightGBM] [Warning] No further splits with positive gain, best gain: -inf\n",
      "[LightGBM] [Warning] No further splits with positive gain, best gain: -inf\n",
      "[LightGBM] [Warning] No further splits with positive gain, best gain: -inf\n",
      "[LightGBM] [Warning] No further splits with positive gain, best gain: -inf\n",
      "[LightGBM] [Warning] No further splits with positive gain, best gain: -inf\n",
      "[LightGBM] [Warning] No further splits with positive gain, best gain: -inf\n",
      "[LightGBM] [Warning] No further splits with positive gain, best gain: -inf\n",
      "[LightGBM] [Warning] No further splits with positive gain, best gain: -inf\n",
      "[LightGBM] [Warning] No further splits with positive gain, best gain: -inf\n",
      "[LightGBM] [Warning] No further splits with positive gain, best gain: -inf\n",
      "[LightGBM] [Warning] No further splits with positive gain, best gain: -inf\n",
      "[LightGBM] [Warning] No further splits with positive gain, best gain: -inf\n",
      "[LightGBM] [Warning] No further splits with positive gain, best gain: -inf\n",
      "[LightGBM] [Warning] No further splits with positive gain, best gain: -inf\n",
      "[LightGBM] [Warning] No further splits with positive gain, best gain: -inf\n",
      "[LightGBM] [Warning] No further splits with positive gain, best gain: -inf\n",
      "[LightGBM] [Warning] No further splits with positive gain, best gain: -inf\n",
      "[LightGBM] [Warning] No further splits with positive gain, best gain: -inf\n",
      "[LightGBM] [Warning] No further splits with positive gain, best gain: -inf\n",
      "[LightGBM] [Warning] No further splits with positive gain, best gain: -inf\n",
      "[LightGBM] [Warning] No further splits with positive gain, best gain: -inf\n",
      "[LightGBM] [Warning] No further splits with positive gain, best gain: -inf\n",
      "[LightGBM] [Warning] No further splits with positive gain, best gain: -inf\n",
      "[LightGBM] [Warning] No further splits with positive gain, best gain: -inf\n",
      "[LightGBM] [Warning] No further splits with positive gain, best gain: -inf\n",
      "[LightGBM] [Warning] No further splits with positive gain, best gain: -inf\n",
      "[LightGBM] [Warning] No further splits with positive gain, best gain: -inf\n",
      "[LightGBM] [Warning] No further splits with positive gain, best gain: -inf\n",
      "[LightGBM] [Warning] No further splits with positive gain, best gain: -inf\n",
      "[LightGBM] [Warning] No further splits with positive gain, best gain: -inf\n",
      "[LightGBM] [Warning] No further splits with positive gain, best gain: -inf\n",
      "[LightGBM] [Warning] No further splits with positive gain, best gain: -inf\n",
      "[LightGBM] [Warning] No further splits with positive gain, best gain: -inf\n",
      "[LightGBM] [Warning] No further splits with positive gain, best gain: -inf\n",
      "[LightGBM] [Warning] No further splits with positive gain, best gain: -inf\n",
      "[LightGBM] [Warning] No further splits with positive gain, best gain: -inf\n",
      "[LightGBM] [Warning] No further splits with positive gain, best gain: -inf\n",
      "[LightGBM] [Warning] No further splits with positive gain, best gain: -inf\n",
      "[LightGBM] [Warning] No further splits with positive gain, best gain: -inf\n",
      "[LightGBM] [Warning] No further splits with positive gain, best gain: -inf\n",
      "[LightGBM] [Warning] No further splits with positive gain, best gain: -inf\n",
      "[LightGBM] [Warning] No further splits with positive gain, best gain: -inf\n",
      "[LightGBM] [Warning] No further splits with positive gain, best gain: -inf\n",
      "[LightGBM] [Warning] No further splits with positive gain, best gain: -inf\n",
      "[LightGBM] [Warning] No further splits with positive gain, best gain: -inf\n",
      "[LightGBM] [Warning] No further splits with positive gain, best gain: -inf\n",
      "[LightGBM] [Warning] No further splits with positive gain, best gain: -inf\n",
      "[LightGBM] [Warning] No further splits with positive gain, best gain: -inf\n",
      "[LightGBM] [Warning] No further splits with positive gain, best gain: -inf\n",
      "[LightGBM] [Warning] No further splits with positive gain, best gain: -inf\n",
      "[LightGBM] [Warning] No further splits with positive gain, best gain: -inf\n",
      "[LightGBM] [Warning] No further splits with positive gain, best gain: -inf\n",
      "[LightGBM] [Warning] No further splits with positive gain, best gain: -inf\n",
      "[LightGBM] [Warning] No further splits with positive gain, best gain: -inf\n",
      "[LightGBM] [Warning] No further splits with positive gain, best gain: -inf\n",
      "[LightGBM] [Warning] No further splits with positive gain, best gain: -inf\n",
      "                               Accuracy  Balanced Accuracy  ROC AUC  F1 Score  \\\n",
      "Model                                                                           \n",
      "AdaBoostClassifier                 0.95               0.96     0.96      0.96   \n",
      "RandomForestClassifier             0.95               0.96     0.96      0.96   \n",
      "ExtraTreeClassifier                0.95               0.94     0.94      0.95   \n",
      "Perceptron                         0.95               0.94     0.94      0.95   \n",
      "PassiveAggressiveClassifier        0.95               0.94     0.94      0.95   \n",
      "XGBClassifier                      0.91               0.93     0.93      0.91   \n",
      "RidgeClassifierCV                  0.91               0.93     0.93      0.91   \n",
      "LabelPropagation                   0.91               0.93     0.93      0.91   \n",
      "LabelSpreading                     0.91               0.93     0.93      0.91   \n",
      "LinearDiscriminantAnalysis         0.86               0.89     0.89      0.87   \n",
      "SVC                                0.86               0.89     0.89      0.87   \n",
      "BaggingClassifier                  0.86               0.89     0.89      0.87   \n",
      "LGBMClassifier                     0.86               0.89     0.89      0.87   \n",
      "KNeighborsClassifier               0.86               0.89     0.89      0.87   \n",
      "NuSVC                              0.91               0.88     0.88      0.91   \n",
      "LogisticRegression                 0.86               0.87     0.87      0.87   \n",
      "ExtraTreesClassifier               0.86               0.87     0.87      0.87   \n",
      "DecisionTreeClassifier             0.86               0.87     0.87      0.87   \n",
      "CalibratedClassifierCV             0.86               0.87     0.87      0.87   \n",
      "LinearSVC                          0.86               0.87     0.87      0.87   \n",
      "RidgeClassifier                    0.82               0.83     0.83      0.82   \n",
      "QuadraticDiscriminantAnalysis      0.86               0.81     0.81      0.85   \n",
      "NearestCentroid                    0.82               0.80     0.80      0.82   \n",
      "GaussianNB                         0.77               0.79     0.79      0.78   \n",
      "BernoulliNB                        0.77               0.79     0.79      0.78   \n",
      "SGDClassifier                      0.77               0.77     0.77      0.78   \n",
      "DummyClassifier                    0.64               0.50     0.50      0.49   \n",
      "\n",
      "                               Time Taken  \n",
      "Model                                      \n",
      "AdaBoostClassifier                   0.11  \n",
      "RandomForestClassifier               0.19  \n",
      "ExtraTreeClassifier                  0.01  \n",
      "Perceptron                           0.01  \n",
      "PassiveAggressiveClassifier          0.01  \n",
      "XGBClassifier                        0.04  \n",
      "RidgeClassifierCV                    0.02  \n",
      "LabelPropagation                     0.02  \n",
      "LabelSpreading                       0.01  \n",
      "LinearDiscriminantAnalysis           0.01  \n",
      "SVC                                  0.02  \n",
      "BaggingClassifier                    0.04  \n",
      "LGBMClassifier                       0.03  \n",
      "KNeighborsClassifier                 0.02  \n",
      "NuSVC                                0.02  \n",
      "LogisticRegression                   0.02  \n",
      "ExtraTreesClassifier                 0.14  \n",
      "DecisionTreeClassifier               0.01  \n",
      "CalibratedClassifierCV               0.05  \n",
      "LinearSVC                            0.02  \n",
      "RidgeClassifier                      0.02  \n",
      "QuadraticDiscriminantAnalysis        0.01  \n",
      "NearestCentroid                      0.02  \n",
      "GaussianNB                           0.02  \n",
      "BernoulliNB                          0.01  \n",
      "SGDClassifier                        0.01  \n",
      "DummyClassifier                      0.01  \n"
     ]
    },
    {
     "name": "stderr",
     "output_type": "stream",
     "text": [
      "\n"
     ]
    }
   ],
   "source": [
    "models, predictions = clf.fit(X_train_scaled, X_test_scaled, y_train, y_test)\n",
    "\n",
    "# Print the model performance\n",
    "print(models)"
   ]
  },
  {
   "cell_type": "markdown",
   "id": "b57b4476",
   "metadata": {
    "papermill": {
     "duration": 0.013919,
     "end_time": "2024-01-29T22:33:01.903475",
     "exception": false,
     "start_time": "2024-01-29T22:33:01.889556",
     "status": "completed"
    },
    "tags": []
   },
   "source": [
    "**After effectively addressing outliers in the dataset, we observed a notable improvement in model accuracy. Outlier handling has played a crucial role in enhancing the robustness of our predictive models, resulting in more accurate and reliable predictions.**"
   ]
  },
  {
   "cell_type": "markdown",
   "id": "7c29bf81",
   "metadata": {
    "papermill": {
     "duration": 0.011229,
     "end_time": "2024-01-29T22:33:01.926572",
     "exception": false,
     "start_time": "2024-01-29T22:33:01.915343",
     "status": "completed"
    },
    "tags": []
   },
   "source": [
    "# ****Your feedback and support are highly valuable – if you found this notebook helpful, consider giving it an upvote.****"
   ]
  }
 ],
 "metadata": {
  "kaggle": {
   "accelerator": "none",
   "dataSources": [
    {
     "datasetId": 3321433,
     "sourceId": 6491929,
     "sourceType": "datasetVersion"
    }
   ],
   "dockerImageVersionId": 30646,
   "isGpuEnabled": false,
   "isInternetEnabled": true,
   "language": "python",
   "sourceType": "notebook"
  },
  "kernelspec": {
   "display_name": "Python 3",
   "language": "python",
   "name": "python3"
  },
  "language_info": {
   "codemirror_mode": {
    "name": "ipython",
    "version": 3
   },
   "file_extension": ".py",
   "mimetype": "text/x-python",
   "name": "python",
   "nbconvert_exporter": "python",
   "pygments_lexer": "ipython3",
   "version": "3.10.13"
  },
  "papermill": {
   "default_parameters": {},
   "duration": 27.672213,
   "end_time": "2024-01-29T22:33:03.163336",
   "environment_variables": {},
   "exception": null,
   "input_path": "__notebook__.ipynb",
   "output_path": "__notebook__.ipynb",
   "parameters": {},
   "start_time": "2024-01-29T22:32:35.491123",
   "version": "2.5.0"
  }
 },
 "nbformat": 4,
 "nbformat_minor": 5
}
